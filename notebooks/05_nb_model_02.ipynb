{
 "cells": [
  {
   "cell_type": "markdown",
   "metadata": {},
   "source": [
    "# Baseline Model for Twitter Sentiment Analysis"
   ]
  },
  {
   "cell_type": "markdown",
   "metadata": {},
   "source": [
    "This model will use Multinomial Naive Bayes with Vector Count (bag of words) to classify the tweets.\n",
    "\n",
    "It will create bi-grams to attempt to add context to the words in the tweets.\n",
    "\n",
    "It will add a list of common stop words to remove from the tweets when creating the bi-grams.\n",
    "\n",
    "Like the model in [nb_model_01](nb_model_01) the min document frequency will be tested when creating the bi-grams"
   ]
  },
  {
   "cell_type": "markdown",
   "metadata": {},
   "source": [
    "# Imports and Constants"
   ]
  },
  {
   "cell_type": "code",
   "execution_count": 1,
   "metadata": {
    "ExecuteTime": {
     "end_time": "2020-09-04T19:50:16.563941Z",
     "start_time": "2020-09-04T19:50:15.300906Z"
    }
   },
   "outputs": [],
   "source": [
    "import pandas as pd\n",
    "import numpy as np\n",
    "from sklearn.naive_bayes import MultinomialNB\n",
    "from sklearn.model_selection import train_test_split\n",
    "from sklearn.feature_extraction.text import CountVectorizer\n",
    "from sklearn.pipeline import Pipeline\n",
    "from sklearn.preprocessing import LabelEncoder\n",
    "from sklearn.metrics import classification_report, plot_confusion_matrix\n",
    "import matplotlib.pyplot as plt\n",
    "%matplotlib inline\n",
    "from sklearn.metrics import precision_recall_curve, auc\n",
    "from sklearn.metrics import accuracy_score, f1_score, recall_score\n",
    "from sklearn.preprocessing import LabelBinarizer\n",
    "import evaluation_functions\n",
    "import ast"
   ]
  },
  {
   "cell_type": "code",
   "execution_count": 2,
   "metadata": {
    "ExecuteTime": {
     "end_time": "2020-09-04T19:50:16.570726Z",
     "start_time": "2020-09-04T19:50:16.566373Z"
    }
   },
   "outputs": [],
   "source": [
    "DATA_FILE_PATH = 'C:\\\\Users\\\\Yostina\\\\Twitter\\\\'\n",
    "TOKENIZED_DATA_FILE_NAME = 'tokenized_Feedback_data.csv'\n",
    "pd.set_option('display.max_colwidth', None)\n",
    "RANDOM_STATE = 42"
   ]
  },
  {
   "cell_type": "markdown",
   "metadata": {},
   "source": [
    "# Load Data"
   ]
  },
  {
   "cell_type": "code",
   "execution_count": 3,
   "metadata": {
    "ExecuteTime": {
     "end_time": "2020-09-04T19:50:16.625107Z",
     "start_time": "2020-09-04T19:50:16.574528Z"
    }
   },
   "outputs": [],
   "source": [
    "df = pd.read_csv(DATA_FILE_PATH + TOKENIZED_DATA_FILE_NAME)"
   ]
  },
  {
   "cell_type": "code",
   "execution_count": 18,
   "metadata": {
    "ExecuteTime": {
     "end_time": "2020-09-04T19:50:16.650167Z",
     "start_time": "2020-09-04T19:50:16.627615Z"
    }
   },
   "outputs": [
    {
     "data": {
      "text/html": [
       "<div>\n",
       "<style scoped>\n",
       "    .dataframe tbody tr th:only-of-type {\n",
       "        vertical-align: middle;\n",
       "    }\n",
       "\n",
       "    .dataframe tbody tr th {\n",
       "        vertical-align: top;\n",
       "    }\n",
       "\n",
       "    .dataframe thead th {\n",
       "        text-align: right;\n",
       "    }\n",
       "</style>\n",
       "<table border=\"1\" class=\"dataframe\">\n",
       "  <thead>\n",
       "    <tr style=\"text-align: right;\">\n",
       "      <th></th>\n",
       "      <th>No</th>\n",
       "      <th>fbid</th>\n",
       "      <th>Region</th>\n",
       "      <th>Sex</th>\n",
       "      <th>Age</th>\n",
       "      <th>Edu_Level</th>\n",
       "      <th>Feedback</th>\n",
       "      <th>Fb_Day</th>\n",
       "      <th>Fb_Month</th>\n",
       "      <th>Fb_Year</th>\n",
       "      <th>Category</th>\n",
       "      <th>sentiment</th>\n",
       "      <th>tokens</th>\n",
       "    </tr>\n",
       "  </thead>\n",
       "  <tbody>\n",
       "    <tr>\n",
       "      <th>0</th>\n",
       "      <td>1</td>\n",
       "      <td>1</td>\n",
       "      <td>Debube</td>\n",
       "      <td>M</td>\n",
       "      <td>50</td>\n",
       "      <td>10+2</td>\n",
       "      <td>ማክሰኞ የቀረበው 3፡00 እስከ 4፡00 የቀረበው ጤናዎ በቤትዎ በልጆች እንቅልፍ ላይ በጣም ብዙነገር ተምረናል ጠቅላይ ሚኒስትር አብይ ፡፡</td>\n",
       "      <td>1</td>\n",
       "      <td>1</td>\n",
       "      <td>2008</td>\n",
       "      <td>ETV</td>\n",
       "      <td>-1</td>\n",
       "      <td>[ማክሰኞ, የቀረበው, 3, ፡, 00, እስከ, 4, ፡, 00, የቀረበው, ጤናዎ, በቤትዎ, በልጆች, እንቅልፍ, ላይ, በጣም, ብዙነገር, ተምረናል, ጠቅላይ, ሚኒስትር, አብይ, ፡, ፡]</td>\n",
       "    </tr>\n",
       "    <tr>\n",
       "      <th>1</th>\n",
       "      <td>2</td>\n",
       "      <td>2</td>\n",
       "      <td>Debube</td>\n",
       "      <td>M</td>\n",
       "      <td>50</td>\n",
       "      <td>10+3</td>\n",
       "      <td>በወቅታዊ እና ማህበራዊ ጉዳዮች ላይ የምታቀርቡት መረጃዎች በጣም ጥሩ ነው በዚሁ ቀጥሉ፡፡</td>\n",
       "      <td>1</td>\n",
       "      <td>1</td>\n",
       "      <td>2008</td>\n",
       "      <td>ETV</td>\n",
       "      <td>1</td>\n",
       "      <td>[በወቅታዊ, እና, ማህበራዊ, ጉዳዮች, ላይ, የምታቀርቡት, መረጃዎች, በጣም, ጥሩ, ነው, በዚሁ, ቀጥሉ, ፡, ፡]</td>\n",
       "    </tr>\n",
       "    <tr>\n",
       "      <th>2</th>\n",
       "      <td>3</td>\n",
       "      <td>3</td>\n",
       "      <td>Debube</td>\n",
       "      <td>M</td>\n",
       "      <td>50</td>\n",
       "      <td>10+4</td>\n",
       "      <td>ማክሰኞ የቀረበው ጤናዎ በቤትዎ ዝግጅት በህፃናት እንቅልፍ ላይ በጣም ጥሩ ትምህርት አግኝተናል በዚሁ ይቀጥል፡፡</td>\n",
       "      <td>1</td>\n",
       "      <td>1</td>\n",
       "      <td>2008</td>\n",
       "      <td>ETV</td>\n",
       "      <td>1</td>\n",
       "      <td>[ማክሰኞ, የቀረበው, ጤናዎ, በቤትዎ, ዝግጅት, በህፃናት, እንቅልፍ, ላይ, በጣም, ጥሩ, ትምህርት, አግኝተናል, በዚሁ, ይቀጥል, ፡, ፡]</td>\n",
       "    </tr>\n",
       "    <tr>\n",
       "      <th>3</th>\n",
       "      <td>4</td>\n",
       "      <td>4</td>\n",
       "      <td>Debube</td>\n",
       "      <td>M</td>\n",
       "      <td>50</td>\n",
       "      <td>10+5</td>\n",
       "      <td>በአሁኑ ሰዓት በጣም የምንከታተለው ጥሩ መረጃ የሚሰጥ ስለሆነ በዚሁ ተጠናክሮ ይቀጥል፡፡</td>\n",
       "      <td>1</td>\n",
       "      <td>1</td>\n",
       "      <td>2008</td>\n",
       "      <td>ETV</td>\n",
       "      <td>1</td>\n",
       "      <td>[በአሁኑ, ሰዓት, በጣም, የምንከታተለው, ጥሩ, መረጃ, የሚሰጥ, ስለሆነ, በዚሁ, ተጠናክሮ, ይቀጥል, ፡, ፡]</td>\n",
       "    </tr>\n",
       "    <tr>\n",
       "      <th>4</th>\n",
       "      <td>5</td>\n",
       "      <td>5</td>\n",
       "      <td>Debube</td>\n",
       "      <td>M</td>\n",
       "      <td>30</td>\n",
       "      <td>10</td>\n",
       "      <td>ቢያስተካክል የምንለው እንደዚህ አይነት አስተማሪ ፕሮግራም ሲቀርብ ስልክ የምታቀርቡት የውሸት ነው ግልፅ አይደለም ይህን ብታስተካክሉ፡፡</td>\n",
       "      <td>1</td>\n",
       "      <td>1</td>\n",
       "      <td>2008</td>\n",
       "      <td>ETV</td>\n",
       "      <td>0</td>\n",
       "      <td>[ቢያስተካክል, የምንለው, እንደዚህ, አይነት, አስተማሪ, ፕሮግራም, ሲቀርብ, ስልክ, የምታቀርቡት, የውሸት, ነው, ግልፅ, አይደለም, ይህን, ብታስተካክሉ, ፡, ፡]</td>\n",
       "    </tr>\n",
       "  </tbody>\n",
       "</table>\n",
       "</div>"
      ],
      "text/plain": [
       "   No  fbid  Region Sex  Age Edu_Level  \\\n",
       "0   1     1  Debube   M   50      10+2   \n",
       "1   2     2  Debube   M   50      10+3   \n",
       "2   3     3  Debube   M   50      10+4   \n",
       "3   4     4  Debube   M   50      10+5   \n",
       "4   5     5  Debube   M   30        10   \n",
       "\n",
       "                                                                                     Feedback  \\\n",
       "0    ማክሰኞ የቀረበው 3፡00 እስከ 4፡00 የቀረበው ጤናዎ በቤትዎ በልጆች እንቅልፍ ላይ በጣም ብዙነገር ተምረናል ጠቅላይ ሚኒስትር አብይ ፡፡    \n",
       "1                                    በወቅታዊ እና ማህበራዊ ጉዳዮች ላይ የምታቀርቡት መረጃዎች በጣም ጥሩ ነው በዚሁ ቀጥሉ፡፡   \n",
       "2                      ማክሰኞ የቀረበው ጤናዎ በቤትዎ ዝግጅት በህፃናት እንቅልፍ ላይ በጣም ጥሩ ትምህርት አግኝተናል በዚሁ ይቀጥል፡፡   \n",
       "3                                     በአሁኑ ሰዓት በጣም የምንከታተለው ጥሩ መረጃ የሚሰጥ ስለሆነ በዚሁ ተጠናክሮ ይቀጥል፡፡   \n",
       "4       ቢያስተካክል የምንለው እንደዚህ አይነት አስተማሪ ፕሮግራም ሲቀርብ ስልክ የምታቀርቡት የውሸት ነው ግልፅ አይደለም ይህን ብታስተካክሉ፡፡   \n",
       "\n",
       "   Fb_Day  Fb_Month  Fb_Year Category  sentiment  \\\n",
       "0       1         1     2008      ETV         -1   \n",
       "1       1         1     2008      ETV          1   \n",
       "2       1         1     2008      ETV          1   \n",
       "3       1         1     2008      ETV          1   \n",
       "4       1         1     2008      ETV          0   \n",
       "\n",
       "                                                                                                                 tokens  \n",
       "0  [ማክሰኞ, የቀረበው, 3, ፡, 00, እስከ, 4, ፡, 00, የቀረበው, ጤናዎ, በቤትዎ, በልጆች, እንቅልፍ, ላይ, በጣም, ብዙነገር, ተምረናል, ጠቅላይ, ሚኒስትር, አብይ, ፡, ፡]  \n",
       "1                                             [በወቅታዊ, እና, ማህበራዊ, ጉዳዮች, ላይ, የምታቀርቡት, መረጃዎች, በጣም, ጥሩ, ነው, በዚሁ, ቀጥሉ, ፡, ፡]  \n",
       "2                             [ማክሰኞ, የቀረበው, ጤናዎ, በቤትዎ, ዝግጅት, በህፃናት, እንቅልፍ, ላይ, በጣም, ጥሩ, ትምህርት, አግኝተናል, በዚሁ, ይቀጥል, ፡, ፡]  \n",
       "3                                               [በአሁኑ, ሰዓት, በጣም, የምንከታተለው, ጥሩ, መረጃ, የሚሰጥ, ስለሆነ, በዚሁ, ተጠናክሮ, ይቀጥል, ፡, ፡]  \n",
       "4             [ቢያስተካክል, የምንለው, እንደዚህ, አይነት, አስተማሪ, ፕሮግራም, ሲቀርብ, ስልክ, የምታቀርቡት, የውሸት, ነው, ግልፅ, አይደለም, ይህን, ብታስተካክሉ, ፡, ፡]  "
      ]
     },
     "execution_count": 18,
     "metadata": {},
     "output_type": "execute_result"
    }
   ],
   "source": [
    "df.head()"
   ]
  },
  {
   "cell_type": "code",
   "execution_count": 19,
   "metadata": {
    "ExecuteTime": {
     "end_time": "2020-09-04T19:50:17.091893Z",
     "start_time": "2020-09-04T19:50:16.653410Z"
    }
   },
   "outputs": [
    {
     "ename": "ValueError",
     "evalue": "malformed node or string: ['ማክሰኞ', 'የቀረበው', '3', '፡', '00', 'እስከ', '4', '፡', '00', 'የቀረበው', 'ጤናዎ', 'በቤትዎ', 'በልጆች', 'እንቅልፍ', 'ላይ', 'በጣም', 'ብዙነገር', 'ተምረናል', 'ጠቅላይ', 'ሚኒስትር', 'አብይ', '፡', '፡']",
     "output_type": "error",
     "traceback": [
      "\u001b[1;31m---------------------------------------------------------------------------\u001b[0m",
      "\u001b[1;31mValueError\u001b[0m                                Traceback (most recent call last)",
      "\u001b[1;32m<ipython-input-19-15716237598d>\u001b[0m in \u001b[0;36m<module>\u001b[1;34m\u001b[0m\n\u001b[0;32m      1\u001b[0m \u001b[1;31m# convert list of strings represented as a string to a list of strings\u001b[0m\u001b[1;33m\u001b[0m\u001b[1;33m\u001b[0m\u001b[1;33m\u001b[0m\u001b[0m\n\u001b[1;32m----> 2\u001b[1;33m \u001b[0mdf\u001b[0m\u001b[1;33m.\u001b[0m\u001b[0mtokens\u001b[0m \u001b[1;33m=\u001b[0m \u001b[0mdf\u001b[0m\u001b[1;33m.\u001b[0m\u001b[0mtokens\u001b[0m\u001b[1;33m.\u001b[0m\u001b[0mmap\u001b[0m\u001b[1;33m(\u001b[0m\u001b[0mast\u001b[0m\u001b[1;33m.\u001b[0m\u001b[0mliteral_eval\u001b[0m\u001b[1;33m)\u001b[0m\u001b[1;33m\u001b[0m\u001b[1;33m\u001b[0m\u001b[0m\n\u001b[0m",
      "\u001b[1;32m~\\anaconda3\\lib\\site-packages\\pandas\\core\\series.py\u001b[0m in \u001b[0;36mmap\u001b[1;34m(self, arg, na_action)\u001b[0m\n\u001b[0;32m   3968\u001b[0m         \u001b[0mdtype\u001b[0m\u001b[1;33m:\u001b[0m \u001b[0mobject\u001b[0m\u001b[1;33m\u001b[0m\u001b[1;33m\u001b[0m\u001b[0m\n\u001b[0;32m   3969\u001b[0m         \"\"\"\n\u001b[1;32m-> 3970\u001b[1;33m         \u001b[0mnew_values\u001b[0m \u001b[1;33m=\u001b[0m \u001b[0msuper\u001b[0m\u001b[1;33m(\u001b[0m\u001b[1;33m)\u001b[0m\u001b[1;33m.\u001b[0m\u001b[0m_map_values\u001b[0m\u001b[1;33m(\u001b[0m\u001b[0marg\u001b[0m\u001b[1;33m,\u001b[0m \u001b[0mna_action\u001b[0m\u001b[1;33m=\u001b[0m\u001b[0mna_action\u001b[0m\u001b[1;33m)\u001b[0m\u001b[1;33m\u001b[0m\u001b[1;33m\u001b[0m\u001b[0m\n\u001b[0m\u001b[0;32m   3971\u001b[0m         return self._constructor(new_values, index=self.index).__finalize__(\n\u001b[0;32m   3972\u001b[0m             \u001b[0mself\u001b[0m\u001b[1;33m,\u001b[0m \u001b[0mmethod\u001b[0m\u001b[1;33m=\u001b[0m\u001b[1;34m\"map\"\u001b[0m\u001b[1;33m\u001b[0m\u001b[1;33m\u001b[0m\u001b[0m\n",
      "\u001b[1;32m~\\anaconda3\\lib\\site-packages\\pandas\\core\\base.py\u001b[0m in \u001b[0;36m_map_values\u001b[1;34m(self, mapper, na_action)\u001b[0m\n\u001b[0;32m   1158\u001b[0m \u001b[1;33m\u001b[0m\u001b[0m\n\u001b[0;32m   1159\u001b[0m         \u001b[1;31m# mapper is a function\u001b[0m\u001b[1;33m\u001b[0m\u001b[1;33m\u001b[0m\u001b[1;33m\u001b[0m\u001b[0m\n\u001b[1;32m-> 1160\u001b[1;33m         \u001b[0mnew_values\u001b[0m \u001b[1;33m=\u001b[0m \u001b[0mmap_f\u001b[0m\u001b[1;33m(\u001b[0m\u001b[0mvalues\u001b[0m\u001b[1;33m,\u001b[0m \u001b[0mmapper\u001b[0m\u001b[1;33m)\u001b[0m\u001b[1;33m\u001b[0m\u001b[1;33m\u001b[0m\u001b[0m\n\u001b[0m\u001b[0;32m   1161\u001b[0m \u001b[1;33m\u001b[0m\u001b[0m\n\u001b[0;32m   1162\u001b[0m         \u001b[1;32mreturn\u001b[0m \u001b[0mnew_values\u001b[0m\u001b[1;33m\u001b[0m\u001b[1;33m\u001b[0m\u001b[0m\n",
      "\u001b[1;32mpandas\\_libs\\lib.pyx\u001b[0m in \u001b[0;36mpandas._libs.lib.map_infer\u001b[1;34m()\u001b[0m\n",
      "\u001b[1;32m~\\anaconda3\\lib\\ast.py\u001b[0m in \u001b[0;36mliteral_eval\u001b[1;34m(node_or_string)\u001b[0m\n\u001b[0;32m     97\u001b[0m                     \u001b[1;32mreturn\u001b[0m \u001b[0mleft\u001b[0m \u001b[1;33m-\u001b[0m \u001b[0mright\u001b[0m\u001b[1;33m\u001b[0m\u001b[1;33m\u001b[0m\u001b[0m\n\u001b[0;32m     98\u001b[0m         \u001b[1;32mreturn\u001b[0m \u001b[0m_convert_signed_num\u001b[0m\u001b[1;33m(\u001b[0m\u001b[0mnode\u001b[0m\u001b[1;33m)\u001b[0m\u001b[1;33m\u001b[0m\u001b[1;33m\u001b[0m\u001b[0m\n\u001b[1;32m---> 99\u001b[1;33m     \u001b[1;32mreturn\u001b[0m \u001b[0m_convert\u001b[0m\u001b[1;33m(\u001b[0m\u001b[0mnode_or_string\u001b[0m\u001b[1;33m)\u001b[0m\u001b[1;33m\u001b[0m\u001b[1;33m\u001b[0m\u001b[0m\n\u001b[0m\u001b[0;32m    100\u001b[0m \u001b[1;33m\u001b[0m\u001b[0m\n\u001b[0;32m    101\u001b[0m \u001b[1;33m\u001b[0m\u001b[0m\n",
      "\u001b[1;32m~\\anaconda3\\lib\\ast.py\u001b[0m in \u001b[0;36m_convert\u001b[1;34m(node)\u001b[0m\n\u001b[0;32m     96\u001b[0m                 \u001b[1;32melse\u001b[0m\u001b[1;33m:\u001b[0m\u001b[1;33m\u001b[0m\u001b[1;33m\u001b[0m\u001b[0m\n\u001b[0;32m     97\u001b[0m                     \u001b[1;32mreturn\u001b[0m \u001b[0mleft\u001b[0m \u001b[1;33m-\u001b[0m \u001b[0mright\u001b[0m\u001b[1;33m\u001b[0m\u001b[1;33m\u001b[0m\u001b[0m\n\u001b[1;32m---> 98\u001b[1;33m         \u001b[1;32mreturn\u001b[0m \u001b[0m_convert_signed_num\u001b[0m\u001b[1;33m(\u001b[0m\u001b[0mnode\u001b[0m\u001b[1;33m)\u001b[0m\u001b[1;33m\u001b[0m\u001b[1;33m\u001b[0m\u001b[0m\n\u001b[0m\u001b[0;32m     99\u001b[0m     \u001b[1;32mreturn\u001b[0m \u001b[0m_convert\u001b[0m\u001b[1;33m(\u001b[0m\u001b[0mnode_or_string\u001b[0m\u001b[1;33m)\u001b[0m\u001b[1;33m\u001b[0m\u001b[1;33m\u001b[0m\u001b[0m\n\u001b[0;32m    100\u001b[0m \u001b[1;33m\u001b[0m\u001b[0m\n",
      "\u001b[1;32m~\\anaconda3\\lib\\ast.py\u001b[0m in \u001b[0;36m_convert_signed_num\u001b[1;34m(node)\u001b[0m\n\u001b[0;32m     73\u001b[0m             \u001b[1;32melse\u001b[0m\u001b[1;33m:\u001b[0m\u001b[1;33m\u001b[0m\u001b[1;33m\u001b[0m\u001b[0m\n\u001b[0;32m     74\u001b[0m                 \u001b[1;32mreturn\u001b[0m \u001b[1;33m-\u001b[0m \u001b[0moperand\u001b[0m\u001b[1;33m\u001b[0m\u001b[1;33m\u001b[0m\u001b[0m\n\u001b[1;32m---> 75\u001b[1;33m         \u001b[1;32mreturn\u001b[0m \u001b[0m_convert_num\u001b[0m\u001b[1;33m(\u001b[0m\u001b[0mnode\u001b[0m\u001b[1;33m)\u001b[0m\u001b[1;33m\u001b[0m\u001b[1;33m\u001b[0m\u001b[0m\n\u001b[0m\u001b[0;32m     76\u001b[0m     \u001b[1;32mdef\u001b[0m \u001b[0m_convert\u001b[0m\u001b[1;33m(\u001b[0m\u001b[0mnode\u001b[0m\u001b[1;33m)\u001b[0m\u001b[1;33m:\u001b[0m\u001b[1;33m\u001b[0m\u001b[1;33m\u001b[0m\u001b[0m\n\u001b[0;32m     77\u001b[0m         \u001b[1;32mif\u001b[0m \u001b[0misinstance\u001b[0m\u001b[1;33m(\u001b[0m\u001b[0mnode\u001b[0m\u001b[1;33m,\u001b[0m \u001b[0mConstant\u001b[0m\u001b[1;33m)\u001b[0m\u001b[1;33m:\u001b[0m\u001b[1;33m\u001b[0m\u001b[1;33m\u001b[0m\u001b[0m\n",
      "\u001b[1;32m~\\anaconda3\\lib\\ast.py\u001b[0m in \u001b[0;36m_convert_num\u001b[1;34m(node)\u001b[0m\n\u001b[0;32m     64\u001b[0m     \u001b[1;32mdef\u001b[0m \u001b[0m_convert_num\u001b[0m\u001b[1;33m(\u001b[0m\u001b[0mnode\u001b[0m\u001b[1;33m)\u001b[0m\u001b[1;33m:\u001b[0m\u001b[1;33m\u001b[0m\u001b[1;33m\u001b[0m\u001b[0m\n\u001b[0;32m     65\u001b[0m         \u001b[1;32mif\u001b[0m \u001b[1;32mnot\u001b[0m \u001b[0misinstance\u001b[0m\u001b[1;33m(\u001b[0m\u001b[0mnode\u001b[0m\u001b[1;33m,\u001b[0m \u001b[0mConstant\u001b[0m\u001b[1;33m)\u001b[0m \u001b[1;32mor\u001b[0m \u001b[0mtype\u001b[0m\u001b[1;33m(\u001b[0m\u001b[0mnode\u001b[0m\u001b[1;33m.\u001b[0m\u001b[0mvalue\u001b[0m\u001b[1;33m)\u001b[0m \u001b[1;32mnot\u001b[0m \u001b[1;32min\u001b[0m \u001b[1;33m(\u001b[0m\u001b[0mint\u001b[0m\u001b[1;33m,\u001b[0m \u001b[0mfloat\u001b[0m\u001b[1;33m,\u001b[0m \u001b[0mcomplex\u001b[0m\u001b[1;33m)\u001b[0m\u001b[1;33m:\u001b[0m\u001b[1;33m\u001b[0m\u001b[1;33m\u001b[0m\u001b[0m\n\u001b[1;32m---> 66\u001b[1;33m             \u001b[0m_raise_malformed_node\u001b[0m\u001b[1;33m(\u001b[0m\u001b[0mnode\u001b[0m\u001b[1;33m)\u001b[0m\u001b[1;33m\u001b[0m\u001b[1;33m\u001b[0m\u001b[0m\n\u001b[0m\u001b[0;32m     67\u001b[0m         \u001b[1;32mreturn\u001b[0m \u001b[0mnode\u001b[0m\u001b[1;33m.\u001b[0m\u001b[0mvalue\u001b[0m\u001b[1;33m\u001b[0m\u001b[1;33m\u001b[0m\u001b[0m\n\u001b[0;32m     68\u001b[0m     \u001b[1;32mdef\u001b[0m \u001b[0m_convert_signed_num\u001b[0m\u001b[1;33m(\u001b[0m\u001b[0mnode\u001b[0m\u001b[1;33m)\u001b[0m\u001b[1;33m:\u001b[0m\u001b[1;33m\u001b[0m\u001b[1;33m\u001b[0m\u001b[0m\n",
      "\u001b[1;32m~\\anaconda3\\lib\\ast.py\u001b[0m in \u001b[0;36m_raise_malformed_node\u001b[1;34m(node)\u001b[0m\n\u001b[0;32m     61\u001b[0m         \u001b[0mnode_or_string\u001b[0m \u001b[1;33m=\u001b[0m \u001b[0mnode_or_string\u001b[0m\u001b[1;33m.\u001b[0m\u001b[0mbody\u001b[0m\u001b[1;33m\u001b[0m\u001b[1;33m\u001b[0m\u001b[0m\n\u001b[0;32m     62\u001b[0m     \u001b[1;32mdef\u001b[0m \u001b[0m_raise_malformed_node\u001b[0m\u001b[1;33m(\u001b[0m\u001b[0mnode\u001b[0m\u001b[1;33m)\u001b[0m\u001b[1;33m:\u001b[0m\u001b[1;33m\u001b[0m\u001b[1;33m\u001b[0m\u001b[0m\n\u001b[1;32m---> 63\u001b[1;33m         \u001b[1;32mraise\u001b[0m \u001b[0mValueError\u001b[0m\u001b[1;33m(\u001b[0m\u001b[1;34mf'malformed node or string: {node!r}'\u001b[0m\u001b[1;33m)\u001b[0m\u001b[1;33m\u001b[0m\u001b[1;33m\u001b[0m\u001b[0m\n\u001b[0m\u001b[0;32m     64\u001b[0m     \u001b[1;32mdef\u001b[0m \u001b[0m_convert_num\u001b[0m\u001b[1;33m(\u001b[0m\u001b[0mnode\u001b[0m\u001b[1;33m)\u001b[0m\u001b[1;33m:\u001b[0m\u001b[1;33m\u001b[0m\u001b[1;33m\u001b[0m\u001b[0m\n\u001b[0;32m     65\u001b[0m         \u001b[1;32mif\u001b[0m \u001b[1;32mnot\u001b[0m \u001b[0misinstance\u001b[0m\u001b[1;33m(\u001b[0m\u001b[0mnode\u001b[0m\u001b[1;33m,\u001b[0m \u001b[0mConstant\u001b[0m\u001b[1;33m)\u001b[0m \u001b[1;32mor\u001b[0m \u001b[0mtype\u001b[0m\u001b[1;33m(\u001b[0m\u001b[0mnode\u001b[0m\u001b[1;33m.\u001b[0m\u001b[0mvalue\u001b[0m\u001b[1;33m)\u001b[0m \u001b[1;32mnot\u001b[0m \u001b[1;32min\u001b[0m \u001b[1;33m(\u001b[0m\u001b[0mint\u001b[0m\u001b[1;33m,\u001b[0m \u001b[0mfloat\u001b[0m\u001b[1;33m,\u001b[0m \u001b[0mcomplex\u001b[0m\u001b[1;33m)\u001b[0m\u001b[1;33m:\u001b[0m\u001b[1;33m\u001b[0m\u001b[1;33m\u001b[0m\u001b[0m\n",
      "\u001b[1;31mValueError\u001b[0m: malformed node or string: ['ማክሰኞ', 'የቀረበው', '3', '፡', '00', 'እስከ', '4', '፡', '00', 'የቀረበው', 'ጤናዎ', 'በቤትዎ', 'በልጆች', 'እንቅልፍ', 'ላይ', 'በጣም', 'ብዙነገር', 'ተምረናል', 'ጠቅላይ', 'ሚኒስትር', 'አብይ', '፡', '፡']"
     ]
    }
   ],
   "source": [
    "# convert list of strings represented as a string to a list of strings\n",
    "df.tokens = df.tokens.map(ast.literal_eval)"
   ]
  },
  {
   "cell_type": "code",
   "execution_count": null,
   "metadata": {
    "ExecuteTime": {
     "end_time": "2020-09-04T19:50:17.099464Z",
     "start_time": "2020-09-04T19:50:17.094061Z"
    }
   },
   "outputs": [],
   "source": [
    "data = df[['tokens', 'Category']]"
   ]
  },
  {
   "cell_type": "code",
   "execution_count": 20,
   "metadata": {
    "ExecuteTime": {
     "end_time": "2020-09-04T19:50:17.117537Z",
     "start_time": "2020-09-04T19:50:17.102036Z"
    }
   },
   "outputs": [
    {
     "data": {
      "text/html": [
       "<div>\n",
       "<style scoped>\n",
       "    .dataframe tbody tr th:only-of-type {\n",
       "        vertical-align: middle;\n",
       "    }\n",
       "\n",
       "    .dataframe tbody tr th {\n",
       "        vertical-align: top;\n",
       "    }\n",
       "\n",
       "    .dataframe thead th {\n",
       "        text-align: right;\n",
       "    }\n",
       "</style>\n",
       "<table border=\"1\" class=\"dataframe\">\n",
       "  <thead>\n",
       "    <tr style=\"text-align: right;\">\n",
       "      <th></th>\n",
       "      <th>tokens</th>\n",
       "      <th>Category</th>\n",
       "    </tr>\n",
       "  </thead>\n",
       "  <tbody>\n",
       "    <tr>\n",
       "      <th>0</th>\n",
       "      <td>[ማክሰኞ, የቀረበው, 3, ፡, 00, እስከ, 4, ፡, 00, የቀረበው, ጤናዎ, በቤትዎ, በልጆች, እንቅልፍ, ላይ, በጣም, ብዙነገር, ተምረናል, ጠቅላይ, ሚኒስትር, አብይ, ፡, ፡]</td>\n",
       "      <td>ETV</td>\n",
       "    </tr>\n",
       "    <tr>\n",
       "      <th>1</th>\n",
       "      <td>[በወቅታዊ, እና, ማህበራዊ, ጉዳዮች, ላይ, የምታቀርቡት, መረጃዎች, በጣም, ጥሩ, ነው, በዚሁ, ቀጥሉ, ፡, ፡]</td>\n",
       "      <td>ETV</td>\n",
       "    </tr>\n",
       "    <tr>\n",
       "      <th>2</th>\n",
       "      <td>[ማክሰኞ, የቀረበው, ጤናዎ, በቤትዎ, ዝግጅት, በህፃናት, እንቅልፍ, ላይ, በጣም, ጥሩ, ትምህርት, አግኝተናል, በዚሁ, ይቀጥል, ፡, ፡]</td>\n",
       "      <td>ETV</td>\n",
       "    </tr>\n",
       "    <tr>\n",
       "      <th>3</th>\n",
       "      <td>[በአሁኑ, ሰዓት, በጣም, የምንከታተለው, ጥሩ, መረጃ, የሚሰጥ, ስለሆነ, በዚሁ, ተጠናክሮ, ይቀጥል, ፡, ፡]</td>\n",
       "      <td>ETV</td>\n",
       "    </tr>\n",
       "    <tr>\n",
       "      <th>4</th>\n",
       "      <td>[ቢያስተካክል, የምንለው, እንደዚህ, አይነት, አስተማሪ, ፕሮግራም, ሲቀርብ, ስልክ, የምታቀርቡት, የውሸት, ነው, ግልፅ, አይደለም, ይህን, ብታስተካክሉ, ፡, ፡]</td>\n",
       "      <td>ETV</td>\n",
       "    </tr>\n",
       "  </tbody>\n",
       "</table>\n",
       "</div>"
      ],
      "text/plain": [
       "                                                                                                                 tokens  \\\n",
       "0  [ማክሰኞ, የቀረበው, 3, ፡, 00, እስከ, 4, ፡, 00, የቀረበው, ጤናዎ, በቤትዎ, በልጆች, እንቅልፍ, ላይ, በጣም, ብዙነገር, ተምረናል, ጠቅላይ, ሚኒስትር, አብይ, ፡, ፡]   \n",
       "1                                             [በወቅታዊ, እና, ማህበራዊ, ጉዳዮች, ላይ, የምታቀርቡት, መረጃዎች, በጣም, ጥሩ, ነው, በዚሁ, ቀጥሉ, ፡, ፡]   \n",
       "2                             [ማክሰኞ, የቀረበው, ጤናዎ, በቤትዎ, ዝግጅት, በህፃናት, እንቅልፍ, ላይ, በጣም, ጥሩ, ትምህርት, አግኝተናል, በዚሁ, ይቀጥል, ፡, ፡]   \n",
       "3                                               [በአሁኑ, ሰዓት, በጣም, የምንከታተለው, ጥሩ, መረጃ, የሚሰጥ, ስለሆነ, በዚሁ, ተጠናክሮ, ይቀጥል, ፡, ፡]   \n",
       "4             [ቢያስተካክል, የምንለው, እንደዚህ, አይነት, አስተማሪ, ፕሮግራም, ሲቀርብ, ስልክ, የምታቀርቡት, የውሸት, ነው, ግልፅ, አይደለም, ይህን, ብታስተካክሉ, ፡, ፡]   \n",
       "\n",
       "  Category  \n",
       "0      ETV  \n",
       "1      ETV  \n",
       "2      ETV  \n",
       "3      ETV  \n",
       "4      ETV  "
      ]
     },
     "execution_count": 20,
     "metadata": {},
     "output_type": "execute_result"
    }
   ],
   "source": [
    "data.head()"
   ]
  },
  {
   "cell_type": "markdown",
   "metadata": {},
   "source": [
    "# Split Data"
   ]
  },
  {
   "cell_type": "code",
   "execution_count": 21,
   "metadata": {
    "ExecuteTime": {
     "end_time": "2020-09-04T19:50:17.142731Z",
     "start_time": "2020-09-04T19:50:17.123134Z"
    }
   },
   "outputs": [],
   "source": [
    "X_train, X_test, y_train, y_test = train_test_split(data['tokens'], \n",
    "                                                    data['Category'],\n",
    "                                                   test_size = 0.2,\n",
    "                                                   random_state = RANDOM_STATE,\n",
    "                                                   stratify = data['Category'])"
   ]
  },
  {
   "cell_type": "code",
   "execution_count": 22,
   "metadata": {
    "ExecuteTime": {
     "end_time": "2020-09-04T19:50:17.153757Z",
     "start_time": "2020-09-04T19:50:17.146203Z"
    }
   },
   "outputs": [
    {
     "data": {
      "text/plain": [
       "(12,)"
      ]
     },
     "execution_count": 22,
     "metadata": {},
     "output_type": "execute_result"
    }
   ],
   "source": [
    "X_train.shape"
   ]
  },
  {
   "cell_type": "code",
   "execution_count": 23,
   "metadata": {
    "ExecuteTime": {
     "end_time": "2020-09-04T19:50:17.162008Z",
     "start_time": "2020-09-04T19:50:17.156166Z"
    }
   },
   "outputs": [
    {
     "data": {
      "text/plain": [
       "(3,)"
      ]
     },
     "execution_count": 23,
     "metadata": {},
     "output_type": "execute_result"
    }
   ],
   "source": [
    "X_test.shape"
   ]
  },
  {
   "cell_type": "markdown",
   "metadata": {},
   "source": [
    "# Encode Labels"
   ]
  },
  {
   "cell_type": "code",
   "execution_count": 24,
   "metadata": {
    "ExecuteTime": {
     "end_time": "2020-09-04T19:50:17.171229Z",
     "start_time": "2020-09-04T19:50:17.167898Z"
    }
   },
   "outputs": [],
   "source": [
    "le = LabelEncoder()"
   ]
  },
  {
   "cell_type": "code",
   "execution_count": 25,
   "metadata": {
    "ExecuteTime": {
     "end_time": "2020-09-04T19:50:17.191124Z",
     "start_time": "2020-09-04T19:50:17.173497Z"
    }
   },
   "outputs": [],
   "source": [
    "y_train_enc = le.fit_transform(y_train)"
   ]
  },
  {
   "cell_type": "code",
   "execution_count": 26,
   "metadata": {
    "ExecuteTime": {
     "end_time": "2020-09-04T19:50:17.197651Z",
     "start_time": "2020-09-04T19:50:17.193553Z"
    }
   },
   "outputs": [],
   "source": [
    "y_test_enc = le.transform(y_test)"
   ]
  },
  {
   "cell_type": "markdown",
   "metadata": {},
   "source": [
    "# Evaluate Adjustments to Minimum Document Frequency"
   ]
  },
  {
   "cell_type": "code",
   "execution_count": 27,
   "metadata": {
    "ExecuteTime": {
     "end_time": "2020-09-04T19:50:17.207820Z",
     "start_time": "2020-09-04T19:50:17.200541Z"
    }
   },
   "outputs": [],
   "source": [
    "class stop_word_remover:\n",
    "    def __init__(self):\n",
    "         self.stop_words = frozenset(['ቀጥሉ', 'ይቀጥል'])\n",
    "    def __call__(self, doc):\n",
    "        return [t for t in doc if t not in self.stop_words]"
   ]
  },
  {
   "cell_type": "code",
   "execution_count": 28,
   "metadata": {
    "ExecuteTime": {
     "end_time": "2020-09-04T19:50:17.217572Z",
     "start_time": "2020-09-04T19:50:17.212779Z"
    }
   },
   "outputs": [],
   "source": [
    "def passthrough(doc):\n",
    "    \"\"\"passthrough function for use in the pipeline because the text is already tokenized\"\"\"\n",
    "    return doc"
   ]
  },
  {
   "cell_type": "code",
   "execution_count": 29,
   "metadata": {
    "ExecuteTime": {
     "end_time": "2020-09-04T19:50:17.233898Z",
     "start_time": "2020-09-04T19:50:17.219799Z"
    }
   },
   "outputs": [],
   "source": [
    "def train_and_eval_model(min_df, ngram_range):\n",
    "    \"\"\"\n",
    "    Train and Evaluate and Bag of Words Representation with a Naive Bayes\n",
    "    classifier with a specified minimum document frequency.\n",
    "    \"\"\"\n",
    "    \n",
    "    pipeline = Pipeline([\n",
    "    ('bow',CountVectorizer(min_df=min_df, \n",
    "                           ngram_range=ngram_range, \n",
    "                           max_features=10000, \n",
    "                           preprocessor=stop_word_remover(), \n",
    "                           tokenizer=passthrough)), \n",
    "    ('classifier', MultinomialNB()),\n",
    "    ])\n",
    "    \n",
    "    pipeline.fit(X_train,y_train_enc)\n",
    "    \n",
    "    print(f'MINIMUM DOCUMENT FREQUENCY = {min_df}')\n",
    "    print('')\n",
    "    \n",
    "    evaluation_functions.confustion_matrix_and_classification_report(pipeline, \n",
    "                                                                 X_train, \n",
    "                                                                 y_train_enc, \n",
    "                                                                 le.classes_, \n",
    "                                                                 'Training')\n",
    "    \n",
    "    evaluation_functions.confustion_matrix_and_classification_report(pipeline, \n",
    "                                                                 X_test, \n",
    "                                                                 y_test_enc, \n",
    "                                                                 le.classes_,\n",
    "                                                                 'Test')\n",
    "    \n",
    "    lb = LabelBinarizer()\n",
    "    lb.fit(y_test_enc)\n",
    "    y_test_multi = lb.transform(y_test_enc)\n",
    "    y_hat_test_multi = pipeline.predict_proba(X_test)\n",
    "    \n",
    "    evaluation_functions.pr_curves(y_test_multi, y_hat_test_multi, le.classes_)\n",
    "    \n",
    "    train_accuracy = accuracy_score(y_train_enc, pipeline.predict(X_train))\n",
    "    \n",
    "    test_accuracy = accuracy_score(y_test_enc, pipeline.predict(X_test))\n",
    "        \n",
    "    recall_scores = recall_score(y_test_enc, pipeline.predict(X_test), average=None)\n",
    "    \n",
    "    test_results = np.append(np.array([min_df, train_accuracy, test_accuracy]),\n",
    "                             recall_scores)\n",
    "   \n",
    "    return test_results\n",
    "    "
   ]
  },
  {
   "cell_type": "code",
   "execution_count": 30,
   "metadata": {
    "ExecuteTime": {
     "end_time": "2020-09-04T19:51:15.125889Z",
     "start_time": "2020-09-04T19:50:17.236178Z"
    },
    "scrolled": true
   },
   "outputs": [
    {
     "name": "stdout",
     "output_type": "stream",
     "text": [
      "MINIMUM DOCUMENT FREQUENCY = 1\n",
      "\n",
      "Classification Report for Training Set\n",
      "              precision    recall  f1-score   support\n",
      "\n",
      "         ETV       1.00      1.00      1.00        12\n",
      "\n",
      "    accuracy                           1.00        12\n",
      "   macro avg       1.00      1.00      1.00        12\n",
      "weighted avg       1.00      1.00      1.00        12\n",
      "\n"
     ]
    },
    {
     "data": {
      "image/png": "[encoded data removed]",
      "text/plain": [
       "<Figure size 432x288 with 2 Axes>"
      ]
     },
     "metadata": {
      "needs_background": "light"
     },
     "output_type": "display_data"
    },
    {
     "data": {
      "image/png": "[encoded data removed]",
      "text/plain": [
       "<Figure size 432x288 with 2 Axes>"
      ]
     },
     "metadata": {
      "needs_background": "light"
     },
     "output_type": "display_data"
    },
    {
     "name": "stdout",
     "output_type": "stream",
     "text": [
      "Classification Report for Test Set\n",
      "              precision    recall  f1-score   support\n",
      "\n",
      "         ETV       1.00      1.00      1.00         3\n",
      "\n",
      "    accuracy                           1.00         3\n",
      "   macro avg       1.00      1.00      1.00         3\n",
      "weighted avg       1.00      1.00      1.00         3\n",
      "\n"
     ]
    },
    {
     "data": {
      "image/png": "[encoded data removed]",
      "text/plain": [
       "<Figure size 432x288 with 2 Axes>"
      ]
     },
     "metadata": {
      "needs_background": "light"
     },
     "output_type": "display_data"
    },
    {
     "data": {
      "image/png": "[encoded data removed]",
      "text/plain": [
       "<Figure size 432x288 with 2 Axes>"
      ]
     },
     "metadata": {
      "needs_background": "light"
     },
     "output_type": "display_data"
    },
    {
     "name": "stderr",
     "output_type": "stream",
     "text": [
      "C:\\Users\\Yostina\\anaconda3\\lib\\site-packages\\sklearn\\metrics\\_ranking.py:817: RuntimeWarning: invalid value encountered in true_divide\n",
      "  recall = tps / tps[-1]\n"
     ]
    },
    {
     "ename": "IndexError",
     "evalue": "index 1 is out of bounds for axis 1 with size 1",
     "output_type": "error",
     "traceback": [
      "\u001b[1;31m---------------------------------------------------------------------------\u001b[0m",
      "\u001b[1;31mIndexError\u001b[0m                                Traceback (most recent call last)",
      "\u001b[1;32m<ipython-input-30-88a68dd720b4>\u001b[0m in \u001b[0;36m<module>\u001b[1;34m\u001b[0m\n\u001b[0;32m      2\u001b[0m \u001b[1;33m\u001b[0m\u001b[0m\n\u001b[0;32m      3\u001b[0m \u001b[1;32mfor\u001b[0m \u001b[0mmin_df\u001b[0m \u001b[1;32min\u001b[0m \u001b[0mrange\u001b[0m\u001b[1;33m(\u001b[0m\u001b[1;36m1\u001b[0m\u001b[1;33m,\u001b[0m\u001b[1;36m21\u001b[0m\u001b[1;33m)\u001b[0m\u001b[1;33m:\u001b[0m\u001b[1;33m\u001b[0m\u001b[1;33m\u001b[0m\u001b[0m\n\u001b[1;32m----> 4\u001b[1;33m     \u001b[0mtest_scores\u001b[0m \u001b[1;33m=\u001b[0m \u001b[0mtrain_and_eval_model\u001b[0m\u001b[1;33m(\u001b[0m\u001b[0mmin_df\u001b[0m\u001b[1;33m,\u001b[0m \u001b[0mngram_range\u001b[0m\u001b[1;33m=\u001b[0m\u001b[1;33m(\u001b[0m\u001b[1;36m2\u001b[0m\u001b[1;33m,\u001b[0m\u001b[1;36m2\u001b[0m\u001b[1;33m)\u001b[0m\u001b[1;33m)\u001b[0m\u001b[1;33m\u001b[0m\u001b[1;33m\u001b[0m\u001b[0m\n\u001b[0m\u001b[0;32m      5\u001b[0m     \u001b[0mmetrics_summary\u001b[0m\u001b[1;33m.\u001b[0m\u001b[0mappend\u001b[0m\u001b[1;33m(\u001b[0m\u001b[0mtest_scores\u001b[0m\u001b[1;33m)\u001b[0m\u001b[1;33m\u001b[0m\u001b[1;33m\u001b[0m\u001b[0m\n",
      "\u001b[1;32m<ipython-input-29-4049b8410d06>\u001b[0m in \u001b[0;36mtrain_and_eval_model\u001b[1;34m(min_df, ngram_range)\u001b[0m\n\u001b[0;32m     36\u001b[0m     \u001b[0my_hat_test_multi\u001b[0m \u001b[1;33m=\u001b[0m \u001b[0mpipeline\u001b[0m\u001b[1;33m.\u001b[0m\u001b[0mpredict_proba\u001b[0m\u001b[1;33m(\u001b[0m\u001b[0mX_test\u001b[0m\u001b[1;33m)\u001b[0m\u001b[1;33m\u001b[0m\u001b[1;33m\u001b[0m\u001b[0m\n\u001b[0;32m     37\u001b[0m \u001b[1;33m\u001b[0m\u001b[0m\n\u001b[1;32m---> 38\u001b[1;33m     \u001b[0mevaluation_functions\u001b[0m\u001b[1;33m.\u001b[0m\u001b[0mpr_curves\u001b[0m\u001b[1;33m(\u001b[0m\u001b[0my_test_multi\u001b[0m\u001b[1;33m,\u001b[0m \u001b[0my_hat_test_multi\u001b[0m\u001b[1;33m,\u001b[0m \u001b[0mle\u001b[0m\u001b[1;33m.\u001b[0m\u001b[0mclasses_\u001b[0m\u001b[1;33m)\u001b[0m\u001b[1;33m\u001b[0m\u001b[1;33m\u001b[0m\u001b[0m\n\u001b[0m\u001b[0;32m     39\u001b[0m \u001b[1;33m\u001b[0m\u001b[0m\n\u001b[0;32m     40\u001b[0m     \u001b[0mtrain_accuracy\u001b[0m \u001b[1;33m=\u001b[0m \u001b[0maccuracy_score\u001b[0m\u001b[1;33m(\u001b[0m\u001b[0my_train_enc\u001b[0m\u001b[1;33m,\u001b[0m \u001b[0mpipeline\u001b[0m\u001b[1;33m.\u001b[0m\u001b[0mpredict\u001b[0m\u001b[1;33m(\u001b[0m\u001b[0mX_train\u001b[0m\u001b[1;33m)\u001b[0m\u001b[1;33m)\u001b[0m\u001b[1;33m\u001b[0m\u001b[1;33m\u001b[0m\u001b[0m\n",
      "\u001b[1;32m~\\Twitter\\notebooks\\evaluation_functions.py\u001b[0m in \u001b[0;36mpr_curves\u001b[1;34m(y_test_multi, y_hat_test_multi, classes)\u001b[0m\n\u001b[0;32m     13\u001b[0m     \u001b[0mpr_auc\u001b[0m \u001b[1;33m=\u001b[0m \u001b[0mdict\u001b[0m\u001b[1;33m(\u001b[0m\u001b[1;33m)\u001b[0m\u001b[1;33m\u001b[0m\u001b[1;33m\u001b[0m\u001b[0m\n\u001b[0;32m     14\u001b[0m     \u001b[1;32mfor\u001b[0m \u001b[0mi\u001b[0m \u001b[1;32min\u001b[0m \u001b[0mrange\u001b[0m\u001b[1;33m(\u001b[0m\u001b[1;36m3\u001b[0m\u001b[1;33m)\u001b[0m\u001b[1;33m:\u001b[0m\u001b[1;33m\u001b[0m\u001b[1;33m\u001b[0m\u001b[0m\n\u001b[1;32m---> 15\u001b[1;33m         \u001b[0mprecision\u001b[0m\u001b[1;33m[\u001b[0m\u001b[0mi\u001b[0m\u001b[1;33m]\u001b[0m\u001b[1;33m,\u001b[0m \u001b[0mrecall\u001b[0m\u001b[1;33m[\u001b[0m\u001b[0mi\u001b[0m\u001b[1;33m]\u001b[0m\u001b[1;33m,\u001b[0m \u001b[0m_\u001b[0m \u001b[1;33m=\u001b[0m \u001b[0mprecision_recall_curve\u001b[0m\u001b[1;33m(\u001b[0m\u001b[0my_test_multi\u001b[0m\u001b[1;33m[\u001b[0m\u001b[1;33m:\u001b[0m\u001b[1;33m,\u001b[0m \u001b[0mi\u001b[0m\u001b[1;33m]\u001b[0m\u001b[1;33m,\u001b[0m \u001b[0my_hat_test_multi\u001b[0m\u001b[1;33m[\u001b[0m\u001b[1;33m:\u001b[0m\u001b[1;33m,\u001b[0m \u001b[0mi\u001b[0m\u001b[1;33m]\u001b[0m\u001b[1;33m)\u001b[0m\u001b[1;33m\u001b[0m\u001b[1;33m\u001b[0m\u001b[0m\n\u001b[0m\u001b[0;32m     16\u001b[0m         \u001b[0mpr_auc\u001b[0m\u001b[1;33m[\u001b[0m\u001b[0mi\u001b[0m\u001b[1;33m]\u001b[0m \u001b[1;33m=\u001b[0m \u001b[0mauc\u001b[0m\u001b[1;33m(\u001b[0m\u001b[0mrecall\u001b[0m\u001b[1;33m[\u001b[0m\u001b[0mi\u001b[0m\u001b[1;33m]\u001b[0m\u001b[1;33m,\u001b[0m \u001b[0mprecision\u001b[0m\u001b[1;33m[\u001b[0m\u001b[0mi\u001b[0m\u001b[1;33m]\u001b[0m\u001b[1;33m)\u001b[0m\u001b[1;33m\u001b[0m\u001b[1;33m\u001b[0m\u001b[0m\n\u001b[0;32m     17\u001b[0m \u001b[1;33m\u001b[0m\u001b[0m\n",
      "\u001b[1;31mIndexError\u001b[0m: index 1 is out of bounds for axis 1 with size 1"
     ]
    }
   ],
   "source": [
    "metrics_summary = []\n",
    "\n",
    "for min_df in range(1,21):\n",
    "    test_scores = train_and_eval_model(min_df, ngram_range=(2,2))\n",
    "    metrics_summary.append(test_scores)"
   ]
  },
  {
   "cell_type": "code",
   "execution_count": null,
   "metadata": {
    "ExecuteTime": {
     "end_time": "2020-09-04T19:51:15.151734Z",
     "start_time": "2020-09-04T19:51:15.128012Z"
    },
    "scrolled": false
   },
   "outputs": [],
   "source": [
    "metrics_summary_df = pd.DataFrame(metrics_summary, \n",
    "                                  columns=['min doc freq',\n",
    "                                           'train accuracy',\n",
    "                                           'test accuracy',\n",
    "                                          'neg recall',\n",
    "                                          'neutral recall',\n",
    "                                          'pos recall'])\n",
    "\n",
    "metrics_summary_df"
   ]
  },
  {
   "cell_type": "code",
   "execution_count": null,
   "metadata": {
    "ExecuteTime": {
     "end_time": "2020-09-04T19:51:18.283472Z",
     "start_time": "2020-09-04T19:51:15.153922Z"
    },
    "scrolled": false
   },
   "outputs": [],
   "source": [
    "metrics = train_and_eval_model(min_df=0, ngram_range=(2,2))"
   ]
  },
  {
   "cell_type": "markdown",
   "metadata": {},
   "source": [
    "# Summary"
   ]
  },
  {
   "cell_type": "markdown",
   "metadata": {},
   "source": [
    "\n"
   ]
  },
  {
   "cell_type": "markdown",
   "metadata": {},
   "source": [
    "In the model with bi-grams, the performance is worse than the Naive Bayes Classifier model that just adjusted for minimum document frequency when looking at the recall scores.  The accuracy was about the same."
   ]
  },
  {
   "cell_type": "code",
   "execution_count": null,
   "metadata": {},
   "outputs": [],
   "source": []
  }
 ],
 "metadata": {
  "kernelspec": {
   "display_name": "Python 3",
   "language": "python",
   "name": "python3"
  },
  "language_info": {
   "codemirror_mode": {
    "name": "ipython",
    "version": 3
   },
   "file_extension": ".py",
   "mimetype": "text/x-python",
   "name": "python",
   "nbconvert_exporter": "python",
   "pygments_lexer": "ipython3",
   "version": "3.8.5"
  },
  "toc": {
   "base_numbering": 1,
   "nav_menu": {},
   "number_sections": true,
   "sideBar": true,
   "skip_h1_title": false,
   "title_cell": "Table of Contents",
   "title_sidebar": "Contents",
   "toc_cell": false,
   "toc_position": {},
   "toc_section_display": true,
   "toc_window_display": false
  },
  "varInspector": {
   "cols": {
    "lenName": 16,
    "lenType": 16,
    "lenVar": 40
   },
   "kernels_config": {
    "python": {
     "delete_cmd_postfix": "",
     "delete_cmd_prefix": "del ",
     "library": "var_list.py",
     "varRefreshCmd": "print(var_dic_list())"
    },
    "r": {
     "delete_cmd_postfix": ") ",
     "delete_cmd_prefix": "rm(",
     "library": "var_list.r",
     "varRefreshCmd": "cat(var_dic_list()) "
    }
   },
   "types_to_exclude": [
    "module",
    "function",
    "builtin_function_or_method",
    "instance",
    "_Feature"
   ],
   "window_display": false
  }
 },
 "nbformat": 4,
 "nbformat_minor": 2
}
