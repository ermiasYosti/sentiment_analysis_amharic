{
 "cells": [
  {
   "cell_type": "markdown",
   "metadata": {},
   "source": [
    "# SVM with Smote Model for Twitter Sentiment Analysis"
   ]
  },
  {
   "cell_type": "markdown",
   "metadata": {},
   "source": [
    "This model will use SVM with tf/idf to classify the tweets.\n",
    "\n",
    "It will reduce the dimensionality of the feature set by adjusting the minimum document frequency of words, in an attempt to get better results.\n",
    "\n",
    "It will use SMOTE to synthesize some data to balance the classes.\n",
    "\n",
    "It will use Lemmatization to reduce dimensionality"
   ]
  },
  {
   "cell_type": "markdown",
   "metadata": {},
   "source": [
    "# Imports and Constants"
   ]
  },
  {
   "cell_type": "code",
   "execution_count": 1,
   "metadata": {
    "ExecuteTime": {
     "end_time": "2020-09-02T20:15:44.720344Z",
     "start_time": "2020-09-02T20:15:43.612689Z"
    }
   },
   "outputs": [
    {
     "ename": "ModuleNotFoundError",
     "evalue": "No module named 'imblearn'",
     "output_type": "error",
     "traceback": [
      "\u001b[1;31m---------------------------------------------------------------------------\u001b[0m",
      "\u001b[1;31mModuleNotFoundError\u001b[0m                       Traceback (most recent call last)",
      "\u001b[1;32m<ipython-input-1-93a29c2f34f7>\u001b[0m in \u001b[0;36m<module>\u001b[1;34m\u001b[0m\n\u001b[0;32m     15\u001b[0m \u001b[1;32mfrom\u001b[0m \u001b[0msklearn\u001b[0m\u001b[1;33m.\u001b[0m\u001b[0mfeature_extraction\u001b[0m\u001b[1;33m.\u001b[0m\u001b[0mtext\u001b[0m \u001b[1;32mimport\u001b[0m \u001b[0mTfidfTransformer\u001b[0m\u001b[1;33m\u001b[0m\u001b[1;33m\u001b[0m\u001b[0m\n\u001b[0;32m     16\u001b[0m \u001b[1;32mfrom\u001b[0m \u001b[0msklearn\u001b[0m\u001b[1;33m.\u001b[0m\u001b[0mlinear_model\u001b[0m \u001b[1;32mimport\u001b[0m \u001b[0mSGDClassifier\u001b[0m\u001b[1;33m\u001b[0m\u001b[1;33m\u001b[0m\u001b[0m\n\u001b[1;32m---> 17\u001b[1;33m \u001b[1;32mfrom\u001b[0m \u001b[0mimblearn\u001b[0m\u001b[1;33m.\u001b[0m\u001b[0mover_sampling\u001b[0m \u001b[1;32mimport\u001b[0m \u001b[0mSMOTE\u001b[0m\u001b[1;33m\u001b[0m\u001b[1;33m\u001b[0m\u001b[0m\n\u001b[0m\u001b[0;32m     18\u001b[0m \u001b[1;32mfrom\u001b[0m \u001b[0mimblearn\u001b[0m\u001b[1;33m.\u001b[0m\u001b[0mpipeline\u001b[0m \u001b[1;32mimport\u001b[0m \u001b[0mPipeline\u001b[0m\u001b[1;33m\u001b[0m\u001b[1;33m\u001b[0m\u001b[0m\n\u001b[0;32m     19\u001b[0m \u001b[1;32mimport\u001b[0m \u001b[0mast\u001b[0m\u001b[1;33m\u001b[0m\u001b[1;33m\u001b[0m\u001b[0m\n",
      "\u001b[1;31mModuleNotFoundError\u001b[0m: No module named 'imblearn'"
     ]
    }
   ],
   "source": [
    "import pandas as pd\n",
    "import numpy as np\n",
    "from sklearn.naive_bayes import MultinomialNB\n",
    "from sklearn.model_selection import train_test_split\n",
    "from sklearn.feature_extraction.text import CountVectorizer\n",
    "\n",
    "from sklearn.preprocessing import LabelEncoder\n",
    "from sklearn.metrics import classification_report, plot_confusion_matrix\n",
    "import matplotlib.pyplot as plt\n",
    "%matplotlib inline\n",
    "from sklearn.metrics import precision_recall_curve, auc\n",
    "from sklearn.metrics import accuracy_score, f1_score, recall_score\n",
    "from sklearn.preprocessing import LabelBinarizer\n",
    "import evaluation_functions\n",
    "from sklearn.feature_extraction.text import TfidfTransformer\n",
    "from sklearn.linear_model import SGDClassifier\n",
    "from imblearn.over_sampling import SMOTE\n",
    "from imblearn.pipeline import Pipeline\n",
    "import ast"
   ]
  },
  {
   "cell_type": "code",
   "execution_count": null,
   "metadata": {
    "ExecuteTime": {
     "end_time": "2020-09-02T20:15:44.727016Z",
     "start_time": "2020-09-02T20:15:44.723131Z"
    }
   },
   "outputs": [],
   "source": [
    "DATA_FILE_PATH = 'C:\\\\Users\\\\Yostina\\\\Twitter\\\\'\n",
    "TOKENIZED_DATA_FILE_NAME = 'tokenized_twitter_data.csv'\n",
    "pd.set_option('display.max_colwidth', None)\n",
    "RANDOM_STATE = 42"
   ]
  },
  {
   "cell_type": "markdown",
   "metadata": {},
   "source": [
    "# Load Data"
   ]
  },
  {
   "cell_type": "code",
   "execution_count": null,
   "metadata": {
    "ExecuteTime": {
     "end_time": "2020-09-02T20:15:44.780822Z",
     "start_time": "2020-09-02T20:15:44.730154Z"
    }
   },
   "outputs": [],
   "source": [
    "df = pd.read_csv(DATA_FILE_PATH + TOKENIZED_DATA_FILE_NAME)"
   ]
  },
  {
   "cell_type": "code",
   "execution_count": null,
   "metadata": {
    "ExecuteTime": {
     "end_time": "2020-09-02T20:15:44.804270Z",
     "start_time": "2020-09-02T20:15:44.783641Z"
    }
   },
   "outputs": [],
   "source": [
    "df.head()"
   ]
  },
  {
   "cell_type": "code",
   "execution_count": null,
   "metadata": {
    "ExecuteTime": {
     "end_time": "2020-09-02T20:15:45.246341Z",
     "start_time": "2020-09-02T20:15:44.806688Z"
    }
   },
   "outputs": [],
   "source": [
    "# convert list of strings represented as a string to a list of strings\n",
    "df.tokens = df.tokens.map(ast.literal_eval)"
   ]
  },
  {
   "cell_type": "code",
   "execution_count": null,
   "metadata": {
    "ExecuteTime": {
     "end_time": "2020-09-02T20:15:45.253921Z",
     "start_time": "2020-09-02T20:15:45.248351Z"
    }
   },
   "outputs": [],
   "source": [
    "data = df[['tokens', 'is_there_an_emotion_directed_at_a_brand_or_product']]"
   ]
  },
  {
   "cell_type": "code",
   "execution_count": null,
   "metadata": {
    "ExecuteTime": {
     "end_time": "2020-09-02T20:15:45.270310Z",
     "start_time": "2020-09-02T20:15:45.256724Z"
    }
   },
   "outputs": [],
   "source": [
    "data.head()"
   ]
  },
  {
   "cell_type": "markdown",
   "metadata": {},
   "source": [
    "# Split Data"
   ]
  },
  {
   "cell_type": "code",
   "execution_count": null,
   "metadata": {
    "ExecuteTime": {
     "end_time": "2020-09-02T20:15:45.294088Z",
     "start_time": "2020-09-02T20:15:45.275027Z"
    }
   },
   "outputs": [],
   "source": [
    "X_train, X_test, y_train, y_test = train_test_split(data['tokens'], \n",
    "                                                    data['is_there_an_emotion_directed_at_a_brand_or_product'],\n",
    "                                                   test_size = 0.2,\n",
    "                                                   random_state = RANDOM_STATE,\n",
    "                                                   stratify = data['is_there_an_emotion_directed_at_a_brand_or_product'])"
   ]
  },
  {
   "cell_type": "code",
   "execution_count": 2,
   "metadata": {
    "ExecuteTime": {
     "end_time": "2020-09-02T20:15:45.302460Z",
     "start_time": "2020-09-02T20:15:45.297208Z"
    }
   },
   "outputs": [
    {
     "ename": "NameError",
     "evalue": "name 'X_train' is not defined",
     "output_type": "error",
     "traceback": [
      "\u001b[1;31m---------------------------------------------------------------------------\u001b[0m",
      "\u001b[1;31mNameError\u001b[0m                                 Traceback (most recent call last)",
      "\u001b[1;32m<ipython-input-2-d2ba684acd0f>\u001b[0m in \u001b[0;36m<module>\u001b[1;34m\u001b[0m\n\u001b[1;32m----> 1\u001b[1;33m \u001b[0mX_train\u001b[0m\u001b[1;33m.\u001b[0m\u001b[0mshape\u001b[0m\u001b[1;33m\u001b[0m\u001b[1;33m\u001b[0m\u001b[0m\n\u001b[0m",
      "\u001b[1;31mNameError\u001b[0m: name 'X_train' is not defined"
     ]
    }
   ],
   "source": [
    "X_train.shape"
   ]
  },
  {
   "cell_type": "code",
   "execution_count": 3,
   "metadata": {
    "ExecuteTime": {
     "end_time": "2020-09-02T20:15:45.310073Z",
     "start_time": "2020-09-02T20:15:45.304703Z"
    }
   },
   "outputs": [
    {
     "ename": "NameError",
     "evalue": "name 'X_test' is not defined",
     "output_type": "error",
     "traceback": [
      "\u001b[1;31m---------------------------------------------------------------------------\u001b[0m",
      "\u001b[1;31mNameError\u001b[0m                                 Traceback (most recent call last)",
      "\u001b[1;32m<ipython-input-3-cf290153e199>\u001b[0m in \u001b[0;36m<module>\u001b[1;34m\u001b[0m\n\u001b[1;32m----> 1\u001b[1;33m \u001b[0mX_test\u001b[0m\u001b[1;33m.\u001b[0m\u001b[0mshape\u001b[0m\u001b[1;33m\u001b[0m\u001b[1;33m\u001b[0m\u001b[0m\n\u001b[0m",
      "\u001b[1;31mNameError\u001b[0m: name 'X_test' is not defined"
     ]
    }
   ],
   "source": [
    "X_test.shape"
   ]
  },
  {
   "cell_type": "markdown",
   "metadata": {},
   "source": [
    "# Encode Labels"
   ]
  },
  {
   "cell_type": "code",
   "execution_count": 4,
   "metadata": {
    "ExecuteTime": {
     "end_time": "2020-09-02T20:15:45.315921Z",
     "start_time": "2020-09-02T20:15:45.312323Z"
    }
   },
   "outputs": [],
   "source": [
    "le = LabelEncoder()"
   ]
  },
  {
   "cell_type": "code",
   "execution_count": 5,
   "metadata": {
    "ExecuteTime": {
     "end_time": "2020-09-02T20:15:45.326941Z",
     "start_time": "2020-09-02T20:15:45.320988Z"
    }
   },
   "outputs": [
    {
     "ename": "NameError",
     "evalue": "name 'y_train' is not defined",
     "output_type": "error",
     "traceback": [
      "\u001b[1;31m---------------------------------------------------------------------------\u001b[0m",
      "\u001b[1;31mNameError\u001b[0m                                 Traceback (most recent call last)",
      "\u001b[1;32m<ipython-input-5-f3277ac8aa35>\u001b[0m in \u001b[0;36m<module>\u001b[1;34m\u001b[0m\n\u001b[1;32m----> 1\u001b[1;33m \u001b[0my_train_enc\u001b[0m \u001b[1;33m=\u001b[0m \u001b[0mle\u001b[0m\u001b[1;33m.\u001b[0m\u001b[0mfit_transform\u001b[0m\u001b[1;33m(\u001b[0m\u001b[0my_train\u001b[0m\u001b[1;33m)\u001b[0m\u001b[1;33m\u001b[0m\u001b[1;33m\u001b[0m\u001b[0m\n\u001b[0m",
      "\u001b[1;31mNameError\u001b[0m: name 'y_train' is not defined"
     ]
    }
   ],
   "source": [
    "y_train_enc = le.fit_transform(y_train)"
   ]
  },
  {
   "cell_type": "code",
   "execution_count": null,
   "metadata": {
    "ExecuteTime": {
     "end_time": "2020-09-02T20:15:45.333071Z",
     "start_time": "2020-09-02T20:15:45.329295Z"
    }
   },
   "outputs": [],
   "source": [
    "y_test_enc = le.transform(y_test)"
   ]
  },
  {
   "cell_type": "markdown",
   "metadata": {},
   "source": [
    "# Evaluate Adjustments to Minimum Document Frequency"
   ]
  },
  {
   "cell_type": "code",
   "execution_count": null,
   "metadata": {
    "ExecuteTime": {
     "end_time": "2020-09-02T20:15:45.646854Z",
     "start_time": "2020-09-02T20:15:45.335277Z"
    }
   },
   "outputs": [],
   "source": [
    "from nltk import word_tokenize          \n",
    "from nltk.stem import WordNetLemmatizer \n",
    "class LemmaTokenizer:\n",
    "    def __init__(self):\n",
    "         self.wnl = WordNetLemmatizer()\n",
    "    def __call__(self, doc):\n",
    "        return [self.wnl.lemmatize(t) for t in doc]"
   ]
  },
  {
   "cell_type": "code",
   "execution_count": null,
   "metadata": {
    "ExecuteTime": {
     "end_time": "2020-09-02T20:15:45.663397Z",
     "start_time": "2020-09-02T20:15:45.648999Z"
    }
   },
   "outputs": [],
   "source": [
    "def passthrough(doc):\n",
    "    \"\"\"passthrough function for use in the pipeline because the text is already tokenized\"\"\"\n",
    "    return doc"
   ]
  },
  {
   "cell_type": "code",
   "execution_count": null,
   "metadata": {
    "ExecuteTime": {
     "end_time": "2020-09-02T20:15:45.677351Z",
     "start_time": "2020-09-02T20:15:45.665784Z"
    }
   },
   "outputs": [],
   "source": [
    "def train_and_eval_model(min_df):\n",
    "    \"\"\"\n",
    "    Train and Evaluate and Bag of Words Representation with a SVM\n",
    "    classifier with a specified minimum document frequency.\n",
    "    \"\"\"\n",
    "    \n",
    "    pipeline = Pipeline([('bow',CountVectorizer(min_df=min_df, \n",
    "                                                preprocessor=passthrough, \n",
    "                                                tokenizer=LemmaTokenizer())),\n",
    "                         ('tfidf', TfidfTransformer()),\n",
    "                         ('smote', SMOTE(random_state=RANDOM_STATE, \n",
    "                                         n_jobs=-1)),\n",
    "                         ('classifier', SGDClassifier(loss='hinge', \n",
    "                                                      penalty='l2',\n",
    "                                                      alpha=1e-3, \n",
    "                                                      random_state=RANDOM_STATE,\n",
    "                                                      max_iter=5, \n",
    "                                                      tol=None))])\n",
    "    \n",
    "    pipeline.fit(X_train,y_train_enc)\n",
    "    \n",
    "    print(f'MINIMUM DOCUMENT FREQUENCY = {min_df}')\n",
    "    print('')\n",
    "    \n",
    "    evaluation_functions.confustion_matrix_and_classification_report(pipeline, \n",
    "                                                                 X_train, \n",
    "                                                                 y_train_enc, \n",
    "                                                                 le.classes_, \n",
    "                                                                 'Training')\n",
    "    \n",
    "    evaluation_functions.confustion_matrix_and_classification_report(pipeline, \n",
    "                                                                 X_test, \n",
    "                                                                 y_test_enc, \n",
    "                                                                 le.classes_,\n",
    "                                                                 'Test')\n",
    "    \n",
    "    train_accuracy = accuracy_score(y_train_enc, pipeline.predict(X_train))\n",
    "    \n",
    "    test_accuracy = accuracy_score(y_test_enc, pipeline.predict(X_test))\n",
    "        \n",
    "    recall_scores = recall_score(y_test_enc, pipeline.predict(X_test), average=None)\n",
    "    \n",
    "    test_results = np.append(np.array([min_df, train_accuracy, test_accuracy]),\n",
    "                             recall_scores)\n",
    "   \n",
    "    return test_results\n",
    "    "
   ]
  },
  {
   "cell_type": "code",
   "execution_count": null,
   "metadata": {
    "ExecuteTime": {
     "end_time": "2020-09-02T20:20:23.421957Z",
     "start_time": "2020-09-02T20:15:45.679641Z"
    },
    "scrolled": true
   },
   "outputs": [],
   "source": [
    "metrics_summary = []\n",
    "\n",
    "for min_df in range(1,21):\n",
    "    test_scores = train_and_eval_model(min_df)\n",
    "    metrics_summary.append(test_scores)"
   ]
  },
  {
   "cell_type": "code",
   "execution_count": 18,
   "metadata": {
    "ExecuteTime": {
     "end_time": "2020-09-02T20:20:23.447661Z",
     "start_time": "2020-09-02T20:20:23.424234Z"
    }
   },
   "outputs": [
    {
     "data": {
      "text/html": [
       "<div>\n",
       "<style scoped>\n",
       "    .dataframe tbody tr th:only-of-type {\n",
       "        vertical-align: middle;\n",
       "    }\n",
       "\n",
       "    .dataframe tbody tr th {\n",
       "        vertical-align: top;\n",
       "    }\n",
       "\n",
       "    .dataframe thead th {\n",
       "        text-align: right;\n",
       "    }\n",
       "</style>\n",
       "<table border=\"1\" class=\"dataframe\">\n",
       "  <thead>\n",
       "    <tr style=\"text-align: right;\">\n",
       "      <th></th>\n",
       "      <th>min doc freq</th>\n",
       "      <th>train accuracy</th>\n",
       "      <th>test accuracy</th>\n",
       "      <th>neg recall</th>\n",
       "      <th>neutral recall</th>\n",
       "      <th>pos recall</th>\n",
       "    </tr>\n",
       "  </thead>\n",
       "  <tbody>\n",
       "    <tr>\n",
       "      <th>0</th>\n",
       "      <td>1.0</td>\n",
       "      <td>0.688694</td>\n",
       "      <td>0.574096</td>\n",
       "      <td>0.596330</td>\n",
       "      <td>0.605238</td>\n",
       "      <td>0.513937</td>\n",
       "    </tr>\n",
       "    <tr>\n",
       "      <th>1</th>\n",
       "      <td>2.0</td>\n",
       "      <td>0.676149</td>\n",
       "      <td>0.570012</td>\n",
       "      <td>0.605505</td>\n",
       "      <td>0.611057</td>\n",
       "      <td>0.489547</td>\n",
       "    </tr>\n",
       "    <tr>\n",
       "      <th>2</th>\n",
       "      <td>3.0</td>\n",
       "      <td>0.665791</td>\n",
       "      <td>0.567095</td>\n",
       "      <td>0.587156</td>\n",
       "      <td>0.601358</td>\n",
       "      <td>0.501742</td>\n",
       "    </tr>\n",
       "    <tr>\n",
       "      <th>3</th>\n",
       "      <td>4.0</td>\n",
       "      <td>0.659664</td>\n",
       "      <td>0.558926</td>\n",
       "      <td>0.587156</td>\n",
       "      <td>0.599418</td>\n",
       "      <td>0.480836</td>\n",
       "    </tr>\n",
       "    <tr>\n",
       "      <th>4</th>\n",
       "      <td>5.0</td>\n",
       "      <td>0.651495</td>\n",
       "      <td>0.556009</td>\n",
       "      <td>0.577982</td>\n",
       "      <td>0.596508</td>\n",
       "      <td>0.479094</td>\n",
       "    </tr>\n",
       "    <tr>\n",
       "      <th>5</th>\n",
       "      <td>6.0</td>\n",
       "      <td>0.645806</td>\n",
       "      <td>0.558343</td>\n",
       "      <td>0.587156</td>\n",
       "      <td>0.607177</td>\n",
       "      <td>0.465157</td>\n",
       "    </tr>\n",
       "    <tr>\n",
       "      <th>6</th>\n",
       "      <td>7.0</td>\n",
       "      <td>0.640408</td>\n",
       "      <td>0.557760</td>\n",
       "      <td>0.596330</td>\n",
       "      <td>0.612027</td>\n",
       "      <td>0.452962</td>\n",
       "    </tr>\n",
       "    <tr>\n",
       "      <th>7</th>\n",
       "      <td>8.0</td>\n",
       "      <td>0.636324</td>\n",
       "      <td>0.561260</td>\n",
       "      <td>0.623853</td>\n",
       "      <td>0.612027</td>\n",
       "      <td>0.458188</td>\n",
       "    </tr>\n",
       "    <tr>\n",
       "      <th>8</th>\n",
       "      <td>9.0</td>\n",
       "      <td>0.633844</td>\n",
       "      <td>0.554259</td>\n",
       "      <td>0.623853</td>\n",
       "      <td>0.606208</td>\n",
       "      <td>0.447735</td>\n",
       "    </tr>\n",
       "    <tr>\n",
       "      <th>9</th>\n",
       "      <td>10.0</td>\n",
       "      <td>0.629468</td>\n",
       "      <td>0.554842</td>\n",
       "      <td>0.614679</td>\n",
       "      <td>0.600388</td>\n",
       "      <td>0.461672</td>\n",
       "    </tr>\n",
       "    <tr>\n",
       "      <th>10</th>\n",
       "      <td>11.0</td>\n",
       "      <td>0.624362</td>\n",
       "      <td>0.550175</td>\n",
       "      <td>0.596330</td>\n",
       "      <td>0.600388</td>\n",
       "      <td>0.451220</td>\n",
       "    </tr>\n",
       "    <tr>\n",
       "      <th>11</th>\n",
       "      <td>12.0</td>\n",
       "      <td>0.625675</td>\n",
       "      <td>0.546091</td>\n",
       "      <td>0.596330</td>\n",
       "      <td>0.592629</td>\n",
       "      <td>0.452962</td>\n",
       "    </tr>\n",
       "    <tr>\n",
       "      <th>12</th>\n",
       "      <td>13.0</td>\n",
       "      <td>0.622611</td>\n",
       "      <td>0.547258</td>\n",
       "      <td>0.577982</td>\n",
       "      <td>0.598448</td>\n",
       "      <td>0.449477</td>\n",
       "    </tr>\n",
       "    <tr>\n",
       "      <th>13</th>\n",
       "      <td>14.0</td>\n",
       "      <td>0.614004</td>\n",
       "      <td>0.544924</td>\n",
       "      <td>0.587156</td>\n",
       "      <td>0.594568</td>\n",
       "      <td>0.447735</td>\n",
       "    </tr>\n",
       "    <tr>\n",
       "      <th>14</th>\n",
       "      <td>15.0</td>\n",
       "      <td>0.614296</td>\n",
       "      <td>0.538506</td>\n",
       "      <td>0.596330</td>\n",
       "      <td>0.593598</td>\n",
       "      <td>0.428571</td>\n",
       "    </tr>\n",
       "    <tr>\n",
       "      <th>15</th>\n",
       "      <td>16.0</td>\n",
       "      <td>0.610357</td>\n",
       "      <td>0.542590</td>\n",
       "      <td>0.614679</td>\n",
       "      <td>0.594568</td>\n",
       "      <td>0.435540</td>\n",
       "    </tr>\n",
       "    <tr>\n",
       "      <th>16</th>\n",
       "      <td>17.0</td>\n",
       "      <td>0.610212</td>\n",
       "      <td>0.540257</td>\n",
       "      <td>0.605505</td>\n",
       "      <td>0.589719</td>\n",
       "      <td>0.439024</td>\n",
       "    </tr>\n",
       "    <tr>\n",
       "      <th>17</th>\n",
       "      <td>18.0</td>\n",
       "      <td>0.607148</td>\n",
       "      <td>0.542590</td>\n",
       "      <td>0.596330</td>\n",
       "      <td>0.597478</td>\n",
       "      <td>0.433798</td>\n",
       "    </tr>\n",
       "    <tr>\n",
       "      <th>18</th>\n",
       "      <td>19.0</td>\n",
       "      <td>0.608607</td>\n",
       "      <td>0.540840</td>\n",
       "      <td>0.587156</td>\n",
       "      <td>0.590689</td>\n",
       "      <td>0.442509</td>\n",
       "    </tr>\n",
       "    <tr>\n",
       "      <th>19</th>\n",
       "      <td>20.0</td>\n",
       "      <td>0.608753</td>\n",
       "      <td>0.544341</td>\n",
       "      <td>0.587156</td>\n",
       "      <td>0.600388</td>\n",
       "      <td>0.435540</td>\n",
       "    </tr>\n",
       "  </tbody>\n",
       "</table>\n",
       "</div>"
      ],
      "text/plain": [
       "    min doc freq  train accuracy  test accuracy  neg recall  neutral recall  \\\n",
       "0            1.0        0.688694       0.574096    0.596330        0.605238   \n",
       "1            2.0        0.676149       0.570012    0.605505        0.611057   \n",
       "2            3.0        0.665791       0.567095    0.587156        0.601358   \n",
       "3            4.0        0.659664       0.558926    0.587156        0.599418   \n",
       "4            5.0        0.651495       0.556009    0.577982        0.596508   \n",
       "5            6.0        0.645806       0.558343    0.587156        0.607177   \n",
       "6            7.0        0.640408       0.557760    0.596330        0.612027   \n",
       "7            8.0        0.636324       0.561260    0.623853        0.612027   \n",
       "8            9.0        0.633844       0.554259    0.623853        0.606208   \n",
       "9           10.0        0.629468       0.554842    0.614679        0.600388   \n",
       "10          11.0        0.624362       0.550175    0.596330        0.600388   \n",
       "11          12.0        0.625675       0.546091    0.596330        0.592629   \n",
       "12          13.0        0.622611       0.547258    0.577982        0.598448   \n",
       "13          14.0        0.614004       0.544924    0.587156        0.594568   \n",
       "14          15.0        0.614296       0.538506    0.596330        0.593598   \n",
       "15          16.0        0.610357       0.542590    0.614679        0.594568   \n",
       "16          17.0        0.610212       0.540257    0.605505        0.589719   \n",
       "17          18.0        0.607148       0.542590    0.596330        0.597478   \n",
       "18          19.0        0.608607       0.540840    0.587156        0.590689   \n",
       "19          20.0        0.608753       0.544341    0.587156        0.600388   \n",
       "\n",
       "    pos recall  \n",
       "0     0.513937  \n",
       "1     0.489547  \n",
       "2     0.501742  \n",
       "3     0.480836  \n",
       "4     0.479094  \n",
       "5     0.465157  \n",
       "6     0.452962  \n",
       "7     0.458188  \n",
       "8     0.447735  \n",
       "9     0.461672  \n",
       "10    0.451220  \n",
       "11    0.452962  \n",
       "12    0.449477  \n",
       "13    0.447735  \n",
       "14    0.428571  \n",
       "15    0.435540  \n",
       "16    0.439024  \n",
       "17    0.433798  \n",
       "18    0.442509  \n",
       "19    0.435540  "
      ]
     },
     "execution_count": 18,
     "metadata": {},
     "output_type": "execute_result"
    }
   ],
   "source": [
    "metrics_summary_df = pd.DataFrame(metrics_summary, \n",
    "                                  columns=['min doc freq',\n",
    "                                           'train accuracy',\n",
    "                                           'test accuracy',\n",
    "                                          'neg recall',\n",
    "                                          'neutral recall',\n",
    "                                          'pos recall'])\n",
    "\n",
    "metrics_summary_df"
   ]
  },
  {
   "cell_type": "code",
   "execution_count": 19,
   "metadata": {
    "ExecuteTime": {
     "end_time": "2020-09-02T22:33:54.670832Z",
     "start_time": "2020-09-02T22:33:40.513379Z"
    },
    "scrolled": false
   },
   "outputs": [
    {
     "name": "stderr",
     "output_type": "stream",
     "text": [
      "/Users/freethrall/anaconda3/envs/learn-env/lib/python3.6/site-packages/sklearn/utils/deprecation.py:87: FutureWarning: Function safe_indexing is deprecated; safe_indexing is deprecated in version 0.22 and will be removed in version 0.24.\n",
      "  warnings.warn(msg, category=FutureWarning)\n"
     ]
    },
    {
     "name": "stdout",
     "output_type": "stream",
     "text": [
      "MINIMUM DOCUMENT FREQUENCY = 1\n",
      "\n",
      "Classification Report for Training Set\n",
      "                                    precision    recall  f1-score   support\n",
      "\n",
      "                  Negative emotion       0.30      0.94      0.45       436\n",
      "No emotion toward brand or product       0.84      0.70      0.77      4124\n",
      "                  Positive emotion       0.70      0.61      0.65      2295\n",
      "\n",
      "                          accuracy                           0.69      6855\n",
      "                         macro avg       0.61      0.75      0.62      6855\n",
      "                      weighted avg       0.76      0.69      0.71      6855\n",
      "\n"
     ]
    },
    {
     "data": {
      "image/png": "[encoded data removed]",
      "text/plain": [
       "<Figure size 432x288 with 2 Axes>"
      ]
     },
     "metadata": {
      "needs_background": "light"
     },
     "output_type": "display_data"
    },
    {
     "data": {
      "image/png": "[encoded data removed]",
      "text/plain": [
       "<Figure size 432x288 with 2 Axes>"
      ]
     },
     "metadata": {
      "needs_background": "light"
     },
     "output_type": "display_data"
    },
    {
     "name": "stdout",
     "output_type": "stream",
     "text": [
      "Classification Report for Test Set\n",
      "                                    precision    recall  f1-score   support\n",
      "\n",
      "                  Negative emotion       0.17      0.60      0.27       109\n",
      "No emotion toward brand or product       0.78      0.61      0.68      1031\n",
      "                  Positive emotion       0.56      0.51      0.53       574\n",
      "\n",
      "                          accuracy                           0.57      1714\n",
      "                         macro avg       0.50      0.57      0.49      1714\n",
      "                      weighted avg       0.66      0.57      0.60      1714\n",
      "\n"
     ]
    },
    {
     "data": {
      "image/png": "[encoded data removed]",
      "text/plain": [
       "<Figure size 432x288 with 2 Axes>"
      ]
     },
     "metadata": {
      "needs_background": "light"
     },
     "output_type": "display_data"
    },
    {
     "data": {
      "image/png": "[encoded data removed]",
      "text/plain": [
       "<Figure size 432x288 with 2 Axes>"
      ]
     },
     "metadata": {
      "needs_background": "light"
     },
     "output_type": "display_data"
    }
   ],
   "source": [
    "metrics = train_and_eval_model(min_df=1)"
   ]
  },
  {
   "cell_type": "markdown",
   "metadata": {},
   "source": [
    "# Summary"
   ]
  },
  {
   "cell_type": "markdown",
   "metadata": {},
   "source": [
    "\n"
   ]
  },
  {
   "cell_type": "markdown",
   "metadata": {},
   "source": [
    "The addition of lemmatization resulted in slightly worse performance compared to the SVM model with just SMOTE oversampling.  All the recall values went down by 0.01 to 0.02 and the accuracy went down by 2%."
   ]
  }
 ],
 "metadata": {
  "kernelspec": {
   "display_name": "Python 3",
   "language": "python",
   "name": "python3"
  },
  "toc": {
   "base_numbering": 1,
   "nav_menu": {},
   "number_sections": true,
   "sideBar": true,
   "skip_h1_title": false,
   "title_cell": "Table of Contents",
   "title_sidebar": "Contents",
   "toc_cell": false,
   "toc_position": {},
   "toc_section_display": true,
   "toc_window_display": false
  },
  "varInspector": {
   "cols": {
    "lenName": 16,
    "lenType": 16,
    "lenVar": 40
   },
   "kernels_config": {
    "python": {
     "delete_cmd_postfix": "",
     "delete_cmd_prefix": "del ",
     "library": "var_list.py",
     "varRefreshCmd": "print(var_dic_list())"
    },
    "r": {
     "delete_cmd_postfix": ") ",
     "delete_cmd_prefix": "rm(",
     "library": "var_list.r",
     "varRefreshCmd": "cat(var_dic_list()) "
    }
   },
   "types_to_exclude": [
    "module",
    "function",
    "builtin_function_or_method",
    "instance",
    "_Feature"
   ],
   "window_display": false
  }
 },
 "nbformat": 4,
 "nbformat_minor": 2
}
