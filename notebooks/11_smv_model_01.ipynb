{
 "cells": [
  {
   "cell_type": "markdown",
   "metadata": {},
   "source": [
    "# Baseline Model for Twitter Sentiment Analysis"
   ]
  },
  {
   "cell_type": "markdown",
   "metadata": {},
   "source": [
    "This model will use SVM with tf/idf to classify the tweets.\n",
    "\n",
    "It will reduce the dimensionality of the feature set by adjusting the minimum document frequency of words, in an attempt to get better results."
   ]
  },
  {
   "cell_type": "markdown",
   "metadata": {},
   "source": [
    "# Imports and Constants"
   ]
  },
  {
   "cell_type": "code",
   "execution_count": 1,
   "metadata": {
    "ExecuteTime": {
     "end_time": "2020-09-10T17:26:50.033676Z",
     "start_time": "2020-09-10T17:26:48.763849Z"
    }
   },
   "outputs": [],
   "source": [
    "import pandas as pd\n",
    "import numpy as np\n",
    "from sklearn.naive_bayes import MultinomialNB\n",
    "from sklearn.model_selection import train_test_split\n",
    "from sklearn.feature_extraction.text import CountVectorizer\n",
    "from sklearn.pipeline import Pipeline\n",
    "from sklearn.preprocessing import LabelEncoder\n",
    "from sklearn.metrics import classification_report, plot_confusion_matrix\n",
    "import matplotlib.pyplot as plt\n",
    "%matplotlib inline\n",
    "from sklearn.metrics import precision_recall_curve, auc\n",
    "from sklearn.metrics import accuracy_score, f1_score, recall_score\n",
    "from sklearn.preprocessing import LabelBinarizer\n",
    "import evaluation_functions\n",
    "from sklearn.feature_extraction.text import TfidfTransformer\n",
    "from sklearn.linear_model import SGDClassifier\n",
    "import ast"
   ]
  },
  {
   "cell_type": "code",
   "execution_count": 2,
   "metadata": {
    "ExecuteTime": {
     "end_time": "2020-09-10T17:26:50.040535Z",
     "start_time": "2020-09-10T17:26:50.036210Z"
    }
   },
   "outputs": [],
   "source": [
    "DATA_FILE_PATH = 'C:\\\\Users\\\\Yostina\\\\Twitter\\\\'\n",
    "TOKENIZED_DATA_FILE_NAME = 'tokenized_twitter_data.csv'\n",
    "pd.set_option('display.max_colwidth', None)\n",
    "RANDOM_STATE = 42"
   ]
  },
  {
   "cell_type": "markdown",
   "metadata": {},
   "source": [
    "# Load Data"
   ]
  },
  {
   "cell_type": "code",
   "execution_count": 3,
   "metadata": {
    "ExecuteTime": {
     "end_time": "2020-09-10T17:26:50.092870Z",
     "start_time": "2020-09-10T17:26:50.043281Z"
    }
   },
   "outputs": [],
   "source": [
    "df = pd.read_csv(DATA_FILE_PATH + TOKENIZED_DATA_FILE_NAME)"
   ]
  },
  {
   "cell_type": "code",
   "execution_count": 4,
   "metadata": {
    "ExecuteTime": {
     "end_time": "2020-09-10T17:26:50.116578Z",
     "start_time": "2020-09-10T17:26:50.095317Z"
    }
   },
   "outputs": [
    {
     "data": {
      "text/html": [
       "<div>\n",
       "<style scoped>\n",
       "    .dataframe tbody tr th:only-of-type {\n",
       "        vertical-align: middle;\n",
       "    }\n",
       "\n",
       "    .dataframe tbody tr th {\n",
       "        vertical-align: top;\n",
       "    }\n",
       "\n",
       "    .dataframe thead th {\n",
       "        text-align: right;\n",
       "    }\n",
       "</style>\n",
       "<table border=\"1\" class=\"dataframe\">\n",
       "  <thead>\n",
       "    <tr style=\"text-align: right;\">\n",
       "      <th></th>\n",
       "      <th>tweet_text</th>\n",
       "      <th>ebc_category</th>\n",
       "      <th>is_there_an_emotion_directed_at_a_brand_or_product</th>\n",
       "      <th>tokens</th>\n",
       "    </tr>\n",
       "  </thead>\n",
       "  <tbody>\n",
       "    <tr>\n",
       "      <th>0</th>\n",
       "      <td></td>\n",
       "      <td>EBC</td>\n",
       "      <td>Positive emotion</td>\n",
       "      <td>[]</td>\n",
       "    </tr>\n",
       "    <tr>\n",
       "      <th>1</th>\n",
       "      <td>excited to meet the  samsungmobileus at  sxsw so i can show them my sprint galaxy s still running android     fail</td>\n",
       "      <td>EBC</td>\n",
       "      <td>Positive emotion</td>\n",
       "      <td>['excited', 'to', 'meet', 'the', 'samsungmobileus', 'at', 'sxsw', 'so', 'i', 'can', 'show', 'them', 'my', 'sprint', 'galaxy', 's', 'still', 'running', 'android', 'fail']</td>\n",
       "    </tr>\n",
       "    <tr>\n",
       "      <th>2</th>\n",
       "      <td>find    start impromptu parties at  sxsw with  hurricaneparty http bitly gvlrin i can't wait til the android app comes out #</td>\n",
       "      <td>FM</td>\n",
       "      <td>Positive emotion</td>\n",
       "      <td>['find', 'start', 'impromptu', 'parties', 'at', 'sxsw', 'with', 'hurricaneparty', 'http', 'bitly', 'gvlrin', 'i', \"can't\", 'wait', 'til', 'the', 'android', 'app', 'comes', 'out']</td>\n",
       "    </tr>\n",
       "    <tr>\n",
       "      <th>3</th>\n",
       "      <td>foursquare ups the game just in time for  sxsw http jmp grnpk     still prefer  gowalla by far best looking android app to date</td>\n",
       "      <td>NR</td>\n",
       "      <td>Positive emotion</td>\n",
       "      <td>['foursquare', 'ups', 'the', 'game', 'just', 'in', 'time', 'for', 'sxsw', 'http', 'jmp', 'grnpk', 'still', 'prefer', 'gowalla', 'by', 'far', 'best', 'looking', 'android', 'app', 'to', 'date']</td>\n",
       "    </tr>\n",
       "    <tr>\n",
       "      <th>4</th>\n",
       "      <td>gotta love this  sxsw google calendar featuring top parties  show cases to check out  rt  hamsandwich via  ischafer =   gt;http bitly axzwxb</td>\n",
       "      <td>FM</td>\n",
       "      <td>Positive emotion</td>\n",
       "      <td>['gotta', 'love', 'this', 'sxsw', 'google', 'calendar', 'featuring', 'top', 'parties', 'show', 'cases', 'to', 'check', 'out', 'rt', 'hamsandwich', 'via', 'ischafer', 'gt', 'http', 'bitly', 'axzwxb']</td>\n",
       "    </tr>\n",
       "  </tbody>\n",
       "</table>\n",
       "</div>"
      ],
      "text/plain": [
       "                                                                                                                                     tweet_text  \\\n",
       "0                                                                                                                                                 \n",
       "1                            excited to meet the  samsungmobileus at  sxsw so i can show them my sprint galaxy s still running android     fail   \n",
       "2                  find    start impromptu parties at  sxsw with  hurricaneparty http bitly gvlrin i can't wait til the android app comes out #   \n",
       "3               foursquare ups the game just in time for  sxsw http jmp grnpk     still prefer  gowalla by far best looking android app to date   \n",
       "4  gotta love this  sxsw google calendar featuring top parties  show cases to check out  rt  hamsandwich via  ischafer =   gt;http bitly axzwxb   \n",
       "\n",
       "  ebc_category is_there_an_emotion_directed_at_a_brand_or_product  \\\n",
       "0          EBC                                   Positive emotion   \n",
       "1          EBC                                   Positive emotion   \n",
       "2           FM                                   Positive emotion   \n",
       "3           NR                                   Positive emotion   \n",
       "4           FM                                   Positive emotion   \n",
       "\n",
       "                                                                                                                                                                                                   tokens  \n",
       "0                                                                                                                                                                                                      []  \n",
       "1                               ['excited', 'to', 'meet', 'the', 'samsungmobileus', 'at', 'sxsw', 'so', 'i', 'can', 'show', 'them', 'my', 'sprint', 'galaxy', 's', 'still', 'running', 'android', 'fail']  \n",
       "2                      ['find', 'start', 'impromptu', 'parties', 'at', 'sxsw', 'with', 'hurricaneparty', 'http', 'bitly', 'gvlrin', 'i', \"can't\", 'wait', 'til', 'the', 'android', 'app', 'comes', 'out']  \n",
       "3         ['foursquare', 'ups', 'the', 'game', 'just', 'in', 'time', 'for', 'sxsw', 'http', 'jmp', 'grnpk', 'still', 'prefer', 'gowalla', 'by', 'far', 'best', 'looking', 'android', 'app', 'to', 'date']  \n",
       "4  ['gotta', 'love', 'this', 'sxsw', 'google', 'calendar', 'featuring', 'top', 'parties', 'show', 'cases', 'to', 'check', 'out', 'rt', 'hamsandwich', 'via', 'ischafer', 'gt', 'http', 'bitly', 'axzwxb']  "
      ]
     },
     "execution_count": 4,
     "metadata": {},
     "output_type": "execute_result"
    }
   ],
   "source": [
    "df.head()"
   ]
  },
  {
   "cell_type": "code",
   "execution_count": 5,
   "metadata": {
    "ExecuteTime": {
     "end_time": "2020-09-10T17:26:50.553161Z",
     "start_time": "2020-09-10T17:26:50.118654Z"
    }
   },
   "outputs": [],
   "source": [
    "# convert list of strings represented as a string to a list of strings\n",
    "df.tokens = df.tokens.map(ast.literal_eval)"
   ]
  },
  {
   "cell_type": "code",
   "execution_count": 6,
   "metadata": {
    "ExecuteTime": {
     "end_time": "2020-09-10T17:26:50.561083Z",
     "start_time": "2020-09-10T17:26:50.555275Z"
    }
   },
   "outputs": [],
   "source": [
    "data = df[['tokens', 'is_there_an_emotion_directed_at_a_brand_or_product']]"
   ]
  },
  {
   "cell_type": "code",
   "execution_count": 7,
   "metadata": {
    "ExecuteTime": {
     "end_time": "2020-09-10T17:26:50.577221Z",
     "start_time": "2020-09-10T17:26:50.563389Z"
    }
   },
   "outputs": [
    {
     "data": {
      "text/html": [
       "<div>\n",
       "<style scoped>\n",
       "    .dataframe tbody tr th:only-of-type {\n",
       "        vertical-align: middle;\n",
       "    }\n",
       "\n",
       "    .dataframe tbody tr th {\n",
       "        vertical-align: top;\n",
       "    }\n",
       "\n",
       "    .dataframe thead th {\n",
       "        text-align: right;\n",
       "    }\n",
       "</style>\n",
       "<table border=\"1\" class=\"dataframe\">\n",
       "  <thead>\n",
       "    <tr style=\"text-align: right;\">\n",
       "      <th></th>\n",
       "      <th>tokens</th>\n",
       "      <th>is_there_an_emotion_directed_at_a_brand_or_product</th>\n",
       "    </tr>\n",
       "  </thead>\n",
       "  <tbody>\n",
       "    <tr>\n",
       "      <th>0</th>\n",
       "      <td>[]</td>\n",
       "      <td>Positive emotion</td>\n",
       "    </tr>\n",
       "    <tr>\n",
       "      <th>1</th>\n",
       "      <td>[excited, to, meet, the, samsungmobileus, at, sxsw, so, i, can, show, them, my, sprint, galaxy, s, still, running, android, fail]</td>\n",
       "      <td>Positive emotion</td>\n",
       "    </tr>\n",
       "    <tr>\n",
       "      <th>2</th>\n",
       "      <td>[find, start, impromptu, parties, at, sxsw, with, hurricaneparty, http, bitly, gvlrin, i, can't, wait, til, the, android, app, comes, out]</td>\n",
       "      <td>Positive emotion</td>\n",
       "    </tr>\n",
       "    <tr>\n",
       "      <th>3</th>\n",
       "      <td>[foursquare, ups, the, game, just, in, time, for, sxsw, http, jmp, grnpk, still, prefer, gowalla, by, far, best, looking, android, app, to, date]</td>\n",
       "      <td>Positive emotion</td>\n",
       "    </tr>\n",
       "    <tr>\n",
       "      <th>4</th>\n",
       "      <td>[gotta, love, this, sxsw, google, calendar, featuring, top, parties, show, cases, to, check, out, rt, hamsandwich, via, ischafer, gt, http, bitly, axzwxb]</td>\n",
       "      <td>Positive emotion</td>\n",
       "    </tr>\n",
       "  </tbody>\n",
       "</table>\n",
       "</div>"
      ],
      "text/plain": [
       "                                                                                                                                                       tokens  \\\n",
       "0                                                                                                                                                          []   \n",
       "1                           [excited, to, meet, the, samsungmobileus, at, sxsw, so, i, can, show, them, my, sprint, galaxy, s, still, running, android, fail]   \n",
       "2                  [find, start, impromptu, parties, at, sxsw, with, hurricaneparty, http, bitly, gvlrin, i, can't, wait, til, the, android, app, comes, out]   \n",
       "3           [foursquare, ups, the, game, just, in, time, for, sxsw, http, jmp, grnpk, still, prefer, gowalla, by, far, best, looking, android, app, to, date]   \n",
       "4  [gotta, love, this, sxsw, google, calendar, featuring, top, parties, show, cases, to, check, out, rt, hamsandwich, via, ischafer, gt, http, bitly, axzwxb]   \n",
       "\n",
       "  is_there_an_emotion_directed_at_a_brand_or_product  \n",
       "0                                   Positive emotion  \n",
       "1                                   Positive emotion  \n",
       "2                                   Positive emotion  \n",
       "3                                   Positive emotion  \n",
       "4                                   Positive emotion  "
      ]
     },
     "execution_count": 7,
     "metadata": {},
     "output_type": "execute_result"
    }
   ],
   "source": [
    "data.head()"
   ]
  },
  {
   "cell_type": "markdown",
   "metadata": {},
   "source": [
    "# Split Data"
   ]
  },
  {
   "cell_type": "code",
   "execution_count": 8,
   "metadata": {
    "ExecuteTime": {
     "end_time": "2020-09-10T17:26:50.612824Z",
     "start_time": "2020-09-10T17:26:50.581949Z"
    }
   },
   "outputs": [],
   "source": [
    "X_train, X_test, y_train, y_test = train_test_split(data['tokens'], \n",
    "                                                    data['is_there_an_emotion_directed_at_a_brand_or_product'],\n",
    "                                                   test_size = 0.2,\n",
    "                                                   random_state = RANDOM_STATE,\n",
    "                                                   stratify = data['is_there_an_emotion_directed_at_a_brand_or_product'])"
   ]
  },
  {
   "cell_type": "code",
   "execution_count": 9,
   "metadata": {
    "ExecuteTime": {
     "end_time": "2020-09-10T17:26:50.620527Z",
     "start_time": "2020-09-10T17:26:50.615614Z"
    }
   },
   "outputs": [
    {
     "data": {
      "text/plain": [
       "(16,)"
      ]
     },
     "execution_count": 9,
     "metadata": {},
     "output_type": "execute_result"
    }
   ],
   "source": [
    "X_train.shape"
   ]
  },
  {
   "cell_type": "code",
   "execution_count": 10,
   "metadata": {
    "ExecuteTime": {
     "end_time": "2020-09-10T17:26:50.632875Z",
     "start_time": "2020-09-10T17:26:50.622859Z"
    }
   },
   "outputs": [
    {
     "data": {
      "text/plain": [
       "(4,)"
      ]
     },
     "execution_count": 10,
     "metadata": {},
     "output_type": "execute_result"
    }
   ],
   "source": [
    "X_test.shape"
   ]
  },
  {
   "cell_type": "markdown",
   "metadata": {},
   "source": [
    "# Encode Labels"
   ]
  },
  {
   "cell_type": "code",
   "execution_count": 11,
   "metadata": {
    "ExecuteTime": {
     "end_time": "2020-09-10T17:26:50.638321Z",
     "start_time": "2020-09-10T17:26:50.635074Z"
    }
   },
   "outputs": [],
   "source": [
    "le = LabelEncoder()"
   ]
  },
  {
   "cell_type": "code",
   "execution_count": 12,
   "metadata": {
    "ExecuteTime": {
     "end_time": "2020-09-10T17:26:50.658359Z",
     "start_time": "2020-09-10T17:26:50.640612Z"
    }
   },
   "outputs": [],
   "source": [
    "y_train_enc = le.fit_transform(y_train)"
   ]
  },
  {
   "cell_type": "code",
   "execution_count": 13,
   "metadata": {
    "ExecuteTime": {
     "end_time": "2020-09-10T17:26:50.664475Z",
     "start_time": "2020-09-10T17:26:50.660709Z"
    }
   },
   "outputs": [],
   "source": [
    "y_test_enc = le.transform(y_test)"
   ]
  },
  {
   "cell_type": "markdown",
   "metadata": {},
   "source": [
    "# Evaluate Adjustments to Minimum Document Frequency"
   ]
  },
  {
   "cell_type": "code",
   "execution_count": 14,
   "metadata": {
    "ExecuteTime": {
     "end_time": "2020-09-10T17:26:50.681131Z",
     "start_time": "2020-09-10T17:26:50.666691Z"
    }
   },
   "outputs": [],
   "source": [
    "def passthrough(doc):\n",
    "    \"\"\"passthrough function for use in the pipeline because the text is already tokenized\"\"\"\n",
    "    return doc"
   ]
  },
  {
   "cell_type": "code",
   "execution_count": 15,
   "metadata": {
    "ExecuteTime": {
     "end_time": "2020-09-10T17:26:50.695820Z",
     "start_time": "2020-09-10T17:26:50.683394Z"
    }
   },
   "outputs": [],
   "source": [
    "def train_and_eval_model(min_df):\n",
    "    \"\"\"\n",
    "    Train and Evaluate and Bag of Words Representation with a SVM\n",
    "    classifier with a specified minimum document frequency.\n",
    "    \"\"\"\n",
    "    \n",
    "    pipeline = Pipeline([\n",
    "    ('bow',CountVectorizer(min_df=min_df,\n",
    "                           preprocessor=passthrough, \n",
    "                           tokenizer=passthrough)),\n",
    "    ('tfidf', TfidfTransformer()),\n",
    "    ('classifier', SGDClassifier(loss='hinge', \n",
    "                                 penalty='l2',\n",
    "                                 alpha=1e-3, \n",
    "                                 random_state=RANDOM_STATE,\n",
    "                                 max_iter=5, \n",
    "                                 tol=None)),\n",
    "    ])\n",
    "    \n",
    "    pipeline.fit(X_train,y_train_enc)\n",
    "    \n",
    "    print(f'MINIMUM DOCUMENT FREQUENCY = {min_df}')\n",
    "    print('')\n",
    "    \n",
    "    evaluation_functions.confustion_matrix_and_classification_report(pipeline, \n",
    "                                                                 X_train, \n",
    "                                                                 y_train_enc, \n",
    "                                                                 le.classes_, \n",
    "                                                                 'Training')\n",
    "    \n",
    "    evaluation_functions.confustion_matrix_and_classification_report(pipeline, \n",
    "                                                                 X_test, \n",
    "                                                                 y_test_enc, \n",
    "                                                                 le.classes_,\n",
    "                                                                 'Test')\n",
    "    \n",
    "    train_accuracy = accuracy_score(y_train_enc, pipeline.predict(X_train))\n",
    "    \n",
    "    test_accuracy = accuracy_score(y_test_enc, pipeline.predict(X_test))\n",
    "    \n",
    "    ave_macro_recall = recall_score(y_test_enc, pipeline.predict(X_test), average='macro')\n",
    "    recall_scores = recall_score(y_test_enc, pipeline.predict(X_test), average=None)\n",
    "    \n",
    "    test_results = np.append(np.array([min_df, train_accuracy, test_accuracy, ave_macro_recall]),\n",
    "                             recall_scores)\n",
    "   \n",
    "    return test_results\n",
    "    "
   ]
  },
  {
   "cell_type": "code",
   "execution_count": 16,
   "metadata": {
    "ExecuteTime": {
     "end_time": "2020-09-10T17:27:09.296985Z",
     "start_time": "2020-09-10T17:26:50.698023Z"
    },
    "scrolled": true
   },
   "outputs": [
    {
     "name": "stdout",
     "output_type": "stream",
     "text": [
      "MINIMUM DOCUMENT FREQUENCY = 1\n",
      "\n",
      "Classification Report for Training Set\n",
      "                                    precision    recall  f1-score   support\n",
      "\n",
      "                  Negative emotion       1.00      1.00      1.00         1\n",
      "No emotion toward brand or product       1.00      1.00      1.00         2\n",
      "                  Positive emotion       1.00      1.00      1.00        13\n",
      "\n",
      "                          accuracy                           1.00        16\n",
      "                         macro avg       1.00      1.00      1.00        16\n",
      "                      weighted avg       1.00      1.00      1.00        16\n",
      "\n"
     ]
    },
    {
     "data": {
      "image/png": "[encoded data removed]",
      "text/plain": [
       "<Figure size 432x288 with 2 Axes>"
      ]
     },
     "metadata": {
      "needs_background": "light"
     },
     "output_type": "display_data"
    },
    {
     "data": {
      "image/png": "[encoded data removed]",
      "text/plain": [
       "<Figure size 432x288 with 2 Axes>"
      ]
     },
     "metadata": {
      "needs_background": "light"
     },
     "output_type": "display_data"
    },
    {
     "name": "stdout",
     "output_type": "stream",
     "text": [
      "Classification Report for Test Set\n"
     ]
    },
    {
     "ename": "ValueError",
     "evalue": "Number of classes, 2, does not match size of target_names, 3. Try specifying the labels parameter",
     "output_type": "error",
     "traceback": [
      "\u001b[1;31m---------------------------------------------------------------------------\u001b[0m",
      "\u001b[1;31mValueError\u001b[0m                                Traceback (most recent call last)",
      "\u001b[1;32m<ipython-input-16-8b38163b5407>\u001b[0m in \u001b[0;36m<module>\u001b[1;34m\u001b[0m\n\u001b[0;32m      2\u001b[0m \u001b[1;33m\u001b[0m\u001b[0m\n\u001b[0;32m      3\u001b[0m \u001b[1;32mfor\u001b[0m \u001b[0mmin_df\u001b[0m \u001b[1;32min\u001b[0m \u001b[0mrange\u001b[0m\u001b[1;33m(\u001b[0m\u001b[1;36m1\u001b[0m\u001b[1;33m,\u001b[0m\u001b[1;36m11\u001b[0m\u001b[1;33m)\u001b[0m\u001b[1;33m:\u001b[0m\u001b[1;33m\u001b[0m\u001b[1;33m\u001b[0m\u001b[0m\n\u001b[1;32m----> 4\u001b[1;33m     \u001b[0mtest_scores\u001b[0m \u001b[1;33m=\u001b[0m \u001b[0mtrain_and_eval_model\u001b[0m\u001b[1;33m(\u001b[0m\u001b[0mmin_df\u001b[0m\u001b[1;33m)\u001b[0m\u001b[1;33m\u001b[0m\u001b[1;33m\u001b[0m\u001b[0m\n\u001b[0m\u001b[0;32m      5\u001b[0m     \u001b[0mmetrics_summary\u001b[0m\u001b[1;33m.\u001b[0m\u001b[0mappend\u001b[0m\u001b[1;33m(\u001b[0m\u001b[0mtest_scores\u001b[0m\u001b[1;33m)\u001b[0m\u001b[1;33m\u001b[0m\u001b[1;33m\u001b[0m\u001b[0m\n",
      "\u001b[1;32m<ipython-input-15-ee341f5fba04>\u001b[0m in \u001b[0;36mtrain_and_eval_model\u001b[1;34m(min_df)\u001b[0m\n\u001b[0;32m     29\u001b[0m                                                                  'Training')\n\u001b[0;32m     30\u001b[0m \u001b[1;33m\u001b[0m\u001b[0m\n\u001b[1;32m---> 31\u001b[1;33m     evaluation_functions.confustion_matrix_and_classification_report(pipeline, \n\u001b[0m\u001b[0;32m     32\u001b[0m                                                                  \u001b[0mX_test\u001b[0m\u001b[1;33m,\u001b[0m\u001b[1;33m\u001b[0m\u001b[1;33m\u001b[0m\u001b[0m\n\u001b[0;32m     33\u001b[0m                                                                  \u001b[0my_test_enc\u001b[0m\u001b[1;33m,\u001b[0m\u001b[1;33m\u001b[0m\u001b[1;33m\u001b[0m\u001b[0m\n",
      "\u001b[1;32m~\\Twitter\\notebooks\\evaluation_functions.py\u001b[0m in \u001b[0;36mconfustion_matrix_and_classification_report\u001b[1;34m(estimator, X, y, labels, set_name)\u001b[0m\n\u001b[0;32m     62\u001b[0m \u001b[1;33m\u001b[0m\u001b[0m\n\u001b[0;32m     63\u001b[0m     \u001b[0mprint\u001b[0m\u001b[1;33m(\u001b[0m\u001b[1;34mf'Classification Report for {set_name} Set'\u001b[0m\u001b[1;33m)\u001b[0m\u001b[1;33m\u001b[0m\u001b[1;33m\u001b[0m\u001b[0m\n\u001b[1;32m---> 64\u001b[1;33m     \u001b[0mprint\u001b[0m\u001b[1;33m(\u001b[0m\u001b[0mclassification_report\u001b[0m\u001b[1;33m(\u001b[0m\u001b[0my\u001b[0m\u001b[1;33m,\u001b[0m \u001b[0mpredictions\u001b[0m\u001b[1;33m,\u001b[0m \u001b[0mtarget_names\u001b[0m\u001b[1;33m=\u001b[0m\u001b[0mlabels\u001b[0m\u001b[1;33m)\u001b[0m\u001b[1;33m)\u001b[0m\u001b[1;33m\u001b[0m\u001b[1;33m\u001b[0m\u001b[0m\n\u001b[0m\u001b[0;32m     65\u001b[0m \u001b[1;33m\u001b[0m\u001b[0m\n\u001b[0;32m     66\u001b[0m     matrix = plot_confusion_matrix(estimator,\n",
      "\u001b[1;32m~\\anaconda3\\lib\\site-packages\\sklearn\\utils\\validation.py\u001b[0m in \u001b[0;36minner_f\u001b[1;34m(*args, **kwargs)\u001b[0m\n\u001b[0;32m     61\u001b[0m             \u001b[0mextra_args\u001b[0m \u001b[1;33m=\u001b[0m \u001b[0mlen\u001b[0m\u001b[1;33m(\u001b[0m\u001b[0margs\u001b[0m\u001b[1;33m)\u001b[0m \u001b[1;33m-\u001b[0m \u001b[0mlen\u001b[0m\u001b[1;33m(\u001b[0m\u001b[0mall_args\u001b[0m\u001b[1;33m)\u001b[0m\u001b[1;33m\u001b[0m\u001b[1;33m\u001b[0m\u001b[0m\n\u001b[0;32m     62\u001b[0m             \u001b[1;32mif\u001b[0m \u001b[0mextra_args\u001b[0m \u001b[1;33m<=\u001b[0m \u001b[1;36m0\u001b[0m\u001b[1;33m:\u001b[0m\u001b[1;33m\u001b[0m\u001b[1;33m\u001b[0m\u001b[0m\n\u001b[1;32m---> 63\u001b[1;33m                 \u001b[1;32mreturn\u001b[0m \u001b[0mf\u001b[0m\u001b[1;33m(\u001b[0m\u001b[1;33m*\u001b[0m\u001b[0margs\u001b[0m\u001b[1;33m,\u001b[0m \u001b[1;33m**\u001b[0m\u001b[0mkwargs\u001b[0m\u001b[1;33m)\u001b[0m\u001b[1;33m\u001b[0m\u001b[1;33m\u001b[0m\u001b[0m\n\u001b[0m\u001b[0;32m     64\u001b[0m \u001b[1;33m\u001b[0m\u001b[0m\n\u001b[0;32m     65\u001b[0m             \u001b[1;31m# extra_args > 0\u001b[0m\u001b[1;33m\u001b[0m\u001b[1;33m\u001b[0m\u001b[1;33m\u001b[0m\u001b[0m\n",
      "\u001b[1;32m~\\anaconda3\\lib\\site-packages\\sklearn\\metrics\\_classification.py\u001b[0m in \u001b[0;36mclassification_report\u001b[1;34m(y_true, y_pred, labels, target_names, sample_weight, digits, output_dict, zero_division)\u001b[0m\n\u001b[0;32m   1985\u001b[0m             )\n\u001b[0;32m   1986\u001b[0m         \u001b[1;32melse\u001b[0m\u001b[1;33m:\u001b[0m\u001b[1;33m\u001b[0m\u001b[1;33m\u001b[0m\u001b[0m\n\u001b[1;32m-> 1987\u001b[1;33m             raise ValueError(\n\u001b[0m\u001b[0;32m   1988\u001b[0m                 \u001b[1;34m\"Number of classes, {0}, does not match size of \"\u001b[0m\u001b[1;33m\u001b[0m\u001b[1;33m\u001b[0m\u001b[0m\n\u001b[0;32m   1989\u001b[0m                 \u001b[1;34m\"target_names, {1}. Try specifying the labels \"\u001b[0m\u001b[1;33m\u001b[0m\u001b[1;33m\u001b[0m\u001b[0m\n",
      "\u001b[1;31mValueError\u001b[0m: Number of classes, 2, does not match size of target_names, 3. Try specifying the labels parameter"
     ]
    }
   ],
   "source": [
    "metrics_summary = []\n",
    "\n",
    "for min_df in range(1,11):\n",
    "    test_scores = train_and_eval_model(min_df)\n",
    "    metrics_summary.append(test_scores)"
   ]
  },
  {
   "cell_type": "code",
   "execution_count": null,
   "metadata": {
    "ExecuteTime": {
     "end_time": "2020-09-10T17:27:09.321243Z",
     "start_time": "2020-09-10T17:27:09.299062Z"
    }
   },
   "outputs": [],
   "source": [
    "metrics_summary_df = pd.DataFrame(metrics_summary, \n",
    "                                  columns=['min doc freq',\n",
    "                                           'train accuracy',\n",
    "                                           'test accuracy',\n",
    "                                           'macro recall',\n",
    "                                          'neg recall',\n",
    "                                          'neutral recall',\n",
    "                                          'pos recall'])\n",
    "\n",
    "metrics_summary_df"
   ]
  },
  {
   "cell_type": "code",
   "execution_count": null,
   "metadata": {
    "ExecuteTime": {
     "end_time": "2020-09-10T17:27:11.170168Z",
     "start_time": "2020-09-10T17:27:09.323446Z"
    },
    "scrolled": false
   },
   "outputs": [],
   "source": [
    "metrics = train_and_eval_model(min_df=5)"
   ]
  },
  {
   "cell_type": "markdown",
   "metadata": {},
   "source": [
    "# Summary"
   ]
  },
  {
   "cell_type": "markdown",
   "metadata": {},
   "source": [
    "\n"
   ]
  },
  {
   "cell_type": "markdown",
   "metadata": {},
   "source": [
    "This model is only good, and it is very good, at correctly classifying actual members of the majority class as from that class.  It has very low recall values for the two minority classes, negative and positive.\n",
    "\n",
    "Looking at the confusion matrix, it is classifying almost all the instances as the majority class, neutral."
   ]
  },
  {
   "cell_type": "code",
   "execution_count": null,
   "metadata": {},
   "outputs": [],
   "source": []
  }
 ],
 "metadata": {
  "kernelspec": {
   "display_name": "Python 3",
   "language": "python",
   "name": "python3"
  },
  "language_info": {
   "codemirror_mode": {
    "name": "ipython",
    "version": 3
   },
   "file_extension": ".py",
   "mimetype": "text/x-python",
   "name": "python",
   "nbconvert_exporter": "python",
   "pygments_lexer": "ipython3",
   "version": "3.8.5"
  },
  "toc": {
   "base_numbering": 1,
   "nav_menu": {},
   "number_sections": true,
   "sideBar": true,
   "skip_h1_title": false,
   "title_cell": "Table of Contents",
   "title_sidebar": "Contents",
   "toc_cell": false,
   "toc_position": {},
   "toc_section_display": true,
   "toc_window_display": false
  },
  "varInspector": {
   "cols": {
    "lenName": 16,
    "lenType": 16,
    "lenVar": 40
   },
   "kernels_config": {
    "python": {
     "delete_cmd_postfix": "",
     "delete_cmd_prefix": "del ",
     "library": "var_list.py",
     "varRefreshCmd": "print(var_dic_list())"
    },
    "r": {
     "delete_cmd_postfix": ") ",
     "delete_cmd_prefix": "rm(",
     "library": "var_list.r",
     "varRefreshCmd": "cat(var_dic_list()) "
    }
   },
   "types_to_exclude": [
    "module",
    "function",
    "builtin_function_or_method",
    "instance",
    "_Feature"
   ],
   "window_display": false
  }
 },
 "nbformat": 4,
 "nbformat_minor": 2
}
