{
 "cells": [
  {
   "cell_type": "markdown",
   "metadata": {},
   "source": [
    "# Baseline Model for Fwwdback Sentiment Analysis"
   ]
  },
  {
   "cell_type": "markdown",
   "metadata": {},
   "source": [
    "The baseline model will use Multinomial Naive Bayes with Vector Count (bag of words) to classify the feedback."
   ]
  },
  {
   "cell_type": "markdown",
   "metadata": {},
   "source": [
    "# Imports and Constants"
   ]
  },
  {
   "cell_type": "code",
   "execution_count": 1,
   "metadata": {
    "ExecuteTime": {
     "end_time": "2020-09-02T19:13:12.587681Z",
     "start_time": "2020-09-02T19:13:11.338414Z"
    }
   },
   "outputs": [],
   "source": [
    "import pandas as pd\n",
    "import re\n",
    "from sklearn.naive_bayes import MultinomialNB\n",
    "from sklearn.model_selection import train_test_split\n",
    "from sklearn.feature_extraction.text import CountVectorizer\n",
    "from sklearn.pipeline import Pipeline\n",
    "from sklearn.preprocessing import LabelEncoder\n",
    "from sklearn.metrics import classification_report, plot_confusion_matrix\n",
    "import matplotlib.pyplot as plt\n",
    "%matplotlib inline\n",
    "from sklearn.metrics import precision_recall_curve, auc\n",
    "from sklearn.preprocessing import LabelBinarizer\n",
    "import evaluation_functions\n",
    "import ast"
   ]
  },
  {
   "cell_type": "code",
   "execution_count": 2,
   "metadata": {
    "ExecuteTime": {
     "end_time": "2020-09-02T19:13:12.594110Z",
     "start_time": "2020-09-02T19:13:12.590166Z"
    }
   },
   "outputs": [],
   "source": [
    "DATA_FILE_PATH = 'C:\\\\Users\\\\Yostina\\\\SentimentNLP\\\\'\n",
    "TOKENIZED_DATA_FILE_NAME = 'sentiment_mapped_datas4.csv'\n",
    "pd.set_option('display.max_colwidth', None)\n",
    "RANDOM_STATE = 42"
   ]
  },
  {
   "cell_type": "markdown",
   "metadata": {},
   "source": [
    "# Load Data"
   ]
  },
  {
   "cell_type": "code",
   "execution_count": 3,
   "metadata": {
    "ExecuteTime": {
     "end_time": "2020-09-02T19:13:12.645327Z",
     "start_time": "2020-09-02T19:13:12.597177Z"
    }
   },
   "outputs": [],
   "source": [
    "df = pd.read_csv(DATA_FILE_PATH + TOKENIZED_DATA_FILE_NAME)"
   ]
  },
  {
   "cell_type": "code",
   "execution_count": 4,
   "metadata": {
    "ExecuteTime": {
     "end_time": "2020-09-02T19:13:12.669815Z",
     "start_time": "2020-09-02T19:13:12.647955Z"
    }
   },
   "outputs": [
    {
     "data": {
      "text/html": [
       "<div>\n",
       "<style scoped>\n",
       "    .dataframe tbody tr th:only-of-type {\n",
       "        vertical-align: middle;\n",
       "    }\n",
       "\n",
       "    .dataframe tbody tr th {\n",
       "        vertical-align: top;\n",
       "    }\n",
       "\n",
       "    .dataframe thead th {\n",
       "        text-align: right;\n",
       "    }\n",
       "</style>\n",
       "<table border=\"1\" class=\"dataframe\">\n",
       "  <thead>\n",
       "    <tr style=\"text-align: right;\">\n",
       "      <th></th>\n",
       "      <th>Region</th>\n",
       "      <th>Sex</th>\n",
       "      <th>Age</th>\n",
       "      <th>Edu_Level</th>\n",
       "      <th>Feedback</th>\n",
       "      <th>Fb_Day</th>\n",
       "      <th>Fb_Month</th>\n",
       "      <th>Fb_Year</th>\n",
       "      <th>tokens</th>\n",
       "      <th>category</th>\n",
       "      <th>sentiment</th>\n",
       "    </tr>\n",
       "  </thead>\n",
       "  <tbody>\n",
       "    <tr>\n",
       "      <th>0</th>\n",
       "      <td>Debub</td>\n",
       "      <td>M</td>\n",
       "      <td>50</td>\n",
       "      <td>Cert</td>\n",
       "      <td>ኢቲቪ ሰራተኞች በሙሉ እንኳን ለገና በአል በሰላም አደረሳችሁ፡፡</td>\n",
       "      <td>1</td>\n",
       "      <td>1</td>\n",
       "      <td>2008.0</td>\n",
       "      <td>['ኢቲቪ', 'ሰራተኞች', 'በሙሉ', 'እንኳን', 'ለገና', 'በአል', 'በሰላም', 'አደረሳችሁ', '፡', '፡']</td>\n",
       "      <td>ETV</td>\n",
       "      <td>0</td>\n",
       "    </tr>\n",
       "    <tr>\n",
       "      <th>1</th>\n",
       "      <td>Debub</td>\n",
       "      <td>M</td>\n",
       "      <td>50</td>\n",
       "      <td>Cert</td>\n",
       "      <td>መንግስት በአገራችን በደረሰው የተለያዩ ችግሮች ላይ እየወሰደ ያለው እርምጃ በጣም ጥሩ ነው በዚሁ ይቀጥል፡፡</td>\n",
       "      <td>1</td>\n",
       "      <td>1</td>\n",
       "      <td>2008.0</td>\n",
       "      <td>['መንግስት', 'በአገራችን', 'በደረሰው', 'የተለያዩ', 'ችግሮች', 'ላይ', 'እየወሰደ', 'ያለው', 'እርምጃ', 'በጣም', 'ጥሩ', 'ነው', 'በዚሁ', 'ይቀጥል', '፡', '፡']</td>\n",
       "      <td>ETV</td>\n",
       "      <td>1</td>\n",
       "    </tr>\n",
       "    <tr>\n",
       "      <th>2</th>\n",
       "      <td>Debub</td>\n",
       "      <td>M</td>\n",
       "      <td>50</td>\n",
       "      <td>Cert</td>\n",
       "      <td>ኢቲቪ ደግሞ በዜና በወቅታዊ ጉዳዮች ላይ እውነት ለመናገር በጣም ጥሩ እየሰራችሁ ነው በርቱ፡፡</td>\n",
       "      <td>1</td>\n",
       "      <td>1</td>\n",
       "      <td>2008.0</td>\n",
       "      <td>['ኢቲቪ', 'ደግሞ', 'በዜና', 'በወቅታዊ', 'ጉዳዮች', 'ላይ', 'እውነት', 'ለመናገር', 'በጣም', 'ጥሩ', 'እየሰራችሁ', 'ነው', 'በርቱ', '፡', '፡']</td>\n",
       "      <td>ETV</td>\n",
       "      <td>1</td>\n",
       "    </tr>\n",
       "    <tr>\n",
       "      <th>3</th>\n",
       "      <td>Debub</td>\n",
       "      <td>M</td>\n",
       "      <td>50</td>\n",
       "      <td>Cert</td>\n",
       "      <td>ኢቲቪ ቢሰራ የምንለው ህዝቡ ስሩን የሰደደው የህዋት አስተዳደር አሁንም ባሉት አመራሮች እየተተገበረ ስለሆነ ወደታች ወርዳችሁ ብትሰሩ የበለጠ ተሰሚ ትሆናለችሁ አገርንም በሰላም ታስቀጥላላችሁ ሀላፊነታችሁን ተወጡ፡፡</td>\n",
       "      <td>1</td>\n",
       "      <td>1</td>\n",
       "      <td>2008.0</td>\n",
       "      <td>['ኢቲቪ', 'ቢሰራ', 'የምንለው', 'ህዝቡ', 'ስሩን', 'የሰደደው', 'የህዋት', 'አስተዳደር', 'አሁንም', 'ባሉት', 'አመራሮች', 'እየተተገበረ', 'ስለሆነ', 'ወደታች', 'ወርዳችሁ', 'ብትሰሩ', 'የበለጠ', 'ተሰሚ', 'ትሆናለችሁ', 'አገርንም', 'በሰላም', 'ታስቀጥላላችሁ', 'ሀላፊነታችሁን', 'ተወጡ', '፡', '፡']</td>\n",
       "      <td>ETV</td>\n",
       "      <td>0</td>\n",
       "    </tr>\n",
       "    <tr>\n",
       "      <th>4</th>\n",
       "      <td>Debub</td>\n",
       "      <td>M</td>\n",
       "      <td>30</td>\n",
       "      <td>Sec. Sc</td>\n",
       "      <td>ኢቲቪ ዜና 57 ላይ የሚቀርቡት ወቅታዊ ዜናዎች በሀገርና በውጭ በጣም ጥሩ መረጃ እያገኝን ነው፡፡</td>\n",
       "      <td>1</td>\n",
       "      <td>1</td>\n",
       "      <td>2008.0</td>\n",
       "      <td>['ኢቲቪ', 'ዜና', '57', 'ላይ', 'የሚቀርቡት', 'ወቅታዊ', 'ዜናዎች', 'በሀገርና', 'በውጭ', 'በጣም', 'ጥሩ', 'መረጃ', 'እያገኝን', 'ነው', '፡', '፡']</td>\n",
       "      <td>ETV</td>\n",
       "      <td>1</td>\n",
       "    </tr>\n",
       "  </tbody>\n",
       "</table>\n",
       "</div>"
      ],
      "text/plain": [
       "  Region Sex Age Edu_Level  \\\n",
       "0  Debub   M  50      Cert   \n",
       "1  Debub   M  50      Cert   \n",
       "2  Debub   M  50      Cert   \n",
       "3  Debub   M  50      Cert   \n",
       "4  Debub   M  30   Sec. Sc   \n",
       "\n",
       "                                                                                                                                 Feedback  \\\n",
       "0                                                                                                ኢቲቪ ሰራተኞች በሙሉ እንኳን ለገና በአል በሰላም አደረሳችሁ፡፡   \n",
       "1                                                                    መንግስት በአገራችን በደረሰው የተለያዩ ችግሮች ላይ እየወሰደ ያለው እርምጃ በጣም ጥሩ ነው በዚሁ ይቀጥል፡፡   \n",
       "2                                                                             ኢቲቪ ደግሞ በዜና በወቅታዊ ጉዳዮች ላይ እውነት ለመናገር በጣም ጥሩ እየሰራችሁ ነው በርቱ፡፡   \n",
       "3  ኢቲቪ ቢሰራ የምንለው ህዝቡ ስሩን የሰደደው የህዋት አስተዳደር አሁንም ባሉት አመራሮች እየተተገበረ ስለሆነ ወደታች ወርዳችሁ ብትሰሩ የበለጠ ተሰሚ ትሆናለችሁ አገርንም በሰላም ታስቀጥላላችሁ ሀላፊነታችሁን ተወጡ፡፡   \n",
       "4                                                                           ኢቲቪ ዜና 57 ላይ የሚቀርቡት ወቅታዊ ዜናዎች በሀገርና በውጭ በጣም ጥሩ መረጃ እያገኝን ነው፡፡   \n",
       "\n",
       "   Fb_Day  Fb_Month  Fb_Year  \\\n",
       "0       1         1   2008.0   \n",
       "1       1         1   2008.0   \n",
       "2       1         1   2008.0   \n",
       "3       1         1   2008.0   \n",
       "4       1         1   2008.0   \n",
       "\n",
       "                                                                                                                                                                                                                    tokens  \\\n",
       "0                                                                                                                                                ['ኢቲቪ', 'ሰራተኞች', 'በሙሉ', 'እንኳን', 'ለገና', 'በአል', 'በሰላም', 'አደረሳችሁ', '፡', '፡']   \n",
       "1                                                                                                  ['መንግስት', 'በአገራችን', 'በደረሰው', 'የተለያዩ', 'ችግሮች', 'ላይ', 'እየወሰደ', 'ያለው', 'እርምጃ', 'በጣም', 'ጥሩ', 'ነው', 'በዚሁ', 'ይቀጥል', '፡', '፡']   \n",
       "2                                                                                                              ['ኢቲቪ', 'ደግሞ', 'በዜና', 'በወቅታዊ', 'ጉዳዮች', 'ላይ', 'እውነት', 'ለመናገር', 'በጣም', 'ጥሩ', 'እየሰራችሁ', 'ነው', 'በርቱ', '፡', '፡']   \n",
       "3  ['ኢቲቪ', 'ቢሰራ', 'የምንለው', 'ህዝቡ', 'ስሩን', 'የሰደደው', 'የህዋት', 'አስተዳደር', 'አሁንም', 'ባሉት', 'አመራሮች', 'እየተተገበረ', 'ስለሆነ', 'ወደታች', 'ወርዳችሁ', 'ብትሰሩ', 'የበለጠ', 'ተሰሚ', 'ትሆናለችሁ', 'አገርንም', 'በሰላም', 'ታስቀጥላላችሁ', 'ሀላፊነታችሁን', 'ተወጡ', '፡', '፡']   \n",
       "4                                                                                                         ['ኢቲቪ', 'ዜና', '57', 'ላይ', 'የሚቀርቡት', 'ወቅታዊ', 'ዜናዎች', 'በሀገርና', 'በውጭ', 'በጣም', 'ጥሩ', 'መረጃ', 'እያገኝን', 'ነው', '፡', '፡']   \n",
       "\n",
       "  category  sentiment  \n",
       "0      ETV          0  \n",
       "1      ETV          1  \n",
       "2      ETV          1  \n",
       "3      ETV          0  \n",
       "4      ETV          1  "
      ]
     },
     "execution_count": 4,
     "metadata": {},
     "output_type": "execute_result"
    }
   ],
   "source": [
    "df.head()"
   ]
  },
  {
   "cell_type": "code",
   "execution_count": 5,
   "metadata": {
    "ExecuteTime": {
     "end_time": "2020-09-02T19:13:13.107469Z",
     "start_time": "2020-09-02T19:13:12.672035Z"
    }
   },
   "outputs": [],
   "source": [
    "# convert list of strings represented as a string to a list of strings\n",
    "df.tokens = df.tokens.map(ast.literal_eval)"
   ]
  },
  {
   "cell_type": "code",
   "execution_count": 6,
   "metadata": {
    "ExecuteTime": {
     "end_time": "2020-09-02T19:13:13.114858Z",
     "start_time": "2020-09-02T19:13:13.109486Z"
    }
   },
   "outputs": [],
   "source": [
    "data = df[['tokens', 'category']]\n",
    "     "
   ]
  },
  {
   "cell_type": "code",
   "execution_count": 7,
   "metadata": {
    "ExecuteTime": {
     "end_time": "2020-09-02T19:13:13.131429Z",
     "start_time": "2020-09-02T19:13:13.117205Z"
    }
   },
   "outputs": [
    {
     "data": {
      "text/html": [
       "<div>\n",
       "<style scoped>\n",
       "    .dataframe tbody tr th:only-of-type {\n",
       "        vertical-align: middle;\n",
       "    }\n",
       "\n",
       "    .dataframe tbody tr th {\n",
       "        vertical-align: top;\n",
       "    }\n",
       "\n",
       "    .dataframe thead th {\n",
       "        text-align: right;\n",
       "    }\n",
       "</style>\n",
       "<table border=\"1\" class=\"dataframe\">\n",
       "  <thead>\n",
       "    <tr style=\"text-align: right;\">\n",
       "      <th></th>\n",
       "      <th>tokens</th>\n",
       "      <th>category</th>\n",
       "    </tr>\n",
       "  </thead>\n",
       "  <tbody>\n",
       "    <tr>\n",
       "      <th>0</th>\n",
       "      <td>[ኢቲቪ, ሰራተኞች, በሙሉ, እንኳን, ለገና, በአል, በሰላም, አደረሳችሁ, ፡, ፡]</td>\n",
       "      <td>ETV</td>\n",
       "    </tr>\n",
       "    <tr>\n",
       "      <th>1</th>\n",
       "      <td>[መንግስት, በአገራችን, በደረሰው, የተለያዩ, ችግሮች, ላይ, እየወሰደ, ያለው, እርምጃ, በጣም, ጥሩ, ነው, በዚሁ, ይቀጥል, ፡, ፡]</td>\n",
       "      <td>ETV</td>\n",
       "    </tr>\n",
       "    <tr>\n",
       "      <th>2</th>\n",
       "      <td>[ኢቲቪ, ደግሞ, በዜና, በወቅታዊ, ጉዳዮች, ላይ, እውነት, ለመናገር, በጣም, ጥሩ, እየሰራችሁ, ነው, በርቱ, ፡, ፡]</td>\n",
       "      <td>ETV</td>\n",
       "    </tr>\n",
       "    <tr>\n",
       "      <th>3</th>\n",
       "      <td>[ኢቲቪ, ቢሰራ, የምንለው, ህዝቡ, ስሩን, የሰደደው, የህዋት, አስተዳደር, አሁንም, ባሉት, አመራሮች, እየተተገበረ, ስለሆነ, ወደታች, ወርዳችሁ, ብትሰሩ, የበለጠ, ተሰሚ, ትሆናለችሁ, አገርንም, በሰላም, ታስቀጥላላችሁ, ሀላፊነታችሁን, ተወጡ, ፡, ፡]</td>\n",
       "      <td>ETV</td>\n",
       "    </tr>\n",
       "    <tr>\n",
       "      <th>4</th>\n",
       "      <td>[ኢቲቪ, ዜና, 57, ላይ, የሚቀርቡት, ወቅታዊ, ዜናዎች, በሀገርና, በውጭ, በጣም, ጥሩ, መረጃ, እያገኝን, ነው, ፡, ፡]</td>\n",
       "      <td>ETV</td>\n",
       "    </tr>\n",
       "  </tbody>\n",
       "</table>\n",
       "</div>"
      ],
      "text/plain": [
       "                                                                                                                                                                tokens  \\\n",
       "0                                                                                                                [ኢቲቪ, ሰራተኞች, በሙሉ, እንኳን, ለገና, በአል, በሰላም, አደረሳችሁ, ፡, ፡]   \n",
       "1                                                                              [መንግስት, በአገራችን, በደረሰው, የተለያዩ, ችግሮች, ላይ, እየወሰደ, ያለው, እርምጃ, በጣም, ጥሩ, ነው, በዚሁ, ይቀጥል, ፡, ፡]   \n",
       "2                                                                                        [ኢቲቪ, ደግሞ, በዜና, በወቅታዊ, ጉዳዮች, ላይ, እውነት, ለመናገር, በጣም, ጥሩ, እየሰራችሁ, ነው, በርቱ, ፡, ፡]   \n",
       "3  [ኢቲቪ, ቢሰራ, የምንለው, ህዝቡ, ስሩን, የሰደደው, የህዋት, አስተዳደር, አሁንም, ባሉት, አመራሮች, እየተተገበረ, ስለሆነ, ወደታች, ወርዳችሁ, ብትሰሩ, የበለጠ, ተሰሚ, ትሆናለችሁ, አገርንም, በሰላም, ታስቀጥላላችሁ, ሀላፊነታችሁን, ተወጡ, ፡, ፡]   \n",
       "4                                                                                     [ኢቲቪ, ዜና, 57, ላይ, የሚቀርቡት, ወቅታዊ, ዜናዎች, በሀገርና, በውጭ, በጣም, ጥሩ, መረጃ, እያገኝን, ነው, ፡, ፡]   \n",
       "\n",
       "  category  \n",
       "0      ETV  \n",
       "1      ETV  \n",
       "2      ETV  \n",
       "3      ETV  \n",
       "4      ETV  "
      ]
     },
     "execution_count": 7,
     "metadata": {},
     "output_type": "execute_result"
    }
   ],
   "source": [
    "data.head()"
   ]
  },
  {
   "cell_type": "markdown",
   "metadata": {},
   "source": [
    "# Split Data"
   ]
  },
  {
   "cell_type": "code",
   "execution_count": 8,
   "metadata": {
    "ExecuteTime": {
     "end_time": "2020-09-02T19:13:13.154346Z",
     "start_time": "2020-09-02T19:13:13.135309Z"
    }
   },
   "outputs": [],
   "source": [
    "X_train, X_test, y_train, y_test = train_test_split(data['tokens'], \n",
    "                                                    data['category'],\n",
    "                                                   test_size = 0.2,\n",
    "                                                   random_state = RANDOM_STATE,\n",
    "                                                   stratify = data['category'])"
   ]
  },
  {
   "cell_type": "code",
   "execution_count": 9,
   "metadata": {
    "ExecuteTime": {
     "end_time": "2020-09-02T19:13:13.162853Z",
     "start_time": "2020-09-02T19:13:13.158019Z"
    }
   },
   "outputs": [
    {
     "data": {
      "text/plain": [
       "(3079,)"
      ]
     },
     "execution_count": 9,
     "metadata": {},
     "output_type": "execute_result"
    }
   ],
   "source": [
    "X_train.shape"
   ]
  },
  {
   "cell_type": "code",
   "execution_count": 10,
   "metadata": {
    "ExecuteTime": {
     "end_time": "2020-09-02T19:13:13.170672Z",
     "start_time": "2020-09-02T19:13:13.164938Z"
    }
   },
   "outputs": [
    {
     "data": {
      "text/plain": [
       "(770,)"
      ]
     },
     "execution_count": 10,
     "metadata": {},
     "output_type": "execute_result"
    }
   ],
   "source": [
    "X_test.shape"
   ]
  },
  {
   "cell_type": "markdown",
   "metadata": {},
   "source": [
    "# Encode Labels"
   ]
  },
  {
   "cell_type": "code",
   "execution_count": 11,
   "metadata": {
    "ExecuteTime": {
     "end_time": "2020-09-02T19:13:13.176600Z",
     "start_time": "2020-09-02T19:13:13.173229Z"
    }
   },
   "outputs": [],
   "source": [
    "le = LabelEncoder()"
   ]
  },
  {
   "cell_type": "code",
   "execution_count": 12,
   "metadata": {
    "ExecuteTime": {
     "end_time": "2020-09-02T19:13:13.186317Z",
     "start_time": "2020-09-02T19:13:13.178876Z"
    }
   },
   "outputs": [],
   "source": [
    "y_train_enc = le.fit_transform(y_train)"
   ]
  },
  {
   "cell_type": "code",
   "execution_count": 13,
   "metadata": {
    "ExecuteTime": {
     "end_time": "2020-09-02T19:13:13.192962Z",
     "start_time": "2020-09-02T19:13:13.188430Z"
    }
   },
   "outputs": [],
   "source": [
    "y_test_enc = le.transform(y_test)"
   ]
  },
  {
   "cell_type": "markdown",
   "metadata": {},
   "source": [
    "# Define Pipeline"
   ]
  },
  {
   "cell_type": "code",
   "execution_count": 14,
   "metadata": {
    "ExecuteTime": {
     "end_time": "2020-09-02T19:13:13.199447Z",
     "start_time": "2020-09-02T19:13:13.195502Z"
    }
   },
   "outputs": [],
   "source": [
    "def passthrough(doc):\n",
    "    \"\"\"passthrough function for use in the pipeline because the text is already tokenized\"\"\"\n",
    "    return doc"
   ]
  },
  {
   "cell_type": "code",
   "execution_count": 15,
   "metadata": {
    "ExecuteTime": {
     "end_time": "2020-09-02T19:13:13.206978Z",
     "start_time": "2020-09-02T19:13:13.201693Z"
    }
   },
   "outputs": [],
   "source": [
    "pipeline = Pipeline([\n",
    "    ('ጥሩ',CountVectorizer(preprocessor=passthrough, tokenizer=passthrough)), \n",
    "    ('classifier', MultinomialNB()), \n",
    "])"
   ]
  },
  {
   "cell_type": "markdown",
   "metadata": {},
   "source": [
    "# Model"
   ]
  },
  {
   "cell_type": "code",
   "execution_count": 16,
   "metadata": {
    "ExecuteTime": {
     "end_time": "2020-09-02T19:13:13.362173Z",
     "start_time": "2020-09-02T19:13:13.209249Z"
    }
   },
   "outputs": [
    {
     "data": {
      "text/plain": [
       "Pipeline(steps=[('ጥሩ',\n",
       "                 CountVectorizer(preprocessor=<function passthrough at 0x00000082B4CA5E50>,\n",
       "                                 tokenizer=<function passthrough at 0x00000082B4CA5E50>)),\n",
       "                ('classifier', MultinomialNB())])"
      ]
     },
     "execution_count": 16,
     "metadata": {},
     "output_type": "execute_result"
    }
   ],
   "source": [
    "pipeline.fit(X_train,y_train_enc)"
   ]
  },
  {
   "cell_type": "markdown",
   "metadata": {},
   "source": [
    "# Evaluate Model"
   ]
  },
  {
   "cell_type": "code",
   "execution_count": 17,
   "metadata": {
    "ExecuteTime": {
     "end_time": "2020-09-02T19:13:14.339045Z",
     "start_time": "2020-09-02T19:13:13.364340Z"
    },
    "scrolled": false
   },
   "outputs": [
    {
     "name": "stdout",
     "output_type": "stream",
     "text": [
      "Classification Report for Training Set\n",
      "              precision    recall  f1-score   support\n",
      "\n",
      "         ETV       0.99      1.00      0.99      3040\n",
      "          FM       0.00      0.00      0.00         5\n",
      "          NR       1.00      0.15      0.26        34\n",
      "\n",
      "    accuracy                           0.99      3079\n",
      "   macro avg       0.66      0.38      0.42      3079\n",
      "weighted avg       0.99      0.99      0.98      3079\n",
      "\n"
     ]
    },
    {
     "name": "stderr",
     "output_type": "stream",
     "text": [
      "C:\\Users\\Yostina\\anaconda3\\lib\\site-packages\\sklearn\\metrics\\_classification.py:1245: UndefinedMetricWarning: Precision and F-score are ill-defined and being set to 0.0 in labels with no predicted samples. Use `zero_division` parameter to control this behavior.\n",
      "  _warn_prf(average, modifier, msg_start, len(result))\n",
      "C:\\Users\\Yostina\\anaconda3\\lib\\site-packages\\sklearn\\metrics\\_classification.py:1245: UndefinedMetricWarning: Precision and F-score are ill-defined and being set to 0.0 in labels with no predicted samples. Use `zero_division` parameter to control this behavior.\n",
      "  _warn_prf(average, modifier, msg_start, len(result))\n",
      "C:\\Users\\Yostina\\anaconda3\\lib\\site-packages\\sklearn\\metrics\\_classification.py:1245: UndefinedMetricWarning: Precision and F-score are ill-defined and being set to 0.0 in labels with no predicted samples. Use `zero_division` parameter to control this behavior.\n",
      "  _warn_prf(average, modifier, msg_start, len(result))\n"
     ]
    },
    {
     "data": {
      "image/png": "[encoded data removed]",
      "text/plain": [
       "<Figure size 432x288 with 2 Axes>"
      ]
     },
     "metadata": {
      "needs_background": "light"
     },
     "output_type": "display_data"
    },
    {
     "data": {
      "image/png": "[encoded data removed]",
      "text/plain": [
       "<Figure size 432x288 with 2 Axes>"
      ]
     },
     "metadata": {
      "needs_background": "light"
     },
     "output_type": "display_data"
    }
   ],
   "source": [
    "evaluation_functions.confustion_matrix_and_classification_report(pipeline, \n",
    "                                                                 X_train, \n",
    "                                                                 y_train_enc, \n",
    "                                                                 le.classes_, \n",
    "                                                                 'Training')"
   ]
  },
  {
   "cell_type": "code",
   "execution_count": 18,
   "metadata": {
    "ExecuteTime": {
     "end_time": "2020-09-02T19:13:14.979427Z",
     "start_time": "2020-09-02T19:13:14.341253Z"
    },
    "scrolled": false
   },
   "outputs": [
    {
     "name": "stdout",
     "output_type": "stream",
     "text": [
      "Classification Report for Test Set\n",
      "              precision    recall  f1-score   support\n",
      "\n",
      "         ETV       0.99      1.00      0.99       760\n",
      "          FM       0.00      0.00      0.00         1\n",
      "          NR       1.00      0.22      0.36         9\n",
      "\n",
      "    accuracy                           0.99       770\n",
      "   macro avg       0.66      0.41      0.45       770\n",
      "weighted avg       0.99      0.99      0.99       770\n",
      "\n"
     ]
    },
    {
     "name": "stderr",
     "output_type": "stream",
     "text": [
      "C:\\Users\\Yostina\\anaconda3\\lib\\site-packages\\sklearn\\metrics\\_classification.py:1245: UndefinedMetricWarning: Precision and F-score are ill-defined and being set to 0.0 in labels with no predicted samples. Use `zero_division` parameter to control this behavior.\n",
      "  _warn_prf(average, modifier, msg_start, len(result))\n",
      "C:\\Users\\Yostina\\anaconda3\\lib\\site-packages\\sklearn\\metrics\\_classification.py:1245: UndefinedMetricWarning: Precision and F-score are ill-defined and being set to 0.0 in labels with no predicted samples. Use `zero_division` parameter to control this behavior.\n",
      "  _warn_prf(average, modifier, msg_start, len(result))\n",
      "C:\\Users\\Yostina\\anaconda3\\lib\\site-packages\\sklearn\\metrics\\_classification.py:1245: UndefinedMetricWarning: Precision and F-score are ill-defined and being set to 0.0 in labels with no predicted samples. Use `zero_division` parameter to control this behavior.\n",
      "  _warn_prf(average, modifier, msg_start, len(result))\n"
     ]
    },
    {
     "data": {
      "image/png": "[encoded data removed]",
      "text/plain": [
       "<Figure size 432x288 with 2 Axes>"
      ]
     },
     "metadata": {
      "needs_background": "light"
     },
     "output_type": "display_data"
    },
    {
     "data": {
      "image/png": "[encoded data removed]",
      "text/plain": [
       "<Figure size 432x288 with 2 Axes>"
      ]
     },
     "metadata": {
      "needs_background": "light"
     },
     "output_type": "display_data"
    }
   ],
   "source": [
    "evaluation_functions.confustion_matrix_and_classification_report(pipeline, \n",
    "                                                                 X_test, \n",
    "                                                                 y_test_enc, \n",
    "                                                                 le.classes_,\n",
    "                                                                 'Test')"
   ]
  },
  {
   "cell_type": "code",
   "execution_count": 19,
   "metadata": {
    "ExecuteTime": {
     "end_time": "2020-09-02T19:13:15.018133Z",
     "start_time": "2020-09-02T19:13:14.981368Z"
    }
   },
   "outputs": [],
   "source": [
    "lb = LabelBinarizer()\n",
    "lb.fit(y_test_enc)\n",
    "y_test_multi = lb.transform(y_test_enc)\n",
    "y_hat_test_multi = pipeline.predict_proba(X_test)"
   ]
  },
  {
   "cell_type": "code",
   "execution_count": 20,
   "metadata": {
    "ExecuteTime": {
     "end_time": "2020-09-02T19:13:15.707115Z",
     "start_time": "2020-09-02T19:13:15.020378Z"
    },
    "scrolled": false
   },
   "outputs": [
    {
     "data": {
      "image/png": "[encoded data removed]",
      "text/plain": [
       "<Figure size 432x288 with 1 Axes>"
      ]
     },
     "metadata": {
      "needs_background": "light"
     },
     "output_type": "display_data"
    },
    {
     "data": {
      "image/png": "[encoded data removed]",
      "text/plain": [
       "<Figure size 432x288 with 1 Axes>"
      ]
     },
     "metadata": {
      "needs_background": "light"
     },
     "output_type": "display_data"
    },
    {
     "data": {
      "image/png": "[encoded data removed]",
      "text/plain": [
       "<Figure size 432x288 with 1 Axes>"
      ]
     },
     "metadata": {
      "needs_background": "light"
     },
     "output_type": "display_data"
    }
   ],
   "source": [
    "evaluation_functions.pr_curves(y_test_multi, y_hat_test_multi, le.classes_)"
   ]
  },
  {
   "cell_type": "markdown",
   "metadata": {},
   "source": [
    "# Summary"
   ]
  },
  {
   "cell_type": "markdown",
   "metadata": {},
   "source": [
    "The accuracy for the model is 68% on the test set while being a significantly higher 82% on the training set.  The 14% difference tells me that the model is overfit on the training data.  Even so, 68% accuracy is still much better than random guessing which should give an accuracy of about 33%.\n",
    "\n",
    "The data is highly imbalanced and the model did much better on the majority class than the two minority classes with the class with the least representation doing the worst.  \n",
    "* The Negative Emotion class in the test data has an Recall of only 0.08, Positive has 0.60 and Neutral has 0.78\n",
    "* The Macro Average Recall is 0.49\n",
    "\n",
    "Significant amounts of the Negative and Positive class were classified as Neutral, while very few of the Neutral and Positive class were classified as Negative.  As is quantified with the Recall metrics, the model has a very hard time identifying what makes a feedback negative."
   ]
  },
  {
   "cell_type": "code",
   "execution_count": null,
   "metadata": {},
   "outputs": [],
   "source": []
  },
  {
   "cell_type": "code",
   "execution_count": null,
   "metadata": {},
   "outputs": [],
   "source": []
  },
  {
   "cell_type": "code",
   "execution_count": null,
   "metadata": {},
   "outputs": [],
   "source": []
  }
 ],
 "metadata": {
  "kernelspec": {
   "display_name": "Python 3",
   "language": "python",
   "name": "python3"
  },
  "language_info": {
   "codemirror_mode": {
    "name": "ipython",
    "version": 3
   },
   "file_extension": ".py",
   "mimetype": "text/x-python",
   "name": "python",
   "nbconvert_exporter": "python",
   "pygments_lexer": "ipython3",
   "version": "3.8.5"
  },
  "toc": {
   "base_numbering": 1,
   "nav_menu": {},
   "number_sections": true,
   "sideBar": true,
   "skip_h1_title": false,
   "title_cell": "Table of Contents",
   "title_sidebar": "Contents",
   "toc_cell": false,
   "toc_position": {},
   "toc_section_display": true,
   "toc_window_display": true
  },
  "varInspector": {
   "cols": {
    "lenName": 16,
    "lenType": 16,
    "lenVar": 40
   },
   "kernels_config": {
    "python": {
     "delete_cmd_postfix": "",
     "delete_cmd_prefix": "del ",
     "library": "var_list.py",
     "varRefreshCmd": "print(var_dic_list())"
    },
    "r": {
     "delete_cmd_postfix": ") ",
     "delete_cmd_prefix": "rm(",
     "library": "var_list.r",
     "varRefreshCmd": "cat(var_dic_list()) "
    }
   },
   "types_to_exclude": [
    "module",
    "function",
    "builtin_function_or_method",
    "instance",
    "_Feature"
   ],
   "window_display": false
  }
 },
 "nbformat": 4,
 "nbformat_minor": 2
}
