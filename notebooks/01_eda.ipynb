{
 "cells": [
  {
   "cell_type": "markdown",
   "metadata": {},
   "source": [
    "# EBC Feedback Sentiment Analysis CPU"
   ]
  },
  {
   "cell_type": "markdown",
   "metadata": {},
   "source": [
    "# Imports & Constants"
   ]
  },
  {
   "cell_type": "code",
   "execution_count": 62,
   "metadata": {
    "ExecuteTime": {
     "end_time": "2020-09-15T19:09:37.749559Z",
     "start_time": "2020-09-15T19:09:35.912714Z"
    }
   },
   "outputs": [],
   "source": [
    "import os\n",
    "import csv\n",
    "import pandas as pd\n",
    "import matplotlib.pyplot as plt\n",
    "%matplotlib inline\n",
    "import re"
   ]
  },
  {
   "cell_type": "code",
   "execution_count": 63,
   "metadata": {
    "ExecuteTime": {
     "end_time": "2020-09-15T19:09:37.755879Z",
     "start_time": "2020-09-15T19:09:37.751837Z"
    }
   },
   "outputs": [],
   "source": [
    "DATA_FILE_PATH = 'C:\\\\Users\\\\Yostina\\\\SentimentNLP\\\\'\n",
    "DATA_FILE_NAME = 'data.csv'\n",
    "SAVE_FILE = True\n",
    "CLEAN_EMPTY_FILE_NAME = 'empty_feedback_data.csv'\n",
    "CLEAN_DATA_FILE_NAME = 'clean_feedback_data.csv'\n"
   ]
  },
  {
   "cell_type": "markdown",
   "metadata": {},
   "source": [
    "# Read Data File"
   ]
  },
  {
   "cell_type": "code",
   "execution_count": 64,
   "metadata": {
    "ExecuteTime": {
     "end_time": "2020-09-15T19:09:37.897911Z",
     "start_time": "2020-09-15T19:09:37.758814Z"
    }
   },
   "outputs": [],
   "source": [
    "df = pd.read_csv(DATA_FILE_PATH+DATA_FILE_NAME,encoding=\"utf-8\" )\n",
    "#df = pd.read_csv(DATA_FILE_PATH+DATA_FILE_NAME )"
   ]
  },
  {
   "cell_type": "markdown",
   "metadata": {},
   "source": [
    "# Initial Review of Data"
   ]
  },
  {
   "cell_type": "code",
   "execution_count": 65,
   "metadata": {
    "ExecuteTime": {
     "end_time": "2020-09-15T19:09:37.921278Z",
     "start_time": "2020-09-15T19:09:37.900473Z"
    }
   },
   "outputs": [
    {
     "data": {
      "text/html": [
       "<div>\n",
       "<style scoped>\n",
       "    .dataframe tbody tr th:only-of-type {\n",
       "        vertical-align: middle;\n",
       "    }\n",
       "\n",
       "    .dataframe tbody tr th {\n",
       "        vertical-align: top;\n",
       "    }\n",
       "\n",
       "    .dataframe thead th {\n",
       "        text-align: right;\n",
       "    }\n",
       "</style>\n",
       "<table border=\"1\" class=\"dataframe\">\n",
       "  <thead>\n",
       "    <tr style=\"text-align: right;\">\n",
       "      <th></th>\n",
       "      <th>id</th>\n",
       "      <th>Region</th>\n",
       "      <th>Sex</th>\n",
       "      <th>Age</th>\n",
       "      <th>Edu_Level</th>\n",
       "      <th>Feedback</th>\n",
       "      <th>Fb_Day</th>\n",
       "      <th>Fb_Month</th>\n",
       "      <th>Fb_Year</th>\n",
       "    </tr>\n",
       "  </thead>\n",
       "  <tbody>\n",
       "    <tr>\n",
       "      <th>0</th>\n",
       "      <td>1</td>\n",
       "      <td>Debub</td>\n",
       "      <td>M</td>\n",
       "      <td>50</td>\n",
       "      <td>Cert</td>\n",
       "      <td>ኢቲቪ ሰራተኞች በሙሉ እንኳን ለገና በዓል በሰላም አደረሳችሁ፡፡</td>\n",
       "      <td>1</td>\n",
       "      <td>1</td>\n",
       "      <td>2008.0</td>\n",
       "    </tr>\n",
       "    <tr>\n",
       "      <th>1</th>\n",
       "      <td>2</td>\n",
       "      <td>NaN</td>\n",
       "      <td>NaN</td>\n",
       "      <td>NaN</td>\n",
       "      <td>Cert</td>\n",
       "      <td>መንግስት በአገራችን በደረሰው የተለያዩ ችግሮች ላይ እየወሰደ ያለው እርምጃ በጣም ጥሩ ነው በዚሁ ይቀጥል፡፡</td>\n",
       "      <td>1</td>\n",
       "      <td>1</td>\n",
       "      <td>NaN</td>\n",
       "    </tr>\n",
       "    <tr>\n",
       "      <th>2</th>\n",
       "      <td>3</td>\n",
       "      <td>NaN</td>\n",
       "      <td>NaN</td>\n",
       "      <td>NaN</td>\n",
       "      <td>Cert</td>\n",
       "      <td>ኢቲቪ ደግሞ በዜና በወቅታዊ ጉዳዮች ላይ እውነት ለመናገር በጣም ጥሩ እየሰራችሁ ነው በርቱ፡፡</td>\n",
       "      <td>1</td>\n",
       "      <td>1</td>\n",
       "      <td>NaN</td>\n",
       "    </tr>\n",
       "    <tr>\n",
       "      <th>3</th>\n",
       "      <td>4</td>\n",
       "      <td>NaN</td>\n",
       "      <td>NaN</td>\n",
       "      <td>NaN</td>\n",
       "      <td>Cert</td>\n",
       "      <td>ኢቲቪ ቢሰራ የምንለው ህዝቡ ስሩን የሰደደው የህዋት አስተዳደር አሁንም ባሉት አመራሮች እየተተገበረ ስለሆነ ወደታች ወርዳችሁ ብትሰሩ የበለጠ ተሰሚ ትሆናለችሁ አገርንም በሰላም ታስቀጥላላችሁ ሀላፊነታችሁን ተወጡ፡፡</td>\n",
       "      <td>1</td>\n",
       "      <td>1</td>\n",
       "      <td>NaN</td>\n",
       "    </tr>\n",
       "    <tr>\n",
       "      <th>4</th>\n",
       "      <td>5</td>\n",
       "      <td>NaN</td>\n",
       "      <td>NaN</td>\n",
       "      <td>30</td>\n",
       "      <td>Sec. Sc</td>\n",
       "      <td>ኢቲቪ ዜና 57 ላይ የሚቀርቡት ወቅታዊ ዜናዎች በሀገርና በውጭ በጣም ጥሩ መረጃ እያገኝን ነው፡፡</td>\n",
       "      <td>1</td>\n",
       "      <td>1</td>\n",
       "      <td>NaN</td>\n",
       "    </tr>\n",
       "  </tbody>\n",
       "</table>\n",
       "</div>"
      ],
      "text/plain": [
       "   id Region  Sex  Age Edu_Level  \\\n",
       "0   1  Debub    M   50      Cert   \n",
       "1   2    NaN  NaN  NaN      Cert   \n",
       "2   3    NaN  NaN  NaN      Cert   \n",
       "3   4    NaN  NaN  NaN      Cert   \n",
       "4   5    NaN  NaN   30   Sec. Sc   \n",
       "\n",
       "                                                                                                                                 Feedback  \\\n",
       "0                                                                                                ኢቲቪ ሰራተኞች በሙሉ እንኳን ለገና በዓል በሰላም አደረሳችሁ፡፡   \n",
       "1                                                                    መንግስት በአገራችን በደረሰው የተለያዩ ችግሮች ላይ እየወሰደ ያለው እርምጃ በጣም ጥሩ ነው በዚሁ ይቀጥል፡፡   \n",
       "2                                                                             ኢቲቪ ደግሞ በዜና በወቅታዊ ጉዳዮች ላይ እውነት ለመናገር በጣም ጥሩ እየሰራችሁ ነው በርቱ፡፡   \n",
       "3  ኢቲቪ ቢሰራ የምንለው ህዝቡ ስሩን የሰደደው የህዋት አስተዳደር አሁንም ባሉት አመራሮች እየተተገበረ ስለሆነ ወደታች ወርዳችሁ ብትሰሩ የበለጠ ተሰሚ ትሆናለችሁ አገርንም በሰላም ታስቀጥላላችሁ ሀላፊነታችሁን ተወጡ፡፡   \n",
       "4                                                                           ኢቲቪ ዜና 57 ላይ የሚቀርቡት ወቅታዊ ዜናዎች በሀገርና በውጭ በጣም ጥሩ መረጃ እያገኝን ነው፡፡   \n",
       "\n",
       "   Fb_Day  Fb_Month  Fb_Year  \n",
       "0       1         1   2008.0  \n",
       "1       1         1      NaN  \n",
       "2       1         1      NaN  \n",
       "3       1         1      NaN  \n",
       "4       1         1      NaN  "
      ]
     },
     "execution_count": 65,
     "metadata": {},
     "output_type": "execute_result"
    }
   ],
   "source": [
    "df.head()"
   ]
  },
  {
   "cell_type": "code",
   "execution_count": 66,
   "metadata": {},
   "outputs": [],
   "source": [
    "df.set_index('id', inplace=True)"
   ]
  },
  {
   "cell_type": "code",
   "execution_count": 67,
   "metadata": {},
   "outputs": [],
   "source": [
    "df2 = df.fillna(method='ffill')"
   ]
  },
  {
   "cell_type": "code",
   "execution_count": 68,
   "metadata": {},
   "outputs": [
    {
     "data": {
      "text/html": [
       "<div>\n",
       "<style scoped>\n",
       "    .dataframe tbody tr th:only-of-type {\n",
       "        vertical-align: middle;\n",
       "    }\n",
       "\n",
       "    .dataframe tbody tr th {\n",
       "        vertical-align: top;\n",
       "    }\n",
       "\n",
       "    .dataframe thead th {\n",
       "        text-align: right;\n",
       "    }\n",
       "</style>\n",
       "<table border=\"1\" class=\"dataframe\">\n",
       "  <thead>\n",
       "    <tr style=\"text-align: right;\">\n",
       "      <th></th>\n",
       "      <th>Region</th>\n",
       "      <th>Sex</th>\n",
       "      <th>Age</th>\n",
       "      <th>Edu_Level</th>\n",
       "      <th>Feedback</th>\n",
       "      <th>Fb_Day</th>\n",
       "      <th>Fb_Month</th>\n",
       "      <th>Fb_Year</th>\n",
       "    </tr>\n",
       "    <tr>\n",
       "      <th>id</th>\n",
       "      <th></th>\n",
       "      <th></th>\n",
       "      <th></th>\n",
       "      <th></th>\n",
       "      <th></th>\n",
       "      <th></th>\n",
       "      <th></th>\n",
       "      <th></th>\n",
       "    </tr>\n",
       "  </thead>\n",
       "  <tbody>\n",
       "    <tr>\n",
       "      <th>1</th>\n",
       "      <td>Debub</td>\n",
       "      <td>M</td>\n",
       "      <td>50</td>\n",
       "      <td>Cert</td>\n",
       "      <td>ኢቲቪ ሰራተኞች በሙሉ እንኳን ለገና በዓል በሰላም አደረሳችሁ፡፡</td>\n",
       "      <td>1</td>\n",
       "      <td>1</td>\n",
       "      <td>2008.0</td>\n",
       "    </tr>\n",
       "    <tr>\n",
       "      <th>2</th>\n",
       "      <td>Debub</td>\n",
       "      <td>M</td>\n",
       "      <td>50</td>\n",
       "      <td>Cert</td>\n",
       "      <td>መንግስት በአገራችን በደረሰው የተለያዩ ችግሮች ላይ እየወሰደ ያለው እርምጃ በጣም ጥሩ ነው በዚሁ ይቀጥል፡፡</td>\n",
       "      <td>1</td>\n",
       "      <td>1</td>\n",
       "      <td>2008.0</td>\n",
       "    </tr>\n",
       "    <tr>\n",
       "      <th>3</th>\n",
       "      <td>Debub</td>\n",
       "      <td>M</td>\n",
       "      <td>50</td>\n",
       "      <td>Cert</td>\n",
       "      <td>ኢቲቪ ደግሞ በዜና በወቅታዊ ጉዳዮች ላይ እውነት ለመናገር በጣም ጥሩ እየሰራችሁ ነው በርቱ፡፡</td>\n",
       "      <td>1</td>\n",
       "      <td>1</td>\n",
       "      <td>2008.0</td>\n",
       "    </tr>\n",
       "    <tr>\n",
       "      <th>4</th>\n",
       "      <td>Debub</td>\n",
       "      <td>M</td>\n",
       "      <td>50</td>\n",
       "      <td>Cert</td>\n",
       "      <td>ኢቲቪ ቢሰራ የምንለው ህዝቡ ስሩን የሰደደው የህዋት አስተዳደር አሁንም ባሉት አመራሮች እየተተገበረ ስለሆነ ወደታች ወርዳችሁ ብትሰሩ የበለጠ ተሰሚ ትሆናለችሁ አገርንም በሰላም ታስቀጥላላችሁ ሀላፊነታችሁን ተወጡ፡፡</td>\n",
       "      <td>1</td>\n",
       "      <td>1</td>\n",
       "      <td>2008.0</td>\n",
       "    </tr>\n",
       "    <tr>\n",
       "      <th>5</th>\n",
       "      <td>Debub</td>\n",
       "      <td>M</td>\n",
       "      <td>30</td>\n",
       "      <td>Sec. Sc</td>\n",
       "      <td>ኢቲቪ ዜና 57 ላይ የሚቀርቡት ወቅታዊ ዜናዎች በሀገርና በውጭ በጣም ጥሩ መረጃ እያገኝን ነው፡፡</td>\n",
       "      <td>1</td>\n",
       "      <td>1</td>\n",
       "      <td>2008.0</td>\n",
       "    </tr>\n",
       "  </tbody>\n",
       "</table>\n",
       "</div>"
      ],
      "text/plain": [
       "   Region Sex Age Edu_Level  \\\n",
       "id                            \n",
       "1   Debub   M  50      Cert   \n",
       "2   Debub   M  50      Cert   \n",
       "3   Debub   M  50      Cert   \n",
       "4   Debub   M  50      Cert   \n",
       "5   Debub   M  30   Sec. Sc   \n",
       "\n",
       "                                                                                                                                  Feedback  \\\n",
       "id                                                                                                                                           \n",
       "1                                                                                                 ኢቲቪ ሰራተኞች በሙሉ እንኳን ለገና በዓል በሰላም አደረሳችሁ፡፡   \n",
       "2                                                                     መንግስት በአገራችን በደረሰው የተለያዩ ችግሮች ላይ እየወሰደ ያለው እርምጃ በጣም ጥሩ ነው በዚሁ ይቀጥል፡፡   \n",
       "3                                                                              ኢቲቪ ደግሞ በዜና በወቅታዊ ጉዳዮች ላይ እውነት ለመናገር በጣም ጥሩ እየሰራችሁ ነው በርቱ፡፡   \n",
       "4   ኢቲቪ ቢሰራ የምንለው ህዝቡ ስሩን የሰደደው የህዋት አስተዳደር አሁንም ባሉት አመራሮች እየተተገበረ ስለሆነ ወደታች ወርዳችሁ ብትሰሩ የበለጠ ተሰሚ ትሆናለችሁ አገርንም በሰላም ታስቀጥላላችሁ ሀላፊነታችሁን ተወጡ፡፡   \n",
       "5                                                                            ኢቲቪ ዜና 57 ላይ የሚቀርቡት ወቅታዊ ዜናዎች በሀገርና በውጭ በጣም ጥሩ መረጃ እያገኝን ነው፡፡   \n",
       "\n",
       "    Fb_Day  Fb_Month  Fb_Year  \n",
       "id                             \n",
       "1        1         1   2008.0  \n",
       "2        1         1   2008.0  \n",
       "3        1         1   2008.0  \n",
       "4        1         1   2008.0  \n",
       "5        1         1   2008.0  "
      ]
     },
     "execution_count": 68,
     "metadata": {},
     "output_type": "execute_result"
    }
   ],
   "source": [
    "df2.head()"
   ]
  },
  {
   "cell_type": "code",
   "execution_count": 69,
   "metadata": {},
   "outputs": [],
   "source": [
    "df3 = df2.interpolate()"
   ]
  },
  {
   "cell_type": "code",
   "execution_count": 70,
   "metadata": {},
   "outputs": [],
   "source": [
    "df3.to_csv(DATA_FILE_PATH + CLEAN_EMPTY_FILE_NAME, index=False,encoding='utf-8')"
   ]
  },
  {
   "cell_type": "code",
   "execution_count": 71,
   "metadata": {},
   "outputs": [
    {
     "data": {
      "text/html": [
       "<div>\n",
       "<style scoped>\n",
       "    .dataframe tbody tr th:only-of-type {\n",
       "        vertical-align: middle;\n",
       "    }\n",
       "\n",
       "    .dataframe tbody tr th {\n",
       "        vertical-align: top;\n",
       "    }\n",
       "\n",
       "    .dataframe thead th {\n",
       "        text-align: right;\n",
       "    }\n",
       "</style>\n",
       "<table border=\"1\" class=\"dataframe\">\n",
       "  <thead>\n",
       "    <tr style=\"text-align: right;\">\n",
       "      <th></th>\n",
       "      <th>Region</th>\n",
       "      <th>Sex</th>\n",
       "      <th>Age</th>\n",
       "      <th>Edu_Level</th>\n",
       "      <th>Feedback</th>\n",
       "      <th>Fb_Day</th>\n",
       "      <th>Fb_Month</th>\n",
       "      <th>Fb_Year</th>\n",
       "    </tr>\n",
       "    <tr>\n",
       "      <th>id</th>\n",
       "      <th></th>\n",
       "      <th></th>\n",
       "      <th></th>\n",
       "      <th></th>\n",
       "      <th></th>\n",
       "      <th></th>\n",
       "      <th></th>\n",
       "      <th></th>\n",
       "    </tr>\n",
       "  </thead>\n",
       "  <tbody>\n",
       "    <tr>\n",
       "      <th>1</th>\n",
       "      <td>Debub</td>\n",
       "      <td>M</td>\n",
       "      <td>50</td>\n",
       "      <td>Cert</td>\n",
       "      <td>ኢቲቪ ሰራተኞች በሙሉ እንኳን ለገና በዓል በሰላም አደረሳችሁ፡፡</td>\n",
       "      <td>1</td>\n",
       "      <td>1</td>\n",
       "      <td>2008.0</td>\n",
       "    </tr>\n",
       "    <tr>\n",
       "      <th>2</th>\n",
       "      <td>Debub</td>\n",
       "      <td>M</td>\n",
       "      <td>50</td>\n",
       "      <td>Cert</td>\n",
       "      <td>መንግስት በአገራችን በደረሰው የተለያዩ ችግሮች ላይ እየወሰደ ያለው እርምጃ በጣም ጥሩ ነው በዚሁ ይቀጥል፡፡</td>\n",
       "      <td>1</td>\n",
       "      <td>1</td>\n",
       "      <td>2008.0</td>\n",
       "    </tr>\n",
       "    <tr>\n",
       "      <th>3</th>\n",
       "      <td>Debub</td>\n",
       "      <td>M</td>\n",
       "      <td>50</td>\n",
       "      <td>Cert</td>\n",
       "      <td>ኢቲቪ ደግሞ በዜና በወቅታዊ ጉዳዮች ላይ እውነት ለመናገር በጣም ጥሩ እየሰራችሁ ነው በርቱ፡፡</td>\n",
       "      <td>1</td>\n",
       "      <td>1</td>\n",
       "      <td>2008.0</td>\n",
       "    </tr>\n",
       "    <tr>\n",
       "      <th>4</th>\n",
       "      <td>Debub</td>\n",
       "      <td>M</td>\n",
       "      <td>50</td>\n",
       "      <td>Cert</td>\n",
       "      <td>ኢቲቪ ቢሰራ የምንለው ህዝቡ ስሩን የሰደደው የህዋት አስተዳደር አሁንም ባሉት አመራሮች እየተተገበረ ስለሆነ ወደታች ወርዳችሁ ብትሰሩ የበለጠ ተሰሚ ትሆናለችሁ አገርንም በሰላም ታስቀጥላላችሁ ሀላፊነታችሁን ተወጡ፡፡</td>\n",
       "      <td>1</td>\n",
       "      <td>1</td>\n",
       "      <td>2008.0</td>\n",
       "    </tr>\n",
       "    <tr>\n",
       "      <th>5</th>\n",
       "      <td>Debub</td>\n",
       "      <td>M</td>\n",
       "      <td>30</td>\n",
       "      <td>Sec. Sc</td>\n",
       "      <td>ኢቲቪ ዜና 57 ላይ የሚቀርቡት ወቅታዊ ዜናዎች በሀገርና በውጭ በጣም ጥሩ መረጃ እያገኝን ነው፡፡</td>\n",
       "      <td>1</td>\n",
       "      <td>1</td>\n",
       "      <td>2008.0</td>\n",
       "    </tr>\n",
       "  </tbody>\n",
       "</table>\n",
       "</div>"
      ],
      "text/plain": [
       "   Region Sex Age Edu_Level  \\\n",
       "id                            \n",
       "1   Debub   M  50      Cert   \n",
       "2   Debub   M  50      Cert   \n",
       "3   Debub   M  50      Cert   \n",
       "4   Debub   M  50      Cert   \n",
       "5   Debub   M  30   Sec. Sc   \n",
       "\n",
       "                                                                                                                                  Feedback  \\\n",
       "id                                                                                                                                           \n",
       "1                                                                                                 ኢቲቪ ሰራተኞች በሙሉ እንኳን ለገና በዓል በሰላም አደረሳችሁ፡፡   \n",
       "2                                                                     መንግስት በአገራችን በደረሰው የተለያዩ ችግሮች ላይ እየወሰደ ያለው እርምጃ በጣም ጥሩ ነው በዚሁ ይቀጥል፡፡   \n",
       "3                                                                              ኢቲቪ ደግሞ በዜና በወቅታዊ ጉዳዮች ላይ እውነት ለመናገር በጣም ጥሩ እየሰራችሁ ነው በርቱ፡፡   \n",
       "4   ኢቲቪ ቢሰራ የምንለው ህዝቡ ስሩን የሰደደው የህዋት አስተዳደር አሁንም ባሉት አመራሮች እየተተገበረ ስለሆነ ወደታች ወርዳችሁ ብትሰሩ የበለጠ ተሰሚ ትሆናለችሁ አገርንም በሰላም ታስቀጥላላችሁ ሀላፊነታችሁን ተወጡ፡፡   \n",
       "5                                                                            ኢቲቪ ዜና 57 ላይ የሚቀርቡት ወቅታዊ ዜናዎች በሀገርና በውጭ በጣም ጥሩ መረጃ እያገኝን ነው፡፡   \n",
       "\n",
       "    Fb_Day  Fb_Month  Fb_Year  \n",
       "id                             \n",
       "1        1         1   2008.0  \n",
       "2        1         1   2008.0  \n",
       "3        1         1   2008.0  \n",
       "4        1         1   2008.0  \n",
       "5        1         1   2008.0  "
      ]
     },
     "execution_count": 71,
     "metadata": {},
     "output_type": "execute_result"
    }
   ],
   "source": [
    "df3.head()"
   ]
  },
  {
   "cell_type": "markdown",
   "metadata": {},
   "source": [
    "## Clean Data"
   ]
  },
  {
   "cell_type": "markdown",
   "metadata": {},
   "source": [
    "* Delete the line with no feedback\n",
    "* df_clean.tweet_text = df_clean.Feedback.apply(lambda x: re.sub(\"@[A-Za-z0-9]+\", \"\", x))\n",
    "* Delete the lines where ፕ/ት = \"ፕሬዚዳንት'\n",
    "* Delete the lines where ጠ/ሚ = \"ጠቅላይ ሚኒስትር'\n",
    "* Replace previos value for empty cell\n",
    "    * Some data will be lost because of this, but protecting the privacy of any individuals mentioned in the tweets is more important"
   ]
  },
  {
   "cell_type": "code",
   "execution_count": 72,
   "metadata": {},
   "outputs": [],
   "source": [
    "df_clean = pd.read_csv(DATA_FILE_PATH+CLEAN_EMPTY_FILE_NAME,encoding=\"utf-8\" )"
   ]
  },
  {
   "cell_type": "code",
   "execution_count": 73,
   "metadata": {},
   "outputs": [],
   "source": [
    "\n",
    "\n",
    "df_clean.Feedback = df_clean.Feedback.apply(lambda x: re.sub(\"@[A-Za-z0-9]+\", \"\", x))\n",
    "df_clean.Feedback = df_clean.Feedback.apply(lambda x: re.sub(\"ፕ/ት\", \"ፕሬዚዳንት\", x))\n",
    "df_clean.Feedback = df_clean.Feedback.apply(lambda x: re.sub(\"ጠ/ም\", \"ጠቅላይ ሚኒስትር\", x))\n",
    "\n",
    "\n",
    "\n",
    "df_clean.Feedback = df_clean.Feedback.apply(lambda x: re.sub('[ሀሃሐሓኀኃኻ]','ሀ',x))\n",
    "df_clean.Feedback = df_clean.Feedback.apply(lambda x: re.sub('[ሁሑኁኹ]','ሁ',x))\n",
    "df_clean.Feedback = df_clean.Feedback.apply(lambda x: re.sub('[ሂሒኂኺ]','ሂ',x))\n",
    "df_clean.Feedback = df_clean.Feedback.apply(lambda x: re.sub('[ሄሔኄኼ]','ሄ',x))\n",
    "df_clean.Feedback = df_clean.Feedback.apply(lambda x: re.sub('[ህሕኅኽ]','ህ',x))\n",
    "df_clean.Feedback = df_clean.Feedback.apply(lambda x:re.sub('[ሆሖኆኾ]','ሆ',x))\n",
    "df_clean.Feedback = df_clean.Feedback.apply(lambda x: re.sub('[ሁሑኁኹ]','ሁ',x))\n",
    "df_clean.Feedback = df_clean.Feedback.apply(lambda x: re.sub('[ሁሑኁኹ]','ሁ',x))\n",
    "    #now lets normalize families of amharic word family ሰ\n",
    "df_clean.Feedback = df_clean.Feedback.apply(lambda x: re.sub('[ሰሠ]','ሰ',x))\n",
    "df_clean.Feedback = df_clean.Feedback.apply(lambda x: re.sub('[ሱሡ]','ሱ',x)) \n",
    "df_clean.Feedback = df_clean.Feedback.apply(lambda x: re.sub('[ሲሢ]','ሲ',x)) \n",
    "df_clean.Feedback = df_clean.Feedback.apply(lambda x: re.sub('[ሳሣ]','ሳ',x)) \n",
    "df_clean.Feedback = df_clean.Feedback.apply(lambda x: re.sub('[ሴሤ]','ሴ',x)) \n",
    "df_clean.Feedback = df_clean.Feedback.apply(lambda x: re.sub('[ስሥ]','ስ',x)) \n",
    "df_clean.Feedback = df_clean.Feedback.apply(lambda x: re.sub('[ሶሦ]','ሶ',x)) \n",
    "   ## now lets normalize family of amharic letter አ\n",
    "df_clean.Feedback = df_clean.Feedback.apply(lambda x: re.sub('[አዐኣዓ]','አ',x))\n",
    "df_clean.Feedback = df_clean.Feedback.apply(lambda x: re.sub('[ኡዑ]','ኡ',x)) \n",
    "df_clean.Feedback = df_clean.Feedback.apply(lambda x: re.sub('[ኢዒ]','ኢ',x)) \n",
    "df_clean.Feedback = df_clean.Feedback.apply(lambda x: re.sub('[ኤዔ]','ኤዔ',x)) \n",
    "df_clean.Feedback = df_clean.Feedback.apply(lambda x: re.sub('[እዕ]','እ',x)) \n",
    "df_clean.Feedback = df_clean.Feedback.apply(lambda x: re.sub('[ኦዖ]','ኦዖ',x))\n",
    "    ## now lets normalize family of amharic letter ፀጰ   ጸጹጺጻጼጽጾ\n",
    "df_clean.Feedback = df_clean.Feedback.apply(lambda x: re.sub('[ፀጸ]','ፀ',x)) \n",
    "df_clean.Feedback = df_clean.Feedback.apply(lambda x: re.sub('[ፁጹ]','ፁ',x))\n",
    "df_clean.Feedback = df_clean.Feedback.apply(lambda x: re.sub('[ፂጺ]','ፂ',x))\n",
    "df_clean.Feedback = df_clean.Feedback.apply(lambda x: re.sub('[ጻፃ]','ፃ',x))\n",
    "df_clean.Feedback = df_clean.Feedback.apply(lambda x: re.sub('[ፄጼ]','ፄ',x))\n",
    "df_clean.Feedback = df_clean.Feedback.apply(lambda x: re.sub('[ፅጽ]','ፅ',x))\n",
    "df_clean.Feedback = df_clean.Feedback.apply(lambda x: re.sub('[ፆጾ]','ፆ',x))"
   ]
  },
  {
   "cell_type": "markdown",
   "metadata": {},
   "source": [
    "## Save Cleaned Data File"
   ]
  },
  {
   "cell_type": "code",
   "execution_count": 74,
   "metadata": {
    "ExecuteTime": {
     "end_time": "2020-09-15T19:09:38.232879Z",
     "start_time": "2020-09-15T19:09:38.229153Z"
    }
   },
   "outputs": [],
   "source": [
    "if SAVE_FILE:\n",
    "    df_clean.to_csv(DATA_FILE_PATH + CLEAN_DATA_FILE_NAME, index=False,encoding='utf-8')"
   ]
  },
  {
   "cell_type": "code",
   "execution_count": 75,
   "metadata": {},
   "outputs": [
    {
     "data": {
      "text/html": [
       "<div>\n",
       "<style scoped>\n",
       "    .dataframe tbody tr th:only-of-type {\n",
       "        vertical-align: middle;\n",
       "    }\n",
       "\n",
       "    .dataframe tbody tr th {\n",
       "        vertical-align: top;\n",
       "    }\n",
       "\n",
       "    .dataframe thead th {\n",
       "        text-align: right;\n",
       "    }\n",
       "</style>\n",
       "<table border=\"1\" class=\"dataframe\">\n",
       "  <thead>\n",
       "    <tr style=\"text-align: right;\">\n",
       "      <th></th>\n",
       "      <th>Region</th>\n",
       "      <th>Sex</th>\n",
       "      <th>Age</th>\n",
       "      <th>Edu_Level</th>\n",
       "      <th>Feedback</th>\n",
       "      <th>Fb_Day</th>\n",
       "      <th>Fb_Month</th>\n",
       "      <th>Fb_Year</th>\n",
       "    </tr>\n",
       "  </thead>\n",
       "  <tbody>\n",
       "    <tr>\n",
       "      <th>0</th>\n",
       "      <td>Debub</td>\n",
       "      <td>M</td>\n",
       "      <td>50</td>\n",
       "      <td>Cert</td>\n",
       "      <td>ኢቲቪ ሰራተኞች በሙሉ እንኳን ለገና በአል በሰላም አደረሳችሁ፡፡</td>\n",
       "      <td>1</td>\n",
       "      <td>1</td>\n",
       "      <td>2008.0</td>\n",
       "    </tr>\n",
       "    <tr>\n",
       "      <th>1</th>\n",
       "      <td>Debub</td>\n",
       "      <td>M</td>\n",
       "      <td>50</td>\n",
       "      <td>Cert</td>\n",
       "      <td>መንግስት በአገራችን በደረሰው የተለያዩ ችግሮች ላይ እየወሰደ ያለው እርምጃ በጣም ጥሩ ነው በዚሁ ይቀጥል፡፡</td>\n",
       "      <td>1</td>\n",
       "      <td>1</td>\n",
       "      <td>2008.0</td>\n",
       "    </tr>\n",
       "    <tr>\n",
       "      <th>2</th>\n",
       "      <td>Debub</td>\n",
       "      <td>M</td>\n",
       "      <td>50</td>\n",
       "      <td>Cert</td>\n",
       "      <td>ኢቲቪ ደግሞ በዜና በወቅታዊ ጉዳዮች ላይ እውነት ለመናገር በጣም ጥሩ እየሰራችሁ ነው በርቱ፡፡</td>\n",
       "      <td>1</td>\n",
       "      <td>1</td>\n",
       "      <td>2008.0</td>\n",
       "    </tr>\n",
       "    <tr>\n",
       "      <th>3</th>\n",
       "      <td>Debub</td>\n",
       "      <td>M</td>\n",
       "      <td>50</td>\n",
       "      <td>Cert</td>\n",
       "      <td>ኢቲቪ ቢሰራ የምንለው ህዝቡ ስሩን የሰደደው የህዋት አስተዳደር አሁንም ባሉት አመራሮች እየተተገበረ ስለሆነ ወደታች ወርዳችሁ ብትሰሩ የበለጠ ተሰሚ ትሆናለችሁ አገርንም በሰላም ታስቀጥላላችሁ ሀላፊነታችሁን ተወጡ፡፡</td>\n",
       "      <td>1</td>\n",
       "      <td>1</td>\n",
       "      <td>2008.0</td>\n",
       "    </tr>\n",
       "    <tr>\n",
       "      <th>4</th>\n",
       "      <td>Debub</td>\n",
       "      <td>M</td>\n",
       "      <td>30</td>\n",
       "      <td>Sec. Sc</td>\n",
       "      <td>ኢቲቪ ዜና 57 ላይ የሚቀርቡት ወቅታዊ ዜናዎች በሀገርና በውጭ በጣም ጥሩ መረጃ እያገኝን ነው፡፡</td>\n",
       "      <td>1</td>\n",
       "      <td>1</td>\n",
       "      <td>2008.0</td>\n",
       "    </tr>\n",
       "  </tbody>\n",
       "</table>\n",
       "</div>"
      ],
      "text/plain": [
       "  Region Sex Age Edu_Level  \\\n",
       "0  Debub   M  50      Cert   \n",
       "1  Debub   M  50      Cert   \n",
       "2  Debub   M  50      Cert   \n",
       "3  Debub   M  50      Cert   \n",
       "4  Debub   M  30   Sec. Sc   \n",
       "\n",
       "                                                                                                                                 Feedback  \\\n",
       "0                                                                                                ኢቲቪ ሰራተኞች በሙሉ እንኳን ለገና በአል በሰላም አደረሳችሁ፡፡   \n",
       "1                                                                    መንግስት በአገራችን በደረሰው የተለያዩ ችግሮች ላይ እየወሰደ ያለው እርምጃ በጣም ጥሩ ነው በዚሁ ይቀጥል፡፡   \n",
       "2                                                                             ኢቲቪ ደግሞ በዜና በወቅታዊ ጉዳዮች ላይ እውነት ለመናገር በጣም ጥሩ እየሰራችሁ ነው በርቱ፡፡   \n",
       "3  ኢቲቪ ቢሰራ የምንለው ህዝቡ ስሩን የሰደደው የህዋት አስተዳደር አሁንም ባሉት አመራሮች እየተተገበረ ስለሆነ ወደታች ወርዳችሁ ብትሰሩ የበለጠ ተሰሚ ትሆናለችሁ አገርንም በሰላም ታስቀጥላላችሁ ሀላፊነታችሁን ተወጡ፡፡   \n",
       "4                                                                           ኢቲቪ ዜና 57 ላይ የሚቀርቡት ወቅታዊ ዜናዎች በሀገርና በውጭ በጣም ጥሩ መረጃ እያገኝን ነው፡፡   \n",
       "\n",
       "   Fb_Day  Fb_Month  Fb_Year  \n",
       "0       1         1   2008.0  \n",
       "1       1         1   2008.0  \n",
       "2       1         1   2008.0  \n",
       "3       1         1   2008.0  \n",
       "4       1         1   2008.0  "
      ]
     },
     "execution_count": 75,
     "metadata": {},
     "output_type": "execute_result"
    }
   ],
   "source": [
    "df_clean.head()"
   ]
  },
  {
   "cell_type": "markdown",
   "metadata": {},
   "source": [
    "## Visualize Data"
   ]
  },
  {
   "cell_type": "markdown",
   "metadata": {},
   "source": [
    "## Distribution of Classes by Gender"
   ]
  },
  {
   "cell_type": "code",
   "execution_count": 76,
   "metadata": {},
   "outputs": [
    {
     "data": {
      "image/png": "[encoded data removed]",
      "text/plain": [
       "<Figure size 576x432 with 1 Axes>"
      ]
     },
     "metadata": {
      "needs_background": "light"
     },
     "output_type": "display_data"
    }
   ],
   "source": [
    "plt.figure(figsize=(8,6))\n",
    "df_clean.Sex.hist(xlabelsize=14)\n",
    "plt.title('Which Gender give more feedback?', fontsize=20)\n",
    "plt.ylabel('# of feedback', fontsize=16)\n",
    "plt.show()"
   ]
  },
  {
   "cell_type": "markdown",
   "metadata": {},
   "source": [
    "## Distribution of Classes by Year"
   ]
  },
  {
   "cell_type": "markdown",
   "metadata": {},
   "source": [
    "plt.figure(figsize=(8,6))\n",
    "df_clean.Fb_Year.hist(xlabelsize=14)\n",
    "plt.title('Which Fb_Year give more feedback?', fontsize=20)\n",
    "plt.ylabel('# of feedback', fontsize=16)\n",
    "plt.show()"
   ]
  },
  {
   "cell_type": "markdown",
   "metadata": {},
   "source": [
    "## Distribution of Classes by Edu_Level"
   ]
  },
  {
   "cell_type": "code",
   "execution_count": 77,
   "metadata": {},
   "outputs": [
    {
     "data": {
      "image/png": "[encoded data removed]",
      "text/plain": [
       "<Figure size 576x432 with 1 Axes>"
      ]
     },
     "metadata": {
      "needs_background": "light"
     },
     "output_type": "display_data"
    }
   ],
   "source": [
    "plt.figure(figsize=(8,6))\n",
    "df_clean.Edu_Level.hist(xlabelsize=14)\n",
    "plt.title('Which Education Level give more feedback?', fontsize=20)\n",
    "plt.ylabel('# of feedback', fontsize=16)\n",
    "plt.show()"
   ]
  },
  {
   "cell_type": "markdown",
   "metadata": {},
   "source": [
    "## Distribution of Classes by Region"
   ]
  },
  {
   "cell_type": "code",
   "execution_count": 79,
   "metadata": {},
   "outputs": [],
   "source": [
    "## Distribution of Classes by category"
   ]
  },
  {
   "cell_type": "code",
   "execution_count": 89,
   "metadata": {
    "ExecuteTime": {
     "end_time": "2020-09-15T19:13:03.652276Z",
     "start_time": "2020-09-15T19:13:03.426513Z"
    }
   },
   "outputs": [
    {
     "data": {
      "image/png": "[encoded data removed]",
      "text/plain": [
       "<Figure size 1296x432 with 1 Axes>"
      ]
     },
     "metadata": {
      "needs_background": "light"
     },
     "output_type": "display_data"
    }
   ],
   "source": [
    "plt.figure(figsize=(18,6))\n",
    "df_clean.Region.hist(xlabelsize=14)\n",
    "plt.title('Which region give more feedback?', fontsize=20)\n",
    "plt.ylabel('# of feedback', fontsize=6)\n",
    "plt.show()"
   ]
  },
  {
   "cell_type": "markdown",
   "metadata": {},
   "source": [
    "## How long are the feedback?"
   ]
  },
  {
   "cell_type": "code",
   "execution_count": 81,
   "metadata": {
    "ExecuteTime": {
     "end_time": "2020-09-15T19:09:39.207027Z",
     "start_time": "2020-09-15T19:09:39.197145Z"
    }
   },
   "outputs": [],
   "source": [
    "df_clean['Feedback_len'] = df_clean.Feedback.apply(len)"
   ]
  },
  {
   "cell_type": "code",
   "execution_count": 82,
   "metadata": {
    "ExecuteTime": {
     "end_time": "2020-09-15T19:09:39.498221Z",
     "start_time": "2020-09-15T19:09:39.209364Z"
    }
   },
   "outputs": [
    {
     "data": {
      "image/png": "[encoded data removed]",
      "text/plain": [
       "<Figure size 432x288 with 1 Axes>"
      ]
     },
     "metadata": {
      "needs_background": "light"
     },
     "output_type": "display_data"
    }
   ],
   "source": [
    "df_clean.Feedback_len.hist()\n",
    "plt.title('Feedback Length for All TFeedback')\n",
    "plt.xlabel('Feedbackt Lengh')\n",
    "plt.ylabel('# of Feedback')\n",
    "plt.show()"
   ]
  },
  {
   "cell_type": "code",
   "execution_count": 83,
   "metadata": {
    "ExecuteTime": {
     "end_time": "2020-09-15T19:09:39.794409Z",
     "start_time": "2020-09-15T19:09:39.790990Z"
    }
   },
   "outputs": [],
   "source": [
    "pd.set_option('display.max_colwidth', None)"
   ]
  },
  {
   "cell_type": "code",
   "execution_count": 84,
   "metadata": {
    "ExecuteTime": {
     "end_time": "2020-09-15T19:09:39.832772Z",
     "start_time": "2020-09-15T19:09:39.800808Z"
    }
   },
   "outputs": [
    {
     "data": {
      "text/html": [
       "<div>\n",
       "<style scoped>\n",
       "    .dataframe tbody tr th:only-of-type {\n",
       "        vertical-align: middle;\n",
       "    }\n",
       "\n",
       "    .dataframe tbody tr th {\n",
       "        vertical-align: top;\n",
       "    }\n",
       "\n",
       "    .dataframe thead th {\n",
       "        text-align: right;\n",
       "    }\n",
       "</style>\n",
       "<table border=\"1\" class=\"dataframe\">\n",
       "  <thead>\n",
       "    <tr style=\"text-align: right;\">\n",
       "      <th></th>\n",
       "      <th>Region</th>\n",
       "      <th>Sex</th>\n",
       "      <th>Age</th>\n",
       "      <th>Edu_Level</th>\n",
       "      <th>Feedback</th>\n",
       "      <th>Fb_Day</th>\n",
       "      <th>Fb_Month</th>\n",
       "      <th>Fb_Year</th>\n",
       "      <th>Feedback_len</th>\n",
       "    </tr>\n",
       "  </thead>\n",
       "  <tbody>\n",
       "    <tr>\n",
       "      <th>16</th>\n",
       "      <td>Amhara</td>\n",
       "      <td>F</td>\n",
       "      <td>48</td>\n",
       "      <td>Ele</td>\n",
       "      <td>ኢቲቪ. የህዝብ ሚዲያ እንደመሆኑ ቢሰራልን የምንለው አቢሲኒያ ባንክ በኤዔጀንሲ ተቀጥረን የምንሰራ በተለያዩ ቅርንጫፎች 300 የምንሆን የደሞዝ፣የጡረታ፣ጥቅማጥቅም እና ማን እንደሆነ የቀጠረን ኤዔጀንሲ ማወቅ አልቻልንም መብታችን A A ከሚገኝው ዋና ቢሮ  ጠይቁልን፡፡ 0920794036 ወ/አብዱ ሽበሽ</td>\n",
       "      <td>1</td>\n",
       "      <td>1</td>\n",
       "      <td>2008.0</td>\n",
       "      <td>188</td>\n",
       "    </tr>\n",
       "    <tr>\n",
       "      <th>28</th>\n",
       "      <td>A A</td>\n",
       "      <td>M</td>\n",
       "      <td>58</td>\n",
       "      <td>Degree</td>\n",
       "      <td>መንግስት መግለፅ ያልፍለገው ኢቲቪ መስራት ያስራት ያልቻለው ሱዳን 90 ኪሎ ሜትር ገብታ 1 ቢሊዮን ንብረት እና 1800 ሰዎች ተፈናቅዋል በጀርመን ሚዲያ የሰማነው ይህንን ለህዝቡ በግልፅ ማሳቅና መዘገብ አለባችሁ ቢታረም ጥሩ ነው፡፡</td>\n",
       "      <td>1</td>\n",
       "      <td>1</td>\n",
       "      <td>2008.0</td>\n",
       "      <td>146</td>\n",
       "    </tr>\n",
       "    <tr>\n",
       "      <th>49</th>\n",
       "      <td>Amhara</td>\n",
       "      <td>M</td>\n",
       "      <td>50</td>\n",
       "      <td>Ele</td>\n",
       "      <td>በራያ ቆቦ ላይ ችግር አለ ወሎ ውስጥ አራት ቋንቋ አለ ከበፊት ጀምሮ አብረን ነው የምንኖረው አሁን ግን አንዱ ፓርቲ ኦዖሮሞ ነው ላል አንዱ ደግሞ Amhara ነው ይላል ይህን እግር መንግስት ወሎ ክፍለሀገር ተብሎ እንዲቀጥል ህዝቡን በማነጋገር ሰላም ቢፈጥር ጦርነት ይብቃን አሳስቡልን ኢቲቪ ህዝቡን አወያዩ፡፡</td>\n",
       "      <td>1</td>\n",
       "      <td>1</td>\n",
       "      <td>2008.0</td>\n",
       "      <td>195</td>\n",
       "    </tr>\n",
       "    <tr>\n",
       "      <th>58</th>\n",
       "      <td>A A</td>\n",
       "      <td>M</td>\n",
       "      <td>58</td>\n",
       "      <td>Degree</td>\n",
       "      <td>ጠ/ሚ አሁን ለAmhara ጥላቻ እንዳለባቸው የሚያሳየው ልዩ ሀይሉ ከመከላከያ እኩል ተዋግቶ Mekele ጀነራሎቸን ሲሰበስቡና በተወካዮች ምክር ቤት ስመሰጋገኑ የAmharaን ልዩ ሀይል አላነሱም ይህ ምንያሳያል ኢቲቪ ይህን ሀሳብ አስተላልፉልን፡፡</td>\n",
       "      <td>1</td>\n",
       "      <td>1</td>\n",
       "      <td>2008.0</td>\n",
       "      <td>154</td>\n",
       "    </tr>\n",
       "    <tr>\n",
       "      <th>59</th>\n",
       "      <td>A A</td>\n",
       "      <td>M</td>\n",
       "      <td>58</td>\n",
       "      <td>Ele</td>\n",
       "      <td>ም/ወለጋ ላይ መከላከያን አስወጡ ኔቶርክ አቋረጡ ከዛ የAmhara ብሄር አስጨፈጨፉ ኔቶርክ በማ ቁጥጥር ስር ነው ዌስ መንግስት አገሪቱን የመጠበቅ መረጃ የለውም አይታመንም ህዝብ እየታዘባቸው ነው ኢቲቪ ነፃ የሆነ ሚዲያ አይደለም እውነቱን አትዘግቡም ግን እናሳውቃችሁ ብልን ነው፡፡</td>\n",
       "      <td>1</td>\n",
       "      <td>1</td>\n",
       "      <td>2008.0</td>\n",
       "      <td>177</td>\n",
       "    </tr>\n",
       "  </tbody>\n",
       "</table>\n",
       "</div>"
      ],
      "text/plain": [
       "    Region Sex Age Edu_Level  \\\n",
       "16  Amhara   F  48       Ele   \n",
       "28     A A   M  58    Degree   \n",
       "49  Amhara   M  50       Ele   \n",
       "58     A A   M  58    Degree   \n",
       "59     A A   M  58       Ele   \n",
       "\n",
       "                                                                                                                                                                                               Feedback  \\\n",
       "16         ኢቲቪ. የህዝብ ሚዲያ እንደመሆኑ ቢሰራልን የምንለው አቢሲኒያ ባንክ በኤዔጀንሲ ተቀጥረን የምንሰራ በተለያዩ ቅርንጫፎች 300 የምንሆን የደሞዝ፣የጡረታ፣ጥቅማጥቅም እና ማን እንደሆነ የቀጠረን ኤዔጀንሲ ማወቅ አልቻልንም መብታችን A A ከሚገኝው ዋና ቢሮ  ጠይቁልን፡፡ 0920794036 ወ/አብዱ ሽበሽ   \n",
       "28                                                   መንግስት መግለፅ ያልፍለገው ኢቲቪ መስራት ያስራት ያልቻለው ሱዳን 90 ኪሎ ሜትር ገብታ 1 ቢሊዮን ንብረት እና 1800 ሰዎች ተፈናቅዋል በጀርመን ሚዲያ የሰማነው ይህንን ለህዝቡ በግልፅ ማሳቅና መዘገብ አለባችሁ ቢታረም ጥሩ ነው፡፡   \n",
       "49  በራያ ቆቦ ላይ ችግር አለ ወሎ ውስጥ አራት ቋንቋ አለ ከበፊት ጀምሮ አብረን ነው የምንኖረው አሁን ግን አንዱ ፓርቲ ኦዖሮሞ ነው ላል አንዱ ደግሞ Amhara ነው ይላል ይህን እግር መንግስት ወሎ ክፍለሀገር ተብሎ እንዲቀጥል ህዝቡን በማነጋገር ሰላም ቢፈጥር ጦርነት ይብቃን አሳስቡልን ኢቲቪ ህዝቡን አወያዩ፡፡   \n",
       "58                                           ጠ/ሚ አሁን ለAmhara ጥላቻ እንዳለባቸው የሚያሳየው ልዩ ሀይሉ ከመከላከያ እኩል ተዋግቶ Mekele ጀነራሎቸን ሲሰበስቡና በተወካዮች ምክር ቤት ስመሰጋገኑ የAmharaን ልዩ ሀይል አላነሱም ይህ ምንያሳያል ኢቲቪ ይህን ሀሳብ አስተላልፉልን፡፡   \n",
       "59                    ም/ወለጋ ላይ መከላከያን አስወጡ ኔቶርክ አቋረጡ ከዛ የAmhara ብሄር አስጨፈጨፉ ኔቶርክ በማ ቁጥጥር ስር ነው ዌስ መንግስት አገሪቱን የመጠበቅ መረጃ የለውም አይታመንም ህዝብ እየታዘባቸው ነው ኢቲቪ ነፃ የሆነ ሚዲያ አይደለም እውነቱን አትዘግቡም ግን እናሳውቃችሁ ብልን ነው፡፡   \n",
       "\n",
       "    Fb_Day  Fb_Month  Fb_Year  Feedback_len  \n",
       "16       1         1   2008.0           188  \n",
       "28       1         1   2008.0           146  \n",
       "49       1         1   2008.0           195  \n",
       "58       1         1   2008.0           154  \n",
       "59       1         1   2008.0           177  "
      ]
     },
     "execution_count": 84,
     "metadata": {},
     "output_type": "execute_result"
    }
   ],
   "source": [
    "df_clean[df_clean.Feedback_len > 140].head()"
   ]
  },
  {
   "cell_type": "code",
   "execution_count": 85,
   "metadata": {
    "ExecuteTime": {
     "end_time": "2020-09-15T19:09:39.848296Z",
     "start_time": "2020-09-15T19:09:39.835126Z"
    }
   },
   "outputs": [
    {
     "data": {
      "text/html": [
       "<div>\n",
       "<style scoped>\n",
       "    .dataframe tbody tr th:only-of-type {\n",
       "        vertical-align: middle;\n",
       "    }\n",
       "\n",
       "    .dataframe tbody tr th {\n",
       "        vertical-align: top;\n",
       "    }\n",
       "\n",
       "    .dataframe thead th {\n",
       "        text-align: right;\n",
       "    }\n",
       "</style>\n",
       "<table border=\"1\" class=\"dataframe\">\n",
       "  <thead>\n",
       "    <tr style=\"text-align: right;\">\n",
       "      <th></th>\n",
       "      <th>Region</th>\n",
       "      <th>Sex</th>\n",
       "      <th>Age</th>\n",
       "      <th>Edu_Level</th>\n",
       "      <th>Feedback</th>\n",
       "      <th>Fb_Day</th>\n",
       "      <th>Fb_Month</th>\n",
       "      <th>Fb_Year</th>\n",
       "      <th>Feedback_len</th>\n",
       "    </tr>\n",
       "  </thead>\n",
       "  <tbody>\n",
       "    <tr>\n",
       "      <th>108</th>\n",
       "      <td>A A</td>\n",
       "      <td>M</td>\n",
       "      <td>73</td>\n",
       "      <td>Dip</td>\n",
       "      <td>የመንገድ ፈንድ ክፍያ ለመክፈል ትኬት የለንም ብለው ፖስታቤት ላኩን ፖስታቤት 5 ሺህ ሰው በላይ ተሰልፎ እየተገላታ ነው ትኬት የለንም ብለው ቀኑ የተወሰነ ነው ከላፈ ወይም ቀድሞ አይከፈልም አሁን ቅጣት ለመቅጣት ነው ኢቲቪ መቶ የሚመለከተውን ቢጤቅልን፡፡ 0911489756</td>\n",
       "      <td>1</td>\n",
       "      <td>1</td>\n",
       "      <td>2008.0</td>\n",
       "      <td>171</td>\n",
       "    </tr>\n",
       "    <tr>\n",
       "      <th>1341</th>\n",
       "      <td>Oromiya</td>\n",
       "      <td>M</td>\n",
       "      <td>49</td>\n",
       "      <td>Ele</td>\n",
       "      <td>የኢሀDegree መንግስት ነጋዴውን ፣የቤት አካራዮችን የግል ትምህርት ቤቶችን ምንም አይቆጣጠርም እየሰራ ያለው ከድሀ ህዝብ ጋር ሳይሆን ከሀብታም ጋር ነው ይህ ደግሞ ድሀውን ህዝብ እየጎዳ ነው ለመንግስት ችግር እንደሚፈጥር ነው ኢቢሲ አሳውቁልን ችግር ከመፈጠሩ በፊት፡፡</td>\n",
       "      <td>9</td>\n",
       "      <td>3</td>\n",
       "      <td>2011.0</td>\n",
       "      <td>171</td>\n",
       "    </tr>\n",
       "    <tr>\n",
       "      <th>1982</th>\n",
       "      <td>Debub</td>\n",
       "      <td>F</td>\n",
       "      <td>22</td>\n",
       "      <td>Cert</td>\n",
       "      <td>ረቡእ እና እሁድ 3፡30 በብሄራዊ ሬድዮ በፖፕሌሽን ሚዲያ ሴንተር የሚተላለፈው የብርሀን አጥናፍ የሚለው ድራማ አስተማሪና አዝናኝ ነው፡፡ለምሳሌ፡-ለወጣቶች አልባሌ ቦታ መዋል እንደሌለባቸው፣ ከሱስ መጠበቅ እንዳለባቸውና እንድሁም ስለ ሙስና የተለያዩ ግንዛቤዎችን ይሰጣል፡፡</td>\n",
       "      <td>13</td>\n",
       "      <td>3</td>\n",
       "      <td>2012.0</td>\n",
       "      <td>171</td>\n",
       "    </tr>\n",
       "  </tbody>\n",
       "</table>\n",
       "</div>"
      ],
      "text/plain": [
       "       Region Sex Age Edu_Level  \\\n",
       "108       A A   M  73       Dip   \n",
       "1341  Oromiya   M  49       Ele   \n",
       "1982    Debub   F  22      Cert   \n",
       "\n",
       "                                                                                                                                                                         Feedback  \\\n",
       "108   የመንገድ ፈንድ ክፍያ ለመክፈል ትኬት የለንም ብለው ፖስታቤት ላኩን ፖስታቤት 5 ሺህ ሰው በላይ ተሰልፎ እየተገላታ ነው ትኬት የለንም ብለው ቀኑ የተወሰነ ነው ከላፈ ወይም ቀድሞ አይከፈልም አሁን ቅጣት ለመቅጣት ነው ኢቲቪ መቶ የሚመለከተውን ቢጤቅልን፡፡ 0911489756   \n",
       "1341  የኢሀDegree መንግስት ነጋዴውን ፣የቤት አካራዮችን የግል ትምህርት ቤቶችን ምንም አይቆጣጠርም እየሰራ ያለው ከድሀ ህዝብ ጋር ሳይሆን ከሀብታም ጋር ነው ይህ ደግሞ ድሀውን ህዝብ እየጎዳ ነው ለመንግስት ችግር እንደሚፈጥር ነው ኢቢሲ አሳውቁልን ችግር ከመፈጠሩ በፊት፡፡    \n",
       "1982  ረቡእ እና እሁድ 3፡30 በብሄራዊ ሬድዮ በፖፕሌሽን ሚዲያ ሴንተር የሚተላለፈው የብርሀን አጥናፍ የሚለው ድራማ አስተማሪና አዝናኝ ነው፡፡ለምሳሌ፡-ለወጣቶች አልባሌ ቦታ መዋል እንደሌለባቸው፣ ከሱስ መጠበቅ እንዳለባቸውና እንድሁም ስለ ሙስና የተለያዩ ግንዛቤዎችን ይሰጣል፡፡   \n",
       "\n",
       "      Fb_Day  Fb_Month  Fb_Year  Feedback_len  \n",
       "108        1         1   2008.0           171  \n",
       "1341       9         3   2011.0           171  \n",
       "1982      13         3   2012.0           171  "
      ]
     },
     "execution_count": 85,
     "metadata": {},
     "output_type": "execute_result"
    }
   ],
   "source": [
    "df_clean[df_clean.Feedback_len == 171]"
   ]
  },
  {
   "cell_type": "code",
   "execution_count": 86,
   "metadata": {},
   "outputs": [
    {
     "data": {
      "text/html": [
       "<div>\n",
       "<style scoped>\n",
       "    .dataframe tbody tr th:only-of-type {\n",
       "        vertical-align: middle;\n",
       "    }\n",
       "\n",
       "    .dataframe tbody tr th {\n",
       "        vertical-align: top;\n",
       "    }\n",
       "\n",
       "    .dataframe thead th {\n",
       "        text-align: right;\n",
       "    }\n",
       "</style>\n",
       "<table border=\"1\" class=\"dataframe\">\n",
       "  <thead>\n",
       "    <tr style=\"text-align: right;\">\n",
       "      <th></th>\n",
       "      <th>Region</th>\n",
       "      <th>Sex</th>\n",
       "      <th>Age</th>\n",
       "      <th>Edu_Level</th>\n",
       "      <th>Feedback</th>\n",
       "      <th>Fb_Day</th>\n",
       "      <th>Fb_Month</th>\n",
       "      <th>Fb_Year</th>\n",
       "    </tr>\n",
       "    <tr>\n",
       "      <th>id</th>\n",
       "      <th></th>\n",
       "      <th></th>\n",
       "      <th></th>\n",
       "      <th></th>\n",
       "      <th></th>\n",
       "      <th></th>\n",
       "      <th></th>\n",
       "      <th></th>\n",
       "    </tr>\n",
       "  </thead>\n",
       "  <tbody>\n",
       "  </tbody>\n",
       "</table>\n",
       "</div>"
      ],
      "text/plain": [
       "Empty DataFrame\n",
       "Columns: [Region, Sex, Age, Edu_Level, Feedback, Fb_Day, Fb_Month, Fb_Year]\n",
       "Index: []"
      ]
     },
     "execution_count": 86,
     "metadata": {},
     "output_type": "execute_result"
    }
   ],
   "source": [
    "df[df['Feedback'] == 0].head(10)"
   ]
  },
  {
   "cell_type": "code",
   "execution_count": 87,
   "metadata": {},
   "outputs": [
    {
     "data": {
      "text/html": [
       "<div>\n",
       "<style scoped>\n",
       "    .dataframe tbody tr th:only-of-type {\n",
       "        vertical-align: middle;\n",
       "    }\n",
       "\n",
       "    .dataframe tbody tr th {\n",
       "        vertical-align: top;\n",
       "    }\n",
       "\n",
       "    .dataframe thead th {\n",
       "        text-align: right;\n",
       "    }\n",
       "</style>\n",
       "<table border=\"1\" class=\"dataframe\">\n",
       "  <thead>\n",
       "    <tr style=\"text-align: right;\">\n",
       "      <th></th>\n",
       "      <th>Region</th>\n",
       "      <th>Sex</th>\n",
       "      <th>Age</th>\n",
       "      <th>Edu_Level</th>\n",
       "      <th>Feedback</th>\n",
       "      <th>Fb_Day</th>\n",
       "      <th>Fb_Month</th>\n",
       "      <th>Fb_Year</th>\n",
       "      <th>Feedback_len</th>\n",
       "    </tr>\n",
       "  </thead>\n",
       "  <tbody>\n",
       "    <tr>\n",
       "      <th>0</th>\n",
       "      <td>Debub</td>\n",
       "      <td>M</td>\n",
       "      <td>50</td>\n",
       "      <td>Cert</td>\n",
       "      <td>ኢቲቪ ሰራተኞች በሙሉ እንኳን ለገና በአል በሰላም አደረሳችሁ፡፡</td>\n",
       "      <td>1</td>\n",
       "      <td>1</td>\n",
       "      <td>2008.0</td>\n",
       "      <td>40</td>\n",
       "    </tr>\n",
       "    <tr>\n",
       "      <th>1</th>\n",
       "      <td>Debub</td>\n",
       "      <td>M</td>\n",
       "      <td>50</td>\n",
       "      <td>Cert</td>\n",
       "      <td>መንግስት በአገራችን በደረሰው የተለያዩ ችግሮች ላይ እየወሰደ ያለው እርምጃ በጣም ጥሩ ነው በዚሁ ይቀጥል፡፡</td>\n",
       "      <td>1</td>\n",
       "      <td>1</td>\n",
       "      <td>2008.0</td>\n",
       "      <td>68</td>\n",
       "    </tr>\n",
       "    <tr>\n",
       "      <th>2</th>\n",
       "      <td>Debub</td>\n",
       "      <td>M</td>\n",
       "      <td>50</td>\n",
       "      <td>Cert</td>\n",
       "      <td>ኢቲቪ ደግሞ በዜና በወቅታዊ ጉዳዮች ላይ እውነት ለመናገር በጣም ጥሩ እየሰራችሁ ነው በርቱ፡፡</td>\n",
       "      <td>1</td>\n",
       "      <td>1</td>\n",
       "      <td>2008.0</td>\n",
       "      <td>59</td>\n",
       "    </tr>\n",
       "    <tr>\n",
       "      <th>3</th>\n",
       "      <td>Debub</td>\n",
       "      <td>M</td>\n",
       "      <td>50</td>\n",
       "      <td>Cert</td>\n",
       "      <td>ኢቲቪ ቢሰራ የምንለው ህዝቡ ስሩን የሰደደው የህዋት አስተዳደር አሁንም ባሉት አመራሮች እየተተገበረ ስለሆነ ወደታች ወርዳችሁ ብትሰሩ የበለጠ ተሰሚ ትሆናለችሁ አገርንም በሰላም ታስቀጥላላችሁ ሀላፊነታችሁን ተወጡ፡፡</td>\n",
       "      <td>1</td>\n",
       "      <td>1</td>\n",
       "      <td>2008.0</td>\n",
       "      <td>134</td>\n",
       "    </tr>\n",
       "    <tr>\n",
       "      <th>4</th>\n",
       "      <td>Debub</td>\n",
       "      <td>M</td>\n",
       "      <td>30</td>\n",
       "      <td>Sec. Sc</td>\n",
       "      <td>ኢቲቪ ዜና 57 ላይ የሚቀርቡት ወቅታዊ ዜናዎች በሀገርና በውጭ በጣም ጥሩ መረጃ እያገኝን ነው፡፡</td>\n",
       "      <td>1</td>\n",
       "      <td>1</td>\n",
       "      <td>2008.0</td>\n",
       "      <td>61</td>\n",
       "    </tr>\n",
       "  </tbody>\n",
       "</table>\n",
       "</div>"
      ],
      "text/plain": [
       "  Region Sex Age Edu_Level  \\\n",
       "0  Debub   M  50      Cert   \n",
       "1  Debub   M  50      Cert   \n",
       "2  Debub   M  50      Cert   \n",
       "3  Debub   M  50      Cert   \n",
       "4  Debub   M  30   Sec. Sc   \n",
       "\n",
       "                                                                                                                                 Feedback  \\\n",
       "0                                                                                                ኢቲቪ ሰራተኞች በሙሉ እንኳን ለገና በአል በሰላም አደረሳችሁ፡፡   \n",
       "1                                                                    መንግስት በአገራችን በደረሰው የተለያዩ ችግሮች ላይ እየወሰደ ያለው እርምጃ በጣም ጥሩ ነው በዚሁ ይቀጥል፡፡   \n",
       "2                                                                             ኢቲቪ ደግሞ በዜና በወቅታዊ ጉዳዮች ላይ እውነት ለመናገር በጣም ጥሩ እየሰራችሁ ነው በርቱ፡፡   \n",
       "3  ኢቲቪ ቢሰራ የምንለው ህዝቡ ስሩን የሰደደው የህዋት አስተዳደር አሁንም ባሉት አመራሮች እየተተገበረ ስለሆነ ወደታች ወርዳችሁ ብትሰሩ የበለጠ ተሰሚ ትሆናለችሁ አገርንም በሰላም ታስቀጥላላችሁ ሀላፊነታችሁን ተወጡ፡፡   \n",
       "4                                                                           ኢቲቪ ዜና 57 ላይ የሚቀርቡት ወቅታዊ ዜናዎች በሀገርና በውጭ በጣም ጥሩ መረጃ እያገኝን ነው፡፡   \n",
       "\n",
       "   Fb_Day  Fb_Month  Fb_Year  Feedback_len  \n",
       "0       1         1   2008.0            40  \n",
       "1       1         1   2008.0            68  \n",
       "2       1         1   2008.0            59  \n",
       "3       1         1   2008.0           134  \n",
       "4       1         1   2008.0            61  "
      ]
     },
     "execution_count": 87,
     "metadata": {},
     "output_type": "execute_result"
    }
   ],
   "source": [
    "df_clean.head()"
   ]
  },
  {
   "cell_type": "code",
   "execution_count": null,
   "metadata": {},
   "outputs": [],
   "source": []
  },
  {
   "cell_type": "code",
   "execution_count": null,
   "metadata": {},
   "outputs": [],
   "source": []
  },
  {
   "cell_type": "code",
   "execution_count": null,
   "metadata": {},
   "outputs": [],
   "source": []
  },
  {
   "cell_type": "code",
   "execution_count": null,
   "metadata": {},
   "outputs": [],
   "source": []
  },
  {
   "cell_type": "code",
   "execution_count": null,
   "metadata": {},
   "outputs": [],
   "source": []
  },
  {
   "cell_type": "code",
   "execution_count": null,
   "metadata": {},
   "outputs": [],
   "source": []
  }
 ],
 "metadata": {
  "kernelspec": {
   "display_name": "Python 3",
   "language": "python",
   "name": "python3"
  },
  "language_info": {
   "codemirror_mode": {
    "name": "ipython",
    "version": 3
   },
   "file_extension": ".py",
   "mimetype": "text/x-python",
   "name": "python",
   "nbconvert_exporter": "python",
   "pygments_lexer": "ipython3",
   "version": "3.8.5"
  },
  "toc": {
   "base_numbering": 1,
   "nav_menu": {},
   "number_sections": true,
   "sideBar": true,
   "skip_h1_title": false,
   "title_cell": "Table of Contents",
   "title_sidebar": "Contents",
   "toc_cell": false,
   "toc_position": {},
   "toc_section_display": true,
   "toc_window_display": true
  },
  "varInspector": {
   "cols": {
    "lenName": 16,
    "lenType": 16,
    "lenVar": 40
   },
   "kernels_config": {
    "python": {
     "delete_cmd_postfix": "",
     "delete_cmd_prefix": "del ",
     "library": "var_list.py",
     "varRefreshCmd": "print(var_dic_list())"
    },
    "r": {
     "delete_cmd_postfix": ") ",
     "delete_cmd_prefix": "rm(",
     "library": "var_list.r",
     "varRefreshCmd": "cat(var_dic_list()) "
    }
   },
   "types_to_exclude": [
    "module",
    "function",
    "builtin_function_or_method",
    "instance",
    "_Feature"
   ],
   "window_display": false
  }
 },
 "nbformat": 4,
 "nbformat_minor": 2
}
